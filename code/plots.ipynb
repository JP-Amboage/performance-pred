{
 "cells": [
  {
   "cell_type": "code",
   "execution_count": null,
   "metadata": {},
   "outputs": [],
   "source": [
    "import matplotlib.pyplot as plt"
   ]
  },
  {
   "cell_type": "code",
   "execution_count": null,
   "metadata": {},
   "outputs": [],
   "source": [
    "'''\n",
    "r2 for different known fractions of the learning curve. Using 4hp vs 6hp search space\n",
    "'''\n",
    "lc = [0.0, 0.1, 0.25, 0.5, 0.75, 0.95]\n",
    "#4hp_300\n",
    "r2 = [0.22403961538598205, 0.8999997566529759, 0.9902491879059602, 0.9981281161265539,0.9948304924468403, 0.9957560886696417]\n",
    "plt.scatter(lc,r2)\n",
    "plt.plot(lc, r2,label=\"4 hp\")\n",
    "#6hp_300\n",
    "r2 = [0.18199650749836238, 0.8425353570944493, 0.9178920638307584, 0.9865299976933071, 0.9877538295056862, 0.9954100184701985]\n",
    "plt.scatter(lc,r2,)\n",
    "plt.plot(lc, r2, label =\"6 hp\")\n",
    "plt.xlabel(\"Known fraction of learning curve\")\n",
    "plt.ylabel(\"R^2\")\n",
    "plt.legend(loc=\"lower right\")\n",
    "plt.show()"
   ]
  }
 ],
 "metadata": {
  "language_info": {
   "name": "python"
  },
  "orig_nbformat": 4
 },
 "nbformat": 4,
 "nbformat_minor": 2
}
