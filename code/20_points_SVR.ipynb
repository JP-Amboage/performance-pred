{
 "cells": [
  {
   "cell_type": "markdown",
   "metadata": {},
   "source": [
    "Classical SVR with 20 training points that can be compared to the QSVR"
   ]
  },
  {
   "cell_type": "code",
   "execution_count": 36,
   "metadata": {},
   "outputs": [],
   "source": [
    "import matplotlib.pyplot as plt\n",
    "import numpy as np\n",
    "import pandas as pd\n",
    "import time\n",
    "from dimod import ExactSolver\n",
    "from sklearn.preprocessing import QuantileTransformer\n",
    "from sklearn.model_selection import train_test_split\n",
    "from utils import nb_utils\n",
    "from joblib import dump, load\n",
    "from sklearn.metrics import r2_score\n",
    "from sklearn.metrics import mean_squared_error\n",
    "import datetime\n",
    "from sklearn.svm import SVR"
   ]
  },
  {
   "cell_type": "code",
   "execution_count": 35,
   "metadata": {},
   "outputs": [
    {
     "name": "stdout",
     "output_type": "stream",
     "text": [
      "Total runs: 1000\n",
      "Best r2: 0.9571913553670482\n",
      "Worst r2: 0.27379587015126483\n",
      "Mean r2: 0.8889812487907528\n",
      "Std r2: 0.052448054817696176\n",
      "Median r2: 0.901411949245936\n"
     ]
    },
    {
     "data": {
      "image/png": "[encoded data removed]",
      "text/plain": [
       "<Figure size 432x288 with 1 Axes>"
      ]
     },
     "metadata": {
      "needs_background": "light"
     },
     "output_type": "display_data"
    }
   ],
   "source": [
    "# load data\n",
    "df_info = nb_utils.get_df_info('mlpf')\n",
    "df = pd.read_csv(df_info['df_path'])\n",
    "df = df.drop(df[df.loss_99 == df.loss_99.max()].index)\n",
    "\n",
    "# Select features\n",
    "curve = nb_utils.get_curve(df_info=df_info, known_curve=0.25, df=df)\n",
    "X = curve[:,[i for i in range(0,curve.shape[1],2)]]\n",
    "\n",
    "# Prediction target\n",
    "y = nb_utils.get_target(df_info,df)\n",
    "\n",
    "# Scale data\n",
    "x_scaler = QuantileTransformer(n_quantiles=50,random_state=0)\n",
    "X = x_scaler.fit_transform(X)\n",
    "y_scaler =  QuantileTransformer(n_quantiles=50,random_state=0)\n",
    "y = y_scaler.fit_transform(y.reshape(-1, 1)).ravel()\n",
    "\n",
    "rs = 0\n",
    "num_runs = 1000\n",
    "r2 = np.zeros((num_runs, 1))\n",
    "for i in range(num_runs):\n",
    "\t# train test split\n",
    "\tX_train, X_test, y_train, y_test = train_test_split(X, y, test_size=0.5, random_state=rs+i)\n",
    "\tX_train = X_train[:79,:]\n",
    "\ty_train = y_train[:79]\n",
    "\t\n",
    "\t# QSVR code\n",
    "\tmodel = SVR(epsilon = 0.02, gamma=0.1, C=67.61) # instantiate\n",
    "\t#RUN ON D-WAVE\n",
    "\tX_train, _, y_train, _ =  train_test_split(X_train, y_train, train_size=20, random_state=rs+i)\n",
    "\tmodel.fit(X_train, y_train)\n",
    "\t# evaluate QSVR\n",
    "\ty_pred = model.predict(X_test)\n",
    "\tr2[i] = r2_score(y_pred,y_test)\n",
    "\t#print(f'Finished run {i} with r2 = {r2[i,:]}')\n",
    "\n",
    "print(f'Total runs: {num_runs}')\n",
    "print(f'Best r2: {r2.max()}')\n",
    "print(f'Worst r2: {r2.min()}')\n",
    "print(f'Mean r2: {r2.mean()}')\n",
    "print(f'Std r2: {r2.std()}')\n",
    "print(f'Median r2: {np.median(r2)}')\n",
    "\n",
    "plt.hist(r2,bins = 50)\n",
    "plt.grid()\n",
    "plt.title('Classical SVR R^2 distribution 1000 runs:\\n train_size=20, test_size=148\\n epsilon=0.02, gamma=0.1, C=67.61,')\n",
    "plt.ylabel('Number of occurences')\n",
    "plt.xlabel('R^2')\n",
    "plt.show()"
   ]
  }
 ],
 "metadata": {
  "kernelspec": {
   "display_name": "Python 3.9.12 ('py39')",
   "language": "python",
   "name": "python3"
  },
  "language_info": {
   "codemirror_mode": {
    "name": "ipython",
    "version": 3
   },
   "file_extension": ".py",
   "mimetype": "text/x-python",
   "name": "python",
   "nbconvert_exporter": "python",
   "pygments_lexer": "ipython3",
   "version": "3.9.12"
  },
  "orig_nbformat": 4,
  "vscode": {
   "interpreter": {
    "hash": "1ac4248432e308955067782465497de26ed69bab2d310610bc1af3ad0fd9ab68"
   }
  }
 },
 "nbformat": 4,
 "nbformat_minor": 2
}
