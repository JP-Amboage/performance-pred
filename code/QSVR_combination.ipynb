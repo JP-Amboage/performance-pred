{
 "cells": [
  {
   "cell_type": "markdown",
   "metadata": {},
   "source": [
    "# Combine multiple QSVR trained with small data"
   ]
  },
  {
   "cell_type": "code",
   "execution_count": 47,
   "metadata": {},
   "outputs": [],
   "source": [
    "import matplotlib.pyplot as plt\n",
    "import numpy as np\n",
    "import pandas as pd\n",
    "import time\n",
    "from qa_summer.QSVR import QSVR\n",
    "from dimod import ExactSolver\n",
    "from sklearn.preprocessing import QuantileTransformer\n",
    "from sklearn.model_selection import train_test_split\n",
    "from utils import nb_utils\n",
    "from joblib import dump, load\n",
    "from sklearn.metrics import r2_score\n",
    "from sklearn.metrics import mean_squared_error\n",
    "import datetime\n",
    "from random import randint, random\n",
    "from sklearn.model_selection import cross_val_score\n",
    "from sklearn.svm import SVR\n",
    "import neal #import to use simulated annealing sampler\n",
    "from dwave.system import LazyFixedEmbeddingComposite, DWaveSampler #import to select specific sampler"
   ]
  },
  {
   "cell_type": "code",
   "execution_count": 48,
   "metadata": {},
   "outputs": [],
   "source": [
    "experiment_name = ''\n",
    "save = True\n",
    "num_splits = 10\n",
    "train_size = 80 # divisible by 20\n",
    "#date = datetime.datetime.now().strftime(\"_%Y_%m_%d-%I:%M:%S.%f_%p\")\n",
    "#experiment_name = experiment_name + date"
   ]
  },
  {
   "cell_type": "code",
   "execution_count": 49,
   "metadata": {},
   "outputs": [],
   "source": [
    "#load and scale data\n",
    "# load data\n",
    "df_info = nb_utils.get_df_info('mlpf')\n",
    "df = pd.read_csv(df_info['df_path'])\n",
    "df = df.drop(df[df.loss_99 == df.loss_99.max()].index)\n",
    "\n",
    "# Select features\n",
    "curve = nb_utils.get_curve(df_info=df_info, known_curve=0.25, df=df)\n",
    "X = curve[:,[i for i in range(0,curve.shape[1],2)]]\n",
    "\n",
    "# Prediction target\n",
    "y = nb_utils.get_target(df_info,df)\n",
    "\n",
    "# Scale data\n",
    "x_scaler = QuantileTransformer(n_quantiles=50,random_state=0)\n",
    "X = x_scaler.fit_transform(X)\n",
    "y_scaler =  QuantileTransformer(n_quantiles=50,random_state=0)\n",
    "y = y_scaler.fit_transform(y.reshape(-1, 1)).ravel()"
   ]
  },
  {
   "cell_type": "code",
   "execution_count": 50,
   "metadata": {},
   "outputs": [
    {
     "name": "stdout",
     "output_type": "stream",
     "text": [
      "Creating the QUBO Q matrix of size (120, 120)\n",
      "Extracting nodes and couplers from Q\n",
      "The problem has 120 nodes and 7140 couplers\n",
      "-> Setting sampler to: LazyFixedEmbeddingComposite(DWaveSampler()) \n"
     ]
    },
    {
     "name": "stderr",
     "output_type": "stream",
     "text": [
      "2022-08-25 16:41:45,691 dwave.cloud.client.base INFO MainThread Fetching available regions from the Metadata API at 'https://cloud.dwavesys.com/metadata/v1/'\n",
      "2022-08-25 16:41:47,038 dwave.cloud.client.base INFO MainThread Using region metadata: [Region(code='na-west-1', name='North America', endpoint='https://na-west-1.cloud.dwavesys.com/sapi/v2/'), Region(code='eu-central-1', name='Europe', endpoint='https://eu-central-1.cloud.dwavesys.com/sapi/v2/')]\n",
      "2022-08-25 16:41:47,065 dwave.cloud.client.base INFO MainThread Requested a solver that best matches feature filters={}\n",
      "2022-08-25 16:41:47,067 dwave.cloud.client.base INFO MainThread Fetching solvers according to filters={}, order_by='-num_active_qubits'\n",
      "2022-08-25 16:41:47,068 dwave.cloud.client.base INFO MainThread Fetching definitions of all available solvers\n",
      "2022-08-25 16:41:48,268 dwave.cloud.client.base INFO MainThread Received solver data for 1 solver(s).\n",
      "2022-08-25 16:41:48,344 dwave.cloud.client.base INFO MainThread Adding solver StructuredSolver(id='Advantage_system5.2')\n",
      "2022-08-25 16:41:48,355 dwave.cloud.client.base INFO MainThread Filtered solvers=[StructuredSolver(id='Advantage_system5.2')]\n"
     ]
    },
    {
     "name": "stdout",
     "output_type": "stream",
     "text": [
      "Running with 120 nodes and 7140 couplers\n",
      "Chain Breaks mean 0.013491666666666666\n",
      "Creating the QUBO Q matrix of size (120, 120)\n",
      "Extracting nodes and couplers from Q\n",
      "The problem has 120 nodes and 7140 couplers\n",
      "Running with 120 nodes and 7140 couplers\n",
      "Chain Breaks mean 0.014733333333333333\n",
      "Creating the QUBO Q matrix of size (120, 120)\n",
      "Extracting nodes and couplers from Q\n",
      "The problem has 120 nodes and 7140 couplers\n",
      "Running with 120 nodes and 7140 couplers\n",
      "Chain Breaks mean 0.014116666666666668\n",
      "Creating the QUBO Q matrix of size (120, 120)\n",
      "Extracting nodes and couplers from Q\n",
      "The problem has 120 nodes and 7140 couplers\n",
      "Running with 120 nodes and 7140 couplers\n",
      "Chain Breaks mean 0.015141666666666666\n",
      "Creating the QUBO Q matrix of size (120, 120)\n"
     ]
    },
    {
     "name": "stderr",
     "output_type": "stream",
     "text": [
      "2022-08-25 16:46:38,058 dwave.cloud.client.base INFO MainThread Using region metadata: [Region(code='na-west-1', name='North America', endpoint='https://na-west-1.cloud.dwavesys.com/sapi/v2/'), Region(code='eu-central-1', name='Europe', endpoint='https://eu-central-1.cloud.dwavesys.com/sapi/v2/')]\n",
      "2022-08-25 16:46:38,129 dwave.cloud.client.base INFO MainThread Requested a solver that best matches feature filters={}\n",
      "2022-08-25 16:46:38,130 dwave.cloud.client.base INFO MainThread Fetching solvers according to filters={}, order_by='-num_active_qubits'\n",
      "2022-08-25 16:46:38,132 dwave.cloud.client.base INFO MainThread Fetching definitions of all available solvers\n"
     ]
    },
    {
     "name": "stdout",
     "output_type": "stream",
     "text": [
      "Extracting nodes and couplers from Q\n",
      "The problem has 120 nodes and 7140 couplers\n",
      "-> Setting sampler to: LazyFixedEmbeddingComposite(DWaveSampler()) \n"
     ]
    },
    {
     "name": "stderr",
     "output_type": "stream",
     "text": [
      "2022-08-25 16:46:38,587 dwave.cloud.client.base INFO MainThread Received solver data for 1 solver(s).\n",
      "2022-08-25 16:46:38,657 dwave.cloud.client.base INFO MainThread Adding solver StructuredSolver(id='Advantage_system5.2')\n",
      "2022-08-25 16:46:38,662 dwave.cloud.client.base INFO MainThread Filtered solvers=[StructuredSolver(id='Advantage_system5.2')]\n"
     ]
    },
    {
     "name": "stdout",
     "output_type": "stream",
     "text": [
      "Running with 120 nodes and 7140 couplers\n",
      "Chain Breaks mean 0.0147\n",
      "Creating the QUBO Q matrix of size (120, 120)\n",
      "Extracting nodes and couplers from Q\n",
      "The problem has 120 nodes and 7140 couplers\n",
      "Running with 120 nodes and 7140 couplers\n",
      "Chain Breaks mean 0.014608333333333333\n",
      "Creating the QUBO Q matrix of size (120, 120)\n",
      "Extracting nodes and couplers from Q\n",
      "The problem has 120 nodes and 7140 couplers\n",
      "Running with 120 nodes and 7140 couplers\n",
      "Chain Breaks mean 0.01505\n",
      "Creating the QUBO Q matrix of size (120, 120)\n",
      "Extracting nodes and couplers from Q\n",
      "The problem has 120 nodes and 7140 couplers\n",
      "Running with 120 nodes and 7140 couplers\n",
      "Chain Breaks mean 0.014166666666666664\n",
      "Creating the QUBO Q matrix of size (120, 120)\n"
     ]
    },
    {
     "name": "stderr",
     "output_type": "stream",
     "text": [
      "2022-08-25 16:58:03,877 dwave.cloud.client.base INFO MainThread Using region metadata: [Region(code='na-west-1', name='North America', endpoint='https://na-west-1.cloud.dwavesys.com/sapi/v2/'), Region(code='eu-central-1', name='Europe', endpoint='https://eu-central-1.cloud.dwavesys.com/sapi/v2/')]\n",
      "2022-08-25 16:58:03,926 dwave.cloud.client.base INFO MainThread Requested a solver that best matches feature filters={}\n",
      "2022-08-25 16:58:03,928 dwave.cloud.client.base INFO MainThread Fetching solvers according to filters={}, order_by='-num_active_qubits'\n",
      "2022-08-25 16:58:03,930 dwave.cloud.client.base INFO MainThread Fetching definitions of all available solvers\n"
     ]
    },
    {
     "name": "stdout",
     "output_type": "stream",
     "text": [
      "Extracting nodes and couplers from Q\n",
      "The problem has 120 nodes and 7140 couplers\n",
      "-> Setting sampler to: LazyFixedEmbeddingComposite(DWaveSampler()) \n"
     ]
    },
    {
     "name": "stderr",
     "output_type": "stream",
     "text": [
      "2022-08-25 16:58:04,359 dwave.cloud.client.base INFO MainThread Received solver data for 1 solver(s).\n",
      "2022-08-25 16:58:04,409 dwave.cloud.client.base INFO MainThread Adding solver StructuredSolver(id='Advantage_system5.2')\n",
      "2022-08-25 16:58:04,411 dwave.cloud.client.base INFO MainThread Filtered solvers=[StructuredSolver(id='Advantage_system5.2')]\n"
     ]
    },
    {
     "name": "stdout",
     "output_type": "stream",
     "text": [
      "Running with 120 nodes and 7140 couplers\n",
      "Chain Breaks mean 0.010899999999999998\n",
      "Creating the QUBO Q matrix of size (120, 120)\n",
      "Extracting nodes and couplers from Q\n",
      "The problem has 120 nodes and 7140 couplers\n",
      "Running with 120 nodes and 7140 couplers\n",
      "Chain Breaks mean 0.011158333333333333\n",
      "Creating the QUBO Q matrix of size (120, 120)\n",
      "Extracting nodes and couplers from Q\n",
      "The problem has 120 nodes and 7140 couplers\n",
      "Running with 120 nodes and 7140 couplers\n",
      "Chain Breaks mean 0.011699999999999999\n",
      "Creating the QUBO Q matrix of size (120, 120)\n",
      "Extracting nodes and couplers from Q\n",
      "The problem has 120 nodes and 7140 couplers\n",
      "Running with 120 nodes and 7140 couplers\n",
      "Chain Breaks mean 0.010933333333333333\n",
      "Creating the QUBO Q matrix of size (120, 120)\n"
     ]
    },
    {
     "name": "stderr",
     "output_type": "stream",
     "text": [
      "2022-08-25 17:00:01,294 dwave.cloud.client.base INFO MainThread Using region metadata: [Region(code='na-west-1', name='North America', endpoint='https://na-west-1.cloud.dwavesys.com/sapi/v2/'), Region(code='eu-central-1', name='Europe', endpoint='https://eu-central-1.cloud.dwavesys.com/sapi/v2/')]\n",
      "2022-08-25 17:00:01,342 dwave.cloud.client.base INFO MainThread Requested a solver that best matches feature filters={}\n",
      "2022-08-25 17:00:01,345 dwave.cloud.client.base INFO MainThread Fetching solvers according to filters={}, order_by='-num_active_qubits'\n",
      "2022-08-25 17:00:01,347 dwave.cloud.client.base INFO MainThread Fetching definitions of all available solvers\n"
     ]
    },
    {
     "name": "stdout",
     "output_type": "stream",
     "text": [
      "Extracting nodes and couplers from Q\n",
      "The problem has 120 nodes and 7140 couplers\n",
      "-> Setting sampler to: LazyFixedEmbeddingComposite(DWaveSampler()) \n"
     ]
    },
    {
     "name": "stderr",
     "output_type": "stream",
     "text": [
      "2022-08-25 17:00:01,757 dwave.cloud.client.base INFO MainThread Received solver data for 1 solver(s).\n",
      "2022-08-25 17:00:01,817 dwave.cloud.client.base INFO MainThread Adding solver StructuredSolver(id='Advantage_system5.2')\n",
      "2022-08-25 17:00:01,818 dwave.cloud.client.base INFO MainThread Filtered solvers=[StructuredSolver(id='Advantage_system5.2')]\n"
     ]
    },
    {
     "name": "stdout",
     "output_type": "stream",
     "text": [
      "Running with 120 nodes and 7140 couplers\n",
      "Chain Breaks mean 0.018233333333333334\n",
      "Creating the QUBO Q matrix of size (120, 120)\n",
      "Extracting nodes and couplers from Q\n",
      "The problem has 120 nodes and 7140 couplers\n",
      "Running with 120 nodes and 7140 couplers\n",
      "Chain Breaks mean 0.017608333333333333\n",
      "Creating the QUBO Q matrix of size (120, 120)\n",
      "Extracting nodes and couplers from Q\n",
      "The problem has 120 nodes and 7140 couplers\n",
      "Running with 120 nodes and 7140 couplers\n",
      "Chain Breaks mean 0.015825\n",
      "Creating the QUBO Q matrix of size (120, 120)\n",
      "Extracting nodes and couplers from Q\n",
      "The problem has 120 nodes and 7140 couplers\n",
      "Running with 120 nodes and 7140 couplers\n",
      "Chain Breaks mean 0.01686666666666667\n",
      "Creating the QUBO Q matrix of size (120, 120)\n"
     ]
    },
    {
     "name": "stderr",
     "output_type": "stream",
     "text": [
      "2022-08-25 17:03:16,553 dwave.cloud.client.base INFO MainThread Using region metadata: [Region(code='na-west-1', name='North America', endpoint='https://na-west-1.cloud.dwavesys.com/sapi/v2/'), Region(code='eu-central-1', name='Europe', endpoint='https://eu-central-1.cloud.dwavesys.com/sapi/v2/')]\n",
      "2022-08-25 17:03:16,645 dwave.cloud.client.base INFO MainThread Requested a solver that best matches feature filters={}\n",
      "2022-08-25 17:03:16,647 dwave.cloud.client.base INFO MainThread Fetching solvers according to filters={}, order_by='-num_active_qubits'\n",
      "2022-08-25 17:03:16,650 dwave.cloud.client.base INFO MainThread Fetching definitions of all available solvers\n"
     ]
    },
    {
     "name": "stdout",
     "output_type": "stream",
     "text": [
      "Extracting nodes and couplers from Q\n",
      "The problem has 120 nodes and 7140 couplers\n",
      "-> Setting sampler to: LazyFixedEmbeddingComposite(DWaveSampler()) \n"
     ]
    },
    {
     "name": "stderr",
     "output_type": "stream",
     "text": [
      "2022-08-25 17:03:19,894 dwave.cloud.client.base INFO MainThread Received solver data for 1 solver(s).\n",
      "2022-08-25 17:03:19,950 dwave.cloud.client.base INFO MainThread Adding solver StructuredSolver(id='Advantage_system5.2')\n",
      "2022-08-25 17:03:19,951 dwave.cloud.client.base INFO MainThread Filtered solvers=[StructuredSolver(id='Advantage_system5.2')]\n"
     ]
    },
    {
     "name": "stdout",
     "output_type": "stream",
     "text": [
      "Running with 120 nodes and 7140 couplers\n",
      "Chain Breaks mean 0.017633333333333334\n",
      "Creating the QUBO Q matrix of size (120, 120)\n",
      "Extracting nodes and couplers from Q\n",
      "The problem has 120 nodes and 7140 couplers\n",
      "Running with 120 nodes and 7140 couplers\n",
      "Chain Breaks mean 0.016908333333333334\n",
      "Creating the QUBO Q matrix of size (120, 120)\n",
      "Extracting nodes and couplers from Q\n",
      "The problem has 120 nodes and 7140 couplers\n",
      "Running with 120 nodes and 7140 couplers\n",
      "Chain Breaks mean 0.0175\n",
      "Creating the QUBO Q matrix of size (120, 120)\n",
      "Extracting nodes and couplers from Q\n",
      "The problem has 120 nodes and 7140 couplers\n",
      "Running with 120 nodes and 7140 couplers\n",
      "Chain Breaks mean 0.017974999999999998\n",
      "Creating the QUBO Q matrix of size (120, 120)\n"
     ]
    },
    {
     "name": "stderr",
     "output_type": "stream",
     "text": [
      "2022-08-25 17:06:49,573 dwave.cloud.client.base INFO MainThread Using region metadata: [Region(code='na-west-1', name='North America', endpoint='https://na-west-1.cloud.dwavesys.com/sapi/v2/'), Region(code='eu-central-1', name='Europe', endpoint='https://eu-central-1.cloud.dwavesys.com/sapi/v2/')]\n",
      "2022-08-25 17:06:49,664 dwave.cloud.client.base INFO MainThread Requested a solver that best matches feature filters={}\n",
      "2022-08-25 17:06:49,665 dwave.cloud.client.base INFO MainThread Fetching solvers according to filters={}, order_by='-num_active_qubits'\n",
      "2022-08-25 17:06:49,668 dwave.cloud.client.base INFO MainThread Fetching definitions of all available solvers\n"
     ]
    },
    {
     "name": "stdout",
     "output_type": "stream",
     "text": [
      "Extracting nodes and couplers from Q\n",
      "The problem has 120 nodes and 7140 couplers\n",
      "-> Setting sampler to: LazyFixedEmbeddingComposite(DWaveSampler()) \n"
     ]
    },
    {
     "name": "stderr",
     "output_type": "stream",
     "text": [
      "2022-08-25 17:06:50,195 dwave.cloud.client.base INFO MainThread Received solver data for 1 solver(s).\n",
      "2022-08-25 17:06:50,248 dwave.cloud.client.base INFO MainThread Adding solver StructuredSolver(id='Advantage_system5.2')\n",
      "2022-08-25 17:06:50,251 dwave.cloud.client.base INFO MainThread Filtered solvers=[StructuredSolver(id='Advantage_system5.2')]\n"
     ]
    },
    {
     "name": "stdout",
     "output_type": "stream",
     "text": [
      "Running with 120 nodes and 7140 couplers\n",
      "Chain Breaks mean 0.017741666666666666\n",
      "Creating the QUBO Q matrix of size (120, 120)\n",
      "Extracting nodes and couplers from Q\n",
      "The problem has 120 nodes and 7140 couplers\n",
      "Running with 120 nodes and 7140 couplers\n",
      "Chain Breaks mean 0.017341666666666665\n",
      "Creating the QUBO Q matrix of size (120, 120)\n",
      "Extracting nodes and couplers from Q\n",
      "The problem has 120 nodes and 7140 couplers\n",
      "Running with 120 nodes and 7140 couplers\n",
      "Chain Breaks mean 0.01735\n",
      "Creating the QUBO Q matrix of size (120, 120)\n",
      "Extracting nodes and couplers from Q\n",
      "The problem has 120 nodes and 7140 couplers\n",
      "Running with 120 nodes and 7140 couplers\n",
      "Chain Breaks mean 0.018283333333333332\n",
      "Creating the QUBO Q matrix of size (120, 120)\n"
     ]
    },
    {
     "name": "stderr",
     "output_type": "stream",
     "text": [
      "2022-08-25 17:09:50,491 dwave.cloud.client.base INFO MainThread Using region metadata: [Region(code='na-west-1', name='North America', endpoint='https://na-west-1.cloud.dwavesys.com/sapi/v2/'), Region(code='eu-central-1', name='Europe', endpoint='https://eu-central-1.cloud.dwavesys.com/sapi/v2/')]\n",
      "2022-08-25 17:09:50,584 dwave.cloud.client.base INFO MainThread Requested a solver that best matches feature filters={}\n",
      "2022-08-25 17:09:50,587 dwave.cloud.client.base INFO MainThread Fetching solvers according to filters={}, order_by='-num_active_qubits'\n",
      "2022-08-25 17:09:50,588 dwave.cloud.client.base INFO MainThread Fetching definitions of all available solvers\n"
     ]
    },
    {
     "name": "stdout",
     "output_type": "stream",
     "text": [
      "Extracting nodes and couplers from Q\n",
      "The problem has 120 nodes and 7140 couplers\n",
      "-> Setting sampler to: LazyFixedEmbeddingComposite(DWaveSampler()) \n"
     ]
    },
    {
     "name": "stderr",
     "output_type": "stream",
     "text": [
      "2022-08-25 17:10:00,137 dwave.cloud.client.base INFO MainThread Received solver data for 1 solver(s).\n",
      "2022-08-25 17:10:00,256 dwave.cloud.client.base INFO MainThread Adding solver StructuredSolver(id='Advantage_system5.2')\n",
      "2022-08-25 17:10:00,259 dwave.cloud.client.base INFO MainThread Filtered solvers=[StructuredSolver(id='Advantage_system5.2')]\n"
     ]
    },
    {
     "name": "stdout",
     "output_type": "stream",
     "text": [
      "Running with 120 nodes and 7140 couplers\n",
      "Chain Breaks mean 0.01290833333333333\n",
      "Creating the QUBO Q matrix of size (120, 120)\n",
      "Extracting nodes and couplers from Q\n",
      "The problem has 120 nodes and 7140 couplers\n",
      "Running with 120 nodes and 7140 couplers\n",
      "Chain Breaks mean 0.01385833333333333\n",
      "Creating the QUBO Q matrix of size (120, 120)\n",
      "Extracting nodes and couplers from Q\n",
      "The problem has 120 nodes and 7140 couplers\n",
      "Running with 120 nodes and 7140 couplers\n",
      "Chain Breaks mean 0.012916666666666667\n",
      "Creating the QUBO Q matrix of size (120, 120)\n",
      "Extracting nodes and couplers from Q\n",
      "The problem has 120 nodes and 7140 couplers\n",
      "Running with 120 nodes and 7140 couplers\n",
      "Chain Breaks mean 0.013016666666666666\n",
      "Creating the QUBO Q matrix of size (120, 120)\n"
     ]
    },
    {
     "name": "stderr",
     "output_type": "stream",
     "text": [
      "2022-08-25 17:12:18,127 dwave.cloud.client.base INFO MainThread Using region metadata: [Region(code='na-west-1', name='North America', endpoint='https://na-west-1.cloud.dwavesys.com/sapi/v2/'), Region(code='eu-central-1', name='Europe', endpoint='https://eu-central-1.cloud.dwavesys.com/sapi/v2/')]\n",
      "2022-08-25 17:12:18,230 dwave.cloud.client.base INFO MainThread Requested a solver that best matches feature filters={}\n",
      "2022-08-25 17:12:18,232 dwave.cloud.client.base INFO MainThread Fetching solvers according to filters={}, order_by='-num_active_qubits'\n",
      "2022-08-25 17:12:18,241 dwave.cloud.client.base INFO MainThread Fetching definitions of all available solvers\n"
     ]
    },
    {
     "name": "stdout",
     "output_type": "stream",
     "text": [
      "Extracting nodes and couplers from Q\n",
      "The problem has 120 nodes and 7140 couplers\n",
      "-> Setting sampler to: LazyFixedEmbeddingComposite(DWaveSampler()) \n"
     ]
    },
    {
     "name": "stderr",
     "output_type": "stream",
     "text": [
      "2022-08-25 17:12:18,771 dwave.cloud.client.base INFO MainThread Received solver data for 1 solver(s).\n",
      "2022-08-25 17:12:18,850 dwave.cloud.client.base INFO MainThread Adding solver StructuredSolver(id='Advantage_system5.2')\n",
      "2022-08-25 17:12:18,852 dwave.cloud.client.base INFO MainThread Filtered solvers=[StructuredSolver(id='Advantage_system5.2')]\n"
     ]
    },
    {
     "name": "stdout",
     "output_type": "stream",
     "text": [
      "Running with 120 nodes and 7140 couplers\n",
      "Chain Breaks mean 0.014375\n",
      "Creating the QUBO Q matrix of size (120, 120)\n",
      "Extracting nodes and couplers from Q\n",
      "The problem has 120 nodes and 7140 couplers\n",
      "Running with 120 nodes and 7140 couplers\n",
      "Chain Breaks mean 0.014808333333333333\n",
      "Creating the QUBO Q matrix of size (120, 120)\n",
      "Extracting nodes and couplers from Q\n",
      "The problem has 120 nodes and 7140 couplers\n",
      "Running with 120 nodes and 7140 couplers\n",
      "Chain Breaks mean 0.014425\n",
      "Creating the QUBO Q matrix of size (120, 120)\n",
      "Extracting nodes and couplers from Q\n",
      "The problem has 120 nodes and 7140 couplers\n",
      "Running with 120 nodes and 7140 couplers\n",
      "Chain Breaks mean 0.014849999999999999\n",
      "Creating the QUBO Q matrix of size (120, 120)\n"
     ]
    },
    {
     "name": "stderr",
     "output_type": "stream",
     "text": [
      "2022-08-25 17:15:10,491 dwave.cloud.client.base INFO MainThread Using region metadata: [Region(code='na-west-1', name='North America', endpoint='https://na-west-1.cloud.dwavesys.com/sapi/v2/'), Region(code='eu-central-1', name='Europe', endpoint='https://eu-central-1.cloud.dwavesys.com/sapi/v2/')]\n",
      "2022-08-25 17:15:10,586 dwave.cloud.client.base INFO MainThread Requested a solver that best matches feature filters={}\n",
      "2022-08-25 17:15:10,587 dwave.cloud.client.base INFO MainThread Fetching solvers according to filters={}, order_by='-num_active_qubits'\n",
      "2022-08-25 17:15:10,588 dwave.cloud.client.base INFO MainThread Fetching definitions of all available solvers\n"
     ]
    },
    {
     "name": "stdout",
     "output_type": "stream",
     "text": [
      "Extracting nodes and couplers from Q\n",
      "The problem has 120 nodes and 7140 couplers\n",
      "-> Setting sampler to: LazyFixedEmbeddingComposite(DWaveSampler()) \n"
     ]
    },
    {
     "name": "stderr",
     "output_type": "stream",
     "text": [
      "2022-08-25 17:15:20,564 dwave.cloud.client.base INFO MainThread Received solver data for 1 solver(s).\n",
      "2022-08-25 17:15:20,639 dwave.cloud.client.base INFO MainThread Adding solver StructuredSolver(id='Advantage_system5.2')\n",
      "2022-08-25 17:15:20,641 dwave.cloud.client.base INFO MainThread Filtered solvers=[StructuredSolver(id='Advantage_system5.2')]\n"
     ]
    },
    {
     "name": "stdout",
     "output_type": "stream",
     "text": [
      "Running with 120 nodes and 7140 couplers\n",
      "Chain Breaks mean 0.018991666666666667\n",
      "Creating the QUBO Q matrix of size (120, 120)\n",
      "Extracting nodes and couplers from Q\n",
      "The problem has 120 nodes and 7140 couplers\n",
      "Running with 120 nodes and 7140 couplers\n",
      "Chain Breaks mean 0.019399999999999997\n",
      "Creating the QUBO Q matrix of size (120, 120)\n",
      "Extracting nodes and couplers from Q\n",
      "The problem has 120 nodes and 7140 couplers\n",
      "Running with 120 nodes and 7140 couplers\n",
      "Chain Breaks mean 0.019008333333333332\n",
      "Creating the QUBO Q matrix of size (120, 120)\n",
      "Extracting nodes and couplers from Q\n",
      "The problem has 120 nodes and 7140 couplers\n",
      "Running with 120 nodes and 7140 couplers\n",
      "Chain Breaks mean 0.018291666666666668\n",
      "Creating the QUBO Q matrix of size (120, 120)\n"
     ]
    },
    {
     "name": "stderr",
     "output_type": "stream",
     "text": [
      "2022-08-25 17:18:33,497 dwave.cloud.client.base INFO MainThread Using region metadata: [Region(code='na-west-1', name='North America', endpoint='https://na-west-1.cloud.dwavesys.com/sapi/v2/'), Region(code='eu-central-1', name='Europe', endpoint='https://eu-central-1.cloud.dwavesys.com/sapi/v2/')]\n",
      "2022-08-25 17:18:33,589 dwave.cloud.client.base INFO MainThread Requested a solver that best matches feature filters={}\n",
      "2022-08-25 17:18:33,591 dwave.cloud.client.base INFO MainThread Fetching solvers according to filters={}, order_by='-num_active_qubits'\n",
      "2022-08-25 17:18:33,592 dwave.cloud.client.base INFO MainThread Fetching definitions of all available solvers\n"
     ]
    },
    {
     "name": "stdout",
     "output_type": "stream",
     "text": [
      "Extracting nodes and couplers from Q\n",
      "The problem has 120 nodes and 7140 couplers\n",
      "-> Setting sampler to: LazyFixedEmbeddingComposite(DWaveSampler()) \n"
     ]
    },
    {
     "name": "stderr",
     "output_type": "stream",
     "text": [
      "2022-08-25 17:18:34,073 dwave.cloud.client.base INFO MainThread Received solver data for 1 solver(s).\n",
      "2022-08-25 17:18:34,143 dwave.cloud.client.base INFO MainThread Adding solver StructuredSolver(id='Advantage_system5.2')\n",
      "2022-08-25 17:18:34,145 dwave.cloud.client.base INFO MainThread Filtered solvers=[StructuredSolver(id='Advantage_system5.2')]\n"
     ]
    },
    {
     "name": "stdout",
     "output_type": "stream",
     "text": [
      "Running with 120 nodes and 7140 couplers\n",
      "Chain Breaks mean 0.019266666666666665\n",
      "Creating the QUBO Q matrix of size (120, 120)\n",
      "Extracting nodes and couplers from Q\n",
      "The problem has 120 nodes and 7140 couplers\n",
      "Running with 120 nodes and 7140 couplers\n",
      "Chain Breaks mean 0.018299999999999997\n",
      "Creating the QUBO Q matrix of size (120, 120)\n",
      "Extracting nodes and couplers from Q\n",
      "The problem has 120 nodes and 7140 couplers\n",
      "Running with 120 nodes and 7140 couplers\n",
      "Chain Breaks mean 0.019700000000000002\n",
      "Creating the QUBO Q matrix of size (120, 120)\n",
      "Extracting nodes and couplers from Q\n",
      "The problem has 120 nodes and 7140 couplers\n",
      "Running with 120 nodes and 7140 couplers\n",
      "Chain Breaks mean 0.019683333333333337\n"
     ]
    }
   ],
   "source": [
    "'''\n",
    "WARNING: THIS CELL SENDS PROBLEMS TO D-WAVE MULTIPLE TIMES\n",
    "REMEMBRER D-WAVE AVALIABLE TIME IS LIMITED\n",
    "'''\n",
    "rs = randint(0, 2**30)\n",
    "all_r2 = np.zeros(num_splits)\n",
    "for i in range(num_splits):\n",
    "\t# train test split\n",
    "\tX_train, X_test, y_train, y_test = train_test_split(X, y, test_size=0.5, random_state=rs+i)\n",
    "\tX_train, y_train = X_train[:train_size], y_train[:train_size]\n",
    "\n",
    "\t# split the training set in subsets of 20 elements an use each one to train a different\n",
    "\ttotal = int(train_size/20)\n",
    "\ty_preds = []\n",
    "\tweights = np.zeros(total)\n",
    "\tmodel = QSVR.QSVR() # instantiate Moved outside the loop so that sub-QSVRs that will be combined can use the same embedding saving local time\n",
    "\tfor j in range(total):\n",
    "\t\tX_train_j, y_train_j = X_train[20*j:20*(j+1)], y_train[20*j:20*(j+1)]\n",
    "\t\t#model = QSVR.QSVR() # instantiate Moved outside the loop so that sub-QSVRs that will be combined can use the same embedding saving local time\n",
    "\t\t#RUN ON D-WAVE\n",
    "\t\t#set sampler\n",
    "\t\t#sampler = LazyFixedEmbeddingComposite(DWaveSampler(region='na-west-1', solver='Advantage_system6.1'))\n",
    "\t\tsampler = neal.SimulatedAnnealingSampler() #Simulated sampler doesnt use quantum time\n",
    "\t\tmodel.fit(X_train_j, y_train_j,\n",
    "\t\t\tK = 3, B = 0.5,\n",
    "\t\t\tepsilon = 0.02, k0 = 0.005,\n",
    "\t\t\txi=0.01, n_samples = 20,\n",
    "\t\t\t#num_reads = 5000,\n",
    "\t\t\tnum_reads=1000,\n",
    "\t\t\trandom_seed=rs+i+j,\n",
    "\t\t\tn_samples_for_gamma_and_C_optimizations=0,\n",
    "\t\t\tgamma=0.1, C=67.61,\n",
    "\t\t\tuse_custom_chainstrength=True,\n",
    "\t\t\tchain_mult=10,\n",
    "\t\t\t#anneal_time=40,\n",
    "\t\t\tsampler = sampler\n",
    "\t\t)\n",
    "\t\tif save: nb_utils.save_qsvr(model, 'qsvr_attrs_'+experiment_name+'_rs'+str(rs)+'_i'+str(i)+'_j'+str(j)) # save QSVR for further predictions\n",
    "\t\tremove = [x for x in range(20*j,20*(j+1))]\n",
    "\t\tX_partial_test, y_partial_test = np.delete(X_train, remove, 0), np.delete(y_train, remove, 0)\n",
    "\t\ty_partial_pred = model.predict(X_partial_test)\n",
    "\t\tpartial_r2 = np.zeros(y_partial_pred.shape[0])\n",
    "\t\tfor k in range(y_partial_pred.shape[0]):\n",
    "\t\t\tpartial_r2[k] = r2_score(y_partial_pred[k],y_partial_test)\n",
    "\t\tweights[j]=partial_r2.max()\n",
    "\t\tif weights[j] < 0: weights[j] = 0 \n",
    "\t\tmethod = partial_r2.argmax()\n",
    "\t\ty_preds.append(model.predict(X_test)[method])\n",
    "\t\t\n",
    "\t#combine predictions\n",
    "\ty_pred = np.zeros(y_test.shape[0])\n",
    "\tfor k in range(total):\n",
    "\t\ty_pred = y_pred + weights[k]*y_preds[k]\n",
    "\ty_pred = y_pred / weights.sum()\n",
    "\n",
    "\tall_r2[i] = r2_score(y_pred,y_test)"
   ]
  },
  {
   "cell_type": "code",
   "execution_count": 51,
   "metadata": {},
   "outputs": [
    {
     "name": "stdout",
     "output_type": "stream",
     "text": [
      "All r2 metrics:\n",
      "mean = 0.8990778217229403 \n",
      "max = 0.9224889002941077 \n",
      "min = 0.8745733261455606 \n",
      "median = 0.9017957908205764 \n",
      "std = 0.015316481064391176\n",
      "[0.89524831 0.90422806 0.87794839 0.91828191 0.87457333 0.9224889\n",
      " 0.90315186 0.90976909 0.90043972 0.88464864]\n"
     ]
    }
   ],
   "source": [
    "print(f'All r2 metrics:\\nmean = {all_r2.mean()} \\nmax = {all_r2.max()} \\nmin = {all_r2.min()} \\nmedian = {np.median(all_r2)} \\nstd = {all_r2.std()}')\n",
    "print(all_r2)"
   ]
  },
  {
   "cell_type": "code",
   "execution_count": 52,
   "metadata": {},
   "outputs": [
    {
     "name": "stdout",
     "output_type": "stream",
     "text": [
      "All r2 metrics:\n",
      "mean = 0.9218500066090553 \n",
      "max = 0.9437759777269824 \n",
      "min = 0.9008821879200034 \n",
      "median = 0.9166478859797293 \n",
      "std = 0.012006228408819758\n"
     ]
    },
    {
     "data": {
      "text/plain": [
       "array([0.93289407, 0.93050689, 0.914473  , 0.93269036, 0.90088219,\n",
       "       0.94377598, 0.91509265, 0.91523155, 0.91806422, 0.91488917])"
      ]
     },
     "execution_count": 52,
     "metadata": {},
     "output_type": "execute_result"
    }
   ],
   "source": [
    "dump(all_r2, 'all_r2_quantum.joblib')\n",
    "loaded_r2 = load('all_r2_80.joblib')\n",
    "print(f'All r2 metrics:\\nmean = {loaded_r2.mean()} \\nmax = {loaded_r2.max()} \\nmin = {loaded_r2.min()} \\nmedian = {np.median(loaded_r2)} \\nstd = {loaded_r2.std()}')\n",
    "loaded_r2"
   ]
  },
  {
   "cell_type": "markdown",
   "metadata": {},
   "source": [
    "### Old part for studying different combination techniques"
   ]
  },
  {
   "cell_type": "code",
   "execution_count": null,
   "metadata": {},
   "outputs": [],
   "source": [
    "'''\n",
    "WARNING: THIS CELL SENDS PROBLEMS TO D-WAVE MULTIPLE TIMES\n",
    "REMEMBRER D-WAVE AVALIABLE TIME IS LIMITED\n",
    "'''\n",
    "rs = randint(0, 2**30)\n",
    "all_r2_1 = np.zeros((num_splits, 7))\n",
    "all_r2_2 = np.zeros((num_splits, 7))\n",
    "all_r2_3 = np.zeros((num_splits, 7))\n",
    "all_r2_4 = np.zeros((num_splits, 7))\n",
    "for i in range(num_splits):\n",
    "\t# train test split\n",
    "\tX_train, X_test, y_train, y_test = train_test_split(X, y, test_size=0.5, random_state=rs+i)\n",
    "\tX_train, y_train = X_train[:train_size], y_train[:train_size]\n",
    "\n",
    "\t# split the training set in subsets of 20 elements an use each one to train a different\n",
    "\tqsvr_models_dict = []\n",
    "\t#qsvr_models = []\n",
    "\t#y_preds = []\n",
    "\ttotal = int(train_size/20)\n",
    "\tweights = np.zeros(total)\n",
    "\tfor j in range(total):\n",
    "\t\tX_train_j, y_train_j = X_train[20*j:20*(j+1)], y_train[20*j:20*(j+1)]\n",
    "\t\tmodel = QSVR.QSVR() # instantiate\n",
    "\t\t#RUN ON D-WAVE\n",
    "\t\t#set sampler\n",
    "\t\t#sampler = LazyFixedEmbeddingComposite(DWaveSampler(region='na-west-1', solver='Advantage_system6.1'))\n",
    "\t\tsampler = neal.SimulatedAnnealingSampler()\n",
    "\t\tmodel.fit(X_train_j, y_train_j,\n",
    "\t\t\tK = 3, B = 0.5,\n",
    "\t\t\tepsilon = 0.02, k0 = 0.005,\n",
    "\t\t\txi=0.01, n_samples = 20,\n",
    "\t\t\t#num_reads = 5000,\n",
    "\t\t\tnum_reads=1000,\n",
    "\t\t\trandom_seed=rs+i+j,\n",
    "\t\t\tn_samples_for_gamma_and_C_optimizations=0,\n",
    "\t\t\tgamma=0.1, C=67.61,\n",
    "\t\t\tuse_custom_chainstrength=True,\n",
    "\t\t\tchain_mult=10,\n",
    "\t\t\t#anneal_time=40,\n",
    "\t\t\tsampler=sampler\n",
    "\t\t)\n",
    "\t\tif save: nb_utils.save_qsvr(model, 'qsvr_attrs_'+experiment_name+'_rs'+str(rs)+'_i'+str(i)+'_j'+str(j)) # save QSVR for further predictions\n",
    "\t\tqsvr_models_dict.append(nb_utils.qsvr_to_pred_dict(model))\n",
    "\n",
    "\t\t#qsvr_models.append(model)\n",
    "\t\t#y_preds.append(qsvr_models[j].predict(X_test))\n",
    "\t\tremove = [x for x in range(20*j,20*(j+1))]\n",
    "\t\tX_partial_test, y_partial_test = np.delete(X_train, remove, 0), np.delete(y_train, remove, 0)\n",
    "\t\ty_partial_pred = model.predict(X_partial_test)\n",
    "\t\tpartial_r2 = np.zeros(y_partial_pred.shape[0])\n",
    "\t\tfor k in range(y_partial_pred.shape[0]):\n",
    "\t\t\tpartial_r2[k] = r2_score(y_partial_pred[k],y_partial_test)\n",
    "\t\tweights[j]=partial_r2.mean()\n",
    "\t\t\n",
    "\t# combine trained models to do predictions\n",
    "\tX_train_reshaped = qsvr_models_dict[0]['X_train_reshaped'][:]\n",
    "\tY_train = qsvr_models_dict[0]['Y_train']\n",
    "\tall_alphas = qsvr_models_dict[0]['all_alphas']\n",
    "\tfor j in range(1,int(train_size/20)):\n",
    "\t\tX_train_reshaped.extend(qsvr_models_dict[j]['X_train_reshaped'])\n",
    "\t\tY_train = np.concatenate((Y_train, qsvr_models_dict[j]['Y_train']))\n",
    "\t\tall_alphas = np.concatenate((all_alphas,qsvr_models_dict[j]['all_alphas']),axis=2)\n",
    "   \n",
    "\tcombined_model_dict = {}\n",
    "\tcombined_model_dict['X_train_reshaped'] = X_train_reshaped\n",
    "\tcombined_model_dict['Y_train'] = Y_train\n",
    "\tcombined_model_dict['all_alphas'] = all_alphas\n",
    "\tcombined_model_dict['B'] = qsvr_models_dict[0]['B']\n",
    "\tcombined_model_dict['K'] = qsvr_models_dict[0]['K']\n",
    "\tcombined_model_dict['epsilon'] = qsvr_models_dict[0]['epsilon']\n",
    "\tcombined_model_dict['best_gamma'] = qsvr_models_dict[0]['best_gamma']\n",
    "\tcombined_model_dict['best_C'] = qsvr_models_dict[0]['best_C']\n",
    "\tcombined_model_dict['change_to_logarithmic'] = qsvr_models_dict[0]['change_to_logarithmic']\n",
    "\n",
    "\tcombined_model = QSVR.QSVR() \n",
    "\t# set the QSVR attributes needed for predictions\n",
    "\tfor attr in combined_model_dict.keys():\n",
    "\t\tsetattr(combined_model, attr, combined_model_dict[attr])\n",
    "\t\n",
    "\ty_pred = combined_model.predict(X_test)\n",
    "\n",
    "\t# make use of the prediction\n",
    "\tr2_1 = []\n",
    "\tfor k in range(y_pred.shape[0]):\n",
    "\t\tr2_1.append(r2_score(y_pred[k],y_test))\n",
    "\t\n",
    "\t#second combination technique\n",
    "\ty_pred = np.zeros((7,y_test.shape[0]))\n",
    "\tfor pred_model_dict in qsvr_models_dict:\n",
    "\t\tpred_model = QSVR.QSVR()\n",
    "\t\tfor attr in pred_model_dict.keys():\n",
    "\t\t\tsetattr(pred_model, attr, pred_model_dict[attr])\n",
    "\t\ty_pred = y_pred + pred_model.predict(X_test)\n",
    "\ty_pred = y_pred / float(total)\n",
    "\tr2_2 = []\n",
    "\tfor k in range(y_pred.shape[0]):\n",
    "\t\tr2_2.append(r2_score(y_pred[k],y_test))\n",
    "\n",
    "\t#third combination technique\n",
    "\ty_pred = np.zeros((7,y_test.shape[0]))\n",
    "\tidx = 0\n",
    "\tfor pred_model_dict in qsvr_models_dict:\n",
    "\t\tpred_model = QSVR.QSVR()\n",
    "\t\tfor attr in pred_model_dict.keys():\n",
    "\t\t\tsetattr(pred_model, attr, pred_model_dict[attr])\n",
    "\t\ty_pred = y_pred + weights[idx]*pred_model.predict(X_test)\n",
    "\t\tidx = idx +1\n",
    "\ty_pred = y_pred / weights.sum()\n",
    "\tr2_3 = []\n",
    "\tfor k in range(y_pred.shape[0]):\n",
    "\t\tr2_3.append(r2_score(y_pred[k],y_test))\n",
    "\t\n",
    "\t#third combination technique\n",
    "\ty_pred = np.zeros((7,y_test.shape[0]))\n",
    "\tidx = 0\n",
    "\tweights_tr = 10**weights\n",
    "\tfor pred_model_dict in qsvr_models_dict:\n",
    "\t\tpred_model = QSVR.QSVR()\n",
    "\t\tfor attr in pred_model_dict.keys():\n",
    "\t\t\tsetattr(pred_model, attr, pred_model_dict[attr])\n",
    "\t\ty_pred = y_pred + weights[idx]*pred_model.predict(X_test)\n",
    "\t\tidx = idx +1\n",
    "\ty_pred = y_pred / weights.sum()\n",
    "\tr2_4 = []\n",
    "\tfor k in range(y_pred.shape[0]):\n",
    "\t\tr2_4.append(r2_score(y_pred[k],y_test))\n",
    "\t\n",
    "\t\n",
    "\tfor j in range(7):\n",
    "\t\tall_r2_1[i,j] = r2_1[j]\n",
    "\t\tall_r2_2[i,j] = r2_2[j]\n",
    "\t\tall_r2_3[i,j] = r2_3[j]\n",
    "\t\tall_r2_4[i,j] = r2_4[j]\n",
    "\n",
    "results_1 = {\n",
    "\t'scores norm' : all_r2_1[:,0],\n",
    "\t'scores softmax' : all_r2_1[:,1],\n",
    "\t'scores lc norm' : all_r2_1[:,2],\n",
    "\t'scores lc softmax' : all_r2_1[:,3],\n",
    "\t'best set of alphas' : all_r2_1[:,4],\n",
    "\t'simple mean' : all_r2_1[:,5],\n",
    "\t'min energy' : all_r2_1[:,6]\n",
    "}\n",
    "results_2 = {\n",
    "\t'scores norm' : all_r2_2[:,0],\n",
    "\t'scores softmax' : all_r2_2[:,1],\n",
    "\t'scores lc norm' : all_r2_2[:,2],\n",
    "\t'scores lc softmax' : all_r2_2[:,3],\n",
    "\t'best set of alphas' : all_r2_2[:,4],\n",
    "\t'simple mean' : all_r2_2[:,5],\n",
    "\t'min energy' : all_r2_2[:,6]\n",
    "}\n",
    "\n",
    "results_3 = {\n",
    "\t'scores norm' : all_r2_3[:,0],\n",
    "\t'scores softmax' : all_r2_3[:,1],\n",
    "\t'scores lc norm' : all_r2_3[:,2],\n",
    "\t'scores lc softmax' : all_r2_3[:,3],\n",
    "\t'best set of alphas' : all_r2_3[:,4],\n",
    "\t'simple mean' : all_r2_3[:,5],\n",
    "\t'min energy' : all_r2_3[:,6]\n",
    "}\n",
    "\n",
    "results_4 = {\n",
    "\t'scores norm' : all_r2_4[:,0],\n",
    "\t'scores softmax' : all_r2_4[:,1],\n",
    "\t'scores lc norm' : all_r2_4[:,2],\n",
    "\t'scores lc softmax' : all_r2_4[:,3],\n",
    "\t'best set of alphas' : all_r2_4[:,4],\n",
    "\t'simple mean' : all_r2_4[:,5],\n",
    "\t'min energy' : all_r2_4[:,6]\n",
    "}"
   ]
  },
  {
   "cell_type": "code",
   "execution_count": 55,
   "metadata": {},
   "outputs": [
    {
     "data": {
      "text/plain": [
       "['results_2_rs561525581.joblib']"
      ]
     },
     "execution_count": 55,
     "metadata": {},
     "output_type": "execute_result"
    }
   ],
   "source": [
    "dump(results_2, 'results_2_rs'+str(rs)+'.joblib')"
   ]
  },
  {
   "cell_type": "code",
   "execution_count": 51,
   "metadata": {},
   "outputs": [
    {
     "name": "stdout",
     "output_type": "stream",
     "text": [
      "All r2 metrics:\n",
      "mean = 0.9230285516029251 \n",
      "max = 0.9371091309109142 \n",
      "min = 0.8988907982478825 \n",
      "median = 0.9244619471846305 \n",
      "std = 0.010157407864016952\n"
     ]
    }
   ],
   "source": [
    "f_r2 = all_r2_2.flatten()\n",
    "print(f'All r2 metrics:\\nmean = {f_r2.mean()} \\nmax = {f_r2.max()} \\nmin = {f_r2.min()} \\nmedian = {np.median(f_r2)} \\nstd = {f_r2.std()}')"
   ]
  },
  {
   "cell_type": "code",
   "execution_count": 52,
   "metadata": {},
   "outputs": [
    {
     "name": "stdout",
     "output_type": "stream",
     "text": [
      "All r2 metrics:\n",
      "mean = 0.9232230674066298 \n",
      "max = 0.9376890106799478 \n",
      "min = 0.8991614267546353 \n",
      "median = 0.9245566573373835 \n",
      "std = 0.010165078969416217\n"
     ]
    }
   ],
   "source": [
    "f_r2 = all_r2_3.flatten()\n",
    "print(f'All r2 metrics:\\nmean = {f_r2.mean()} \\nmax = {f_r2.max()} \\nmin = {f_r2.min()} \\nmedian = {np.median(f_r2)} \\nstd = {f_r2.std()}')"
   ]
  },
  {
   "cell_type": "code",
   "execution_count": 53,
   "metadata": {},
   "outputs": [
    {
     "name": "stdout",
     "output_type": "stream",
     "text": [
      "All r2 metrics:\n",
      "mean = 0.9232230674066298 \n",
      "max = 0.9376890106799478 \n",
      "min = 0.8991614267546353 \n",
      "median = 0.9245566573373835 \n",
      "std = 0.010165078969416217\n"
     ]
    }
   ],
   "source": [
    "f_r2= all_r2_4.flatten()\n",
    "print(f'All r2 metrics:\\nmean = {f_r2.mean()} \\nmax = {f_r2.max()} \\nmin = {f_r2.min()} \\nmedian = {np.median(f_r2)} \\nstd = {f_r2.std()}')"
   ]
  },
  {
   "cell_type": "code",
   "execution_count": 46,
   "metadata": {},
   "outputs": [
    {
     "data": {
      "text/plain": [
       "{'scores norm': array([0.89254972]),\n",
       " 'scores softmax': array([0.90356923]),\n",
       " 'scores lc norm': array([0.89253391]),\n",
       " 'scores lc softmax': array([0.90330851]),\n",
       " 'best set of alphas': array([0.90356923]),\n",
       " 'simple mean': array([0.88730293]),\n",
       " 'min energy': array([0.88289149])}"
      ]
     },
     "execution_count": 46,
     "metadata": {},
     "output_type": "execute_result"
    }
   ],
   "source": [
    "results_3"
   ]
  }
 ],
 "metadata": {
  "kernelspec": {
   "display_name": "Python 3.9.12 ('py39')",
   "language": "python",
   "name": "python3"
  },
  "language_info": {
   "codemirror_mode": {
    "name": "ipython",
    "version": 3
   },
   "file_extension": ".py",
   "mimetype": "text/x-python",
   "name": "python",
   "nbconvert_exporter": "python",
   "pygments_lexer": "ipython3",
   "version": "3.9.12"
  },
  "orig_nbformat": 4,
  "vscode": {
   "interpreter": {
    "hash": "1ac4248432e308955067782465497de26ed69bab2d310610bc1af3ad0fd9ab68"
   }
  }
 },
 "nbformat": 4,
 "nbformat_minor": 2
}
