{
 "cells": [
  {
   "cell_type": "markdown",
   "metadata": {},
   "source": [
    "# Combine multiple QSVR trained with small data"
   ]
  },
  {
   "cell_type": "code",
   "execution_count": 14,
   "metadata": {},
   "outputs": [],
   "source": [
    "import matplotlib.pyplot as plt\n",
    "import numpy as np\n",
    "import pandas as pd\n",
    "import time\n",
    "from qa_summer.QSVR import QSVR\n",
    "from dimod import ExactSolver\n",
    "from sklearn.preprocessing import QuantileTransformer\n",
    "from sklearn.model_selection import train_test_split\n",
    "from utils import nb_utils\n",
    "from joblib import dump, load\n",
    "from sklearn.metrics import r2_score\n",
    "from sklearn.metrics import mean_squared_error\n",
    "import datetime\n",
    "from random import randint, random\n",
    "from sklearn.model_selection import cross_val_score\n",
    "from sklearn.svm import SVR\n",
    "import neal #import to use simulated annealing sampler\n",
    "from dwave.system import LazyFixedEmbeddingComposite, DWaveSampler #import to select specific sampler"
   ]
  },
  {
   "cell_type": "code",
   "execution_count": 40,
   "metadata": {},
   "outputs": [],
   "source": [
    "experiment_name = 'combinations'\n",
    "save = True\n",
    "num_splits = 10\n",
    "train_size = 80 # divisible by 20\n",
    "#date = datetime.datetime.now().strftime(\"_%Y_%m_%d-%I:%M:%S.%f_%p\")\n",
    "#experiment_name = experiment_name + date"
   ]
  },
  {
   "cell_type": "code",
   "execution_count": 41,
   "metadata": {},
   "outputs": [],
   "source": [
    "#load and scale data\n",
    "# load data\n",
    "df_info = nb_utils.get_df_info('mlpf')\n",
    "df = pd.read_csv(df_info['df_path'])\n",
    "df = df.drop(df[df.loss_99 == df.loss_99.max()].index)\n",
    "\n",
    "# Select features\n",
    "curve = nb_utils.get_curve(df_info=df_info, known_curve=0.25, df=df)\n",
    "X = curve[:,[i for i in range(0,curve.shape[1],2)]]\n",
    "\n",
    "# Prediction target\n",
    "y = nb_utils.get_target(df_info,df)\n",
    "\n",
    "# Scale data\n",
    "x_scaler = QuantileTransformer(n_quantiles=50,random_state=0)\n",
    "X = x_scaler.fit_transform(X)\n",
    "y_scaler =  QuantileTransformer(n_quantiles=50,random_state=0)\n",
    "y = y_scaler.fit_transform(y.reshape(-1, 1)).ravel()"
   ]
  },
  {
   "cell_type": "code",
   "execution_count": 42,
   "metadata": {},
   "outputs": [],
   "source": [
    "'''\n",
    "WARNING: THIS CELL SENDS PROBLEMS TO D-WAVE MULTIPLE TIMES\n",
    "REMEMBRER D-WAVE AVALIABLE TIME IS LIMITED\n",
    "'''\n",
    "rs = randint(0, 2**30)\n",
    "all_r2 = np.zeros(num_splits)\n",
    "all_preds = []\n",
    "model = QSVR.QSVR() # instantiate Moved outside the loop so that sub-QSVRs that will be combined can use the same embedding saving local time\n",
    "for i in range(num_splits):\n",
    "\t# train test split\n",
    "\tX_train, X_test, y_train, y_test = train_test_split(X, y, test_size=0.5, random_state=rs+i)\n",
    "\tX_train, y_train = X_train[:train_size], y_train[:train_size]\n",
    "\n",
    "\t# split the training set in subsets of 20 elements an use each one to train a different\n",
    "\ttotal = int(train_size/20)\n",
    "\ty_preds = []\n",
    "\tweights = np.zeros(total)\n",
    "\tfor j in range(total):\n",
    "\t\tX_train_j, y_train_j = X_train[20*j:20*(j+1)], y_train[20*j:20*(j+1)]\n",
    "\t\t#model = QSVR.QSVR() # instantiate Moved outside the loop so that sub-QSVRs that will be combined can use the same embedding saving local time\n",
    "\t\t#RUN ON D-WAVE\n",
    "\t\t#set sampler\n",
    "\t\t#sampler = LazyFixedEmbeddingComposite(DWaveSampler(region='na-west-1', solver='Advantage_system6.1'))\n",
    "\t\t#sampler = neal.SimulatedAnnealingSampler() #Simulated sampler doesnt use quantum time\n",
    "\t\tmodel.fit(X_train_j, y_train_j,\n",
    "\t\t\tK = 3, B = 0.5,\n",
    "\t\t\tepsilon = 0.02, k0 = 0.005,\n",
    "\t\t\txi=0.01, n_samples = 20,\n",
    "\t\t\t#num_reads = 5000,\n",
    "\t\t\tnum_reads=1000,\n",
    "\t\t\trandom_seed=rs+i+j,\n",
    "\t\t\tn_samples_for_gamma_and_C_optimizations=0,\n",
    "\t\t\tgamma=0.1, C=67.61,\n",
    "\t\t\tuse_custom_chainstrength=True,\n",
    "\t\t\tchain_mult=10\n",
    "\t\t\t#anneal_time=40,\n",
    "\t\t\t#sampler = sampler\n",
    "\t\t)\n",
    "\t\tif save: nb_utils.save_qsvr(model, 'qsvr_attrs_'+experiment_name+'_rs'+str(rs)+'_i'+str(i)+'_j'+str(j)) # save QSVR for further predictions\n",
    "\t\tremove = [x for x in range(20*j,20*(j+1))]\n",
    "\t\tX_partial_test, y_partial_test = np.delete(X_train, remove, 0), np.delete(y_train, remove, 0)\n",
    "\t\ty_partial_pred = model.predict(X_partial_test)\n",
    "\t\tpartial_r2 = np.zeros(y_partial_pred.shape[0])\n",
    "\t\tfor k in range(y_partial_pred.shape[0]):\n",
    "\t\t\tpartial_r2[k] = r2_score(y_partial_pred[k],y_partial_test)\n",
    "\t\tweights[j]=partial_r2.max()\n",
    "\t\tif weights[j] < 0: weights[j] = 0 \n",
    "\t\tmethod = partial_r2.argmax()\n",
    "\t\ty_preds.append(model.predict(X_test)[method])\n",
    "\t\t\n",
    "\t#combine predictions\n",
    "\ty_pred = np.zeros(y_test.shape[0])\n",
    "\tfor k in range(total):\n",
    "\t\ty_pred = y_pred + weights[k]*y_preds[k]\n",
    "\ty_pred = y_pred / weights.sum()\n",
    "\tall_preds.append(np.array(y_pred))\n",
    "\tall_r2[i] = r2_score(y_pred,y_test)"
   ]
  },
  {
   "cell_type": "code",
   "execution_count": 35,
   "metadata": {},
   "outputs": [],
   "source": [
    "# Save the results\n",
    "if save:\n",
    "    dump(all_r2, 'all_r2'+experiment_name+'_rs'+str(rs)+'joblib')\n",
    "    dump(all_preds,'all_preds'+experiment_name+'_rs'+str(rs)+'joblib')"
   ]
  },
  {
   "cell_type": "markdown",
   "metadata": {},
   "source": [
    "## Analize results "
   ]
  },
  {
   "cell_type": "code",
   "execution_count": 36,
   "metadata": {},
   "outputs": [],
   "source": [
    "# uncomment following line(s) if you want to analize results of a saved experiment\n",
    "#results = load('../results/good_qsvr/chain_str_10/results_eric_params_chain_10_hp_search_rs965737426.joblib')\n",
    "#rs = 965737426"
   ]
  },
  {
   "cell_type": "markdown",
   "metadata": {},
   "source": [
    "### R^2 summary"
   ]
  },
  {
   "cell_type": "code",
   "execution_count": 39,
   "metadata": {},
   "outputs": [
    {
     "name": "stdout",
     "output_type": "stream",
     "text": [
      "All r2 metrics:\n",
      "mean = 0.8992181407218812 \n",
      "max = 0.9265883056342518 \n",
      "min = 0.8566858668226855 \n",
      "median = 0.897392889798428 \n",
      "std = 0.019158684593577717\n"
     ]
    }
   ],
   "source": [
    "print(f'All r2 metrics:\\nmean = {all_r2.mean()} \\nmax = {all_r2.max()} \\nmin = {all_r2.min()} \\nmedian = {np.median(all_r2)} \\nstd = {all_r2.std()}')\n",
    "# print(all_r2)"
   ]
  },
  {
   "cell_type": "markdown",
   "metadata": {},
   "source": [
    "### True vs Predicted loss for the Combined QSVR split with best R^2"
   ]
  },
  {
   "cell_type": "code",
   "execution_count": 37,
   "metadata": {},
   "outputs": [
    {
     "name": "stdout",
     "output_type": "stream",
     "text": [
      "0.9265883056342518\n"
     ]
    },
    {
     "data": {
      "image/png": "[encoded data removed]",
      "text/plain": [
       "<Figure size 432x288 with 1 Axes>"
      ]
     },
     "metadata": {
      "needs_background": "light"
     },
     "output_type": "display_data"
    }
   ],
   "source": [
    "best_pred = all_preds[all_r2.argmax()]\n",
    "_, _, _, y_test = train_test_split(X, y, test_size=0.5, random_state=rs+all_r2.argmax())\n",
    "print(r2_score(best_pred,y_test))\n",
    "x_plot = y_scaler.inverse_transform(y_test.reshape(-1, 1))\n",
    "y_plot = y_scaler.inverse_transform(best_pred.reshape(-1, 1))\n",
    "\n",
    "plt.scatter(x_plot,y_plot,s=10)\n",
    "plt.plot([x_plot.min(),x_plot.max()],[x_plot.min(),x_plot.max()],'k')\n",
    "\n",
    "plt.xlabel(\"true loss\")\n",
    "plt.ylabel(\"predicted loss\")\n",
    "plt.grid()\n",
    "plt.title(\"Combined QSVR predicted loss vs true loss\\n $R^2$=\"+\"{:.3f}\".format(r2_score(best_pred,y_test))+\" (25% of lc known) (test data only)\")\n",
    "plt.savefig(\"../results/mlpf_combined_qsvr.png\",dpi=300)\n",
    "plt.show()\n"
   ]
  }
 ],
 "metadata": {
  "kernelspec": {
   "display_name": "Python 3.9.12 ('py39')",
   "language": "python",
   "name": "python3"
  },
  "language_info": {
   "codemirror_mode": {
    "name": "ipython",
    "version": 3
   },
   "file_extension": ".py",
   "mimetype": "text/x-python",
   "name": "python",
   "nbconvert_exporter": "python",
   "pygments_lexer": "ipython3",
   "version": "3.9.12"
  },
  "orig_nbformat": 4,
  "vscode": {
   "interpreter": {
    "hash": "1ac4248432e308955067782465497de26ed69bab2d310610bc1af3ad0fd9ab68"
   }
  }
 },
 "nbformat": 4,
 "nbformat_minor": 2
}
