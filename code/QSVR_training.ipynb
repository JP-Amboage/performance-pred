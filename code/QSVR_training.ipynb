{
 "cells": [
  {
   "cell_type": "markdown",
   "metadata": {},
   "source": [
    "# Train, run and evaluate one single SVR"
   ]
  },
  {
   "cell_type": "code",
   "execution_count": 8,
   "metadata": {},
   "outputs": [],
   "source": [
    "import matplotlib.pyplot as plt\n",
    "import numpy as np\n",
    "import pandas as pd\n",
    "import time\n",
    "from qa_summer.QSVR import QSVR\n",
    "from dimod import ExactSolver\n",
    "from sklearn.preprocessing import QuantileTransformer\n",
    "from sklearn.model_selection import train_test_split\n",
    "from utils import nb_utils\n",
    "from joblib import dump, load\n",
    "from sklearn.metrics import r2_score\n",
    "from sklearn.metrics import mean_squared_error\n",
    "import datetime\n",
    "from random import randint"
   ]
  },
  {
   "cell_type": "code",
   "execution_count": 9,
   "metadata": {},
   "outputs": [
    {
     "data": {
      "text/html": [
       "<div>\n",
       "<style scoped>\n",
       "    .dataframe tbody tr th:only-of-type {\n",
       "        vertical-align: middle;\n",
       "    }\n",
       "\n",
       "    .dataframe tbody tr th {\n",
       "        vertical-align: top;\n",
       "    }\n",
       "\n",
       "    .dataframe thead th {\n",
       "        text-align: right;\n",
       "    }\n",
       "</style>\n",
       "<table border=\"1\" class=\"dataframe\">\n",
       "  <thead>\n",
       "    <tr style=\"text-align: right;\">\n",
       "      <th></th>\n",
       "      <th>bin_size</th>\n",
       "      <th>dropout</th>\n",
       "      <th>lr</th>\n",
       "      <th>n_glayers_id</th>\n",
       "      <th>n_glayers_reg</th>\n",
       "      <th>output_dim</th>\n",
       "      <th>weight_decay</th>\n",
       "      <th>loss_0</th>\n",
       "      <th>loss_1</th>\n",
       "      <th>loss_2</th>\n",
       "      <th>...</th>\n",
       "      <th>loss_90</th>\n",
       "      <th>loss_91</th>\n",
       "      <th>loss_92</th>\n",
       "      <th>loss_93</th>\n",
       "      <th>loss_94</th>\n",
       "      <th>loss_95</th>\n",
       "      <th>loss_96</th>\n",
       "      <th>loss_97</th>\n",
       "      <th>loss_98</th>\n",
       "      <th>loss_99</th>\n",
       "    </tr>\n",
       "  </thead>\n",
       "  <tbody>\n",
       "    <tr>\n",
       "      <th>0</th>\n",
       "      <td>64.0</td>\n",
       "      <td>0.449385</td>\n",
       "      <td>0.009435</td>\n",
       "      <td>0.0</td>\n",
       "      <td>3.0</td>\n",
       "      <td>256.0</td>\n",
       "      <td>0.000044</td>\n",
       "      <td>484.088806</td>\n",
       "      <td>459.301514</td>\n",
       "      <td>455.343811</td>\n",
       "      <td>...</td>\n",
       "      <td>447.429688</td>\n",
       "      <td>447.619354</td>\n",
       "      <td>447.439209</td>\n",
       "      <td>447.404633</td>\n",
       "      <td>447.566406</td>\n",
       "      <td>447.313049</td>\n",
       "      <td>447.398407</td>\n",
       "      <td>447.414673</td>\n",
       "      <td>447.228088</td>\n",
       "      <td>447.501160</td>\n",
       "    </tr>\n",
       "    <tr>\n",
       "      <th>1</th>\n",
       "      <td>64.0</td>\n",
       "      <td>0.089148</td>\n",
       "      <td>0.000039</td>\n",
       "      <td>4.0</td>\n",
       "      <td>2.0</td>\n",
       "      <td>32.0</td>\n",
       "      <td>0.001984</td>\n",
       "      <td>533.915894</td>\n",
       "      <td>530.372620</td>\n",
       "      <td>531.893738</td>\n",
       "      <td>...</td>\n",
       "      <td>529.851562</td>\n",
       "      <td>529.258301</td>\n",
       "      <td>529.493103</td>\n",
       "      <td>530.038452</td>\n",
       "      <td>529.909546</td>\n",
       "      <td>528.990479</td>\n",
       "      <td>528.480469</td>\n",
       "      <td>528.026733</td>\n",
       "      <td>528.153503</td>\n",
       "      <td>528.540161</td>\n",
       "    </tr>\n",
       "    <tr>\n",
       "      <th>2</th>\n",
       "      <td>16.0</td>\n",
       "      <td>0.486632</td>\n",
       "      <td>0.000276</td>\n",
       "      <td>2.0</td>\n",
       "      <td>4.0</td>\n",
       "      <td>64.0</td>\n",
       "      <td>0.000065</td>\n",
       "      <td>523.189575</td>\n",
       "      <td>465.601929</td>\n",
       "      <td>461.147034</td>\n",
       "      <td>...</td>\n",
       "      <td>450.873169</td>\n",
       "      <td>450.938354</td>\n",
       "      <td>450.910492</td>\n",
       "      <td>450.801270</td>\n",
       "      <td>450.888123</td>\n",
       "      <td>450.814850</td>\n",
       "      <td>450.916229</td>\n",
       "      <td>450.814087</td>\n",
       "      <td>450.843414</td>\n",
       "      <td>450.758148</td>\n",
       "    </tr>\n",
       "    <tr>\n",
       "      <th>3</th>\n",
       "      <td>32.0</td>\n",
       "      <td>0.172208</td>\n",
       "      <td>0.000042</td>\n",
       "      <td>3.0</td>\n",
       "      <td>2.0</td>\n",
       "      <td>64.0</td>\n",
       "      <td>0.000007</td>\n",
       "      <td>543.986328</td>\n",
       "      <td>484.317230</td>\n",
       "      <td>472.085449</td>\n",
       "      <td>...</td>\n",
       "      <td>448.064484</td>\n",
       "      <td>448.042389</td>\n",
       "      <td>447.977570</td>\n",
       "      <td>447.926147</td>\n",
       "      <td>447.885559</td>\n",
       "      <td>447.846802</td>\n",
       "      <td>447.796967</td>\n",
       "      <td>447.781799</td>\n",
       "      <td>447.710571</td>\n",
       "      <td>447.668335</td>\n",
       "    </tr>\n",
       "    <tr>\n",
       "      <th>4</th>\n",
       "      <td>32.0</td>\n",
       "      <td>0.172208</td>\n",
       "      <td>0.000042</td>\n",
       "      <td>3.0</td>\n",
       "      <td>2.0</td>\n",
       "      <td>64.0</td>\n",
       "      <td>0.000007</td>\n",
       "      <td>543.924561</td>\n",
       "      <td>484.485809</td>\n",
       "      <td>472.445312</td>\n",
       "      <td>...</td>\n",
       "      <td>448.215912</td>\n",
       "      <td>544.031372</td>\n",
       "      <td>484.386292</td>\n",
       "      <td>472.220398</td>\n",
       "      <td>467.484924</td>\n",
       "      <td>464.688690</td>\n",
       "      <td>462.955078</td>\n",
       "      <td>461.424591</td>\n",
       "      <td>460.127716</td>\n",
       "      <td>459.114685</td>\n",
       "    </tr>\n",
       "  </tbody>\n",
       "</table>\n",
       "<p>5 rows × 107 columns</p>\n",
       "</div>"
      ],
      "text/plain": [
       "   bin_size   dropout        lr  n_glayers_id  n_glayers_reg  output_dim  \\\n",
       "0      64.0  0.449385  0.009435           0.0            3.0       256.0   \n",
       "1      64.0  0.089148  0.000039           4.0            2.0        32.0   \n",
       "2      16.0  0.486632  0.000276           2.0            4.0        64.0   \n",
       "3      32.0  0.172208  0.000042           3.0            2.0        64.0   \n",
       "4      32.0  0.172208  0.000042           3.0            2.0        64.0   \n",
       "\n",
       "   weight_decay      loss_0      loss_1      loss_2  ...     loss_90  \\\n",
       "0      0.000044  484.088806  459.301514  455.343811  ...  447.429688   \n",
       "1      0.001984  533.915894  530.372620  531.893738  ...  529.851562   \n",
       "2      0.000065  523.189575  465.601929  461.147034  ...  450.873169   \n",
       "3      0.000007  543.986328  484.317230  472.085449  ...  448.064484   \n",
       "4      0.000007  543.924561  484.485809  472.445312  ...  448.215912   \n",
       "\n",
       "      loss_91     loss_92     loss_93     loss_94     loss_95     loss_96  \\\n",
       "0  447.619354  447.439209  447.404633  447.566406  447.313049  447.398407   \n",
       "1  529.258301  529.493103  530.038452  529.909546  528.990479  528.480469   \n",
       "2  450.938354  450.910492  450.801270  450.888123  450.814850  450.916229   \n",
       "3  448.042389  447.977570  447.926147  447.885559  447.846802  447.796967   \n",
       "4  544.031372  484.386292  472.220398  467.484924  464.688690  462.955078   \n",
       "\n",
       "      loss_97     loss_98     loss_99  \n",
       "0  447.414673  447.228088  447.501160  \n",
       "1  528.026733  528.153503  528.540161  \n",
       "2  450.814087  450.843414  450.758148  \n",
       "3  447.781799  447.710571  447.668335  \n",
       "4  461.424591  460.127716  459.114685  \n",
       "\n",
       "[5 rows x 107 columns]"
      ]
     },
     "execution_count": 9,
     "metadata": {},
     "output_type": "execute_result"
    }
   ],
   "source": [
    "save = False # set to True to save the trained QSVR\n",
    "df_info = nb_utils.get_df_info('mlpf')\n",
    "df = pd.read_csv(df_info['df_path'])\n",
    "df = df.drop(df[df.loss_99 == df.loss_99.max()].index)\n",
    "df.head()"
   ]
  },
  {
   "cell_type": "code",
   "execution_count": 11,
   "metadata": {},
   "outputs": [],
   "source": [
    "# Select Features and target\n",
    "curve = nb_utils.get_curve(df_info=df_info, known_curve=0.25, df=df)\n",
    "# Use only Downsampled learning curve without hps\n",
    "X = curve[:,[i for i in range(0,curve.shape[1],2)]] \n",
    "y = nb_utils.get_target(df_info,df)"
   ]
  },
  {
   "cell_type": "code",
   "execution_count": 12,
   "metadata": {},
   "outputs": [],
   "source": [
    "# Scale data\n",
    "x_scaler = QuantileTransformer(n_quantiles=50,random_state=0)\n",
    "X = x_scaler.fit_transform(X)\n",
    "y_scaler =  QuantileTransformer(n_quantiles=50,random_state=0)\n",
    "y = y_scaler.fit_transform(y.reshape(-1, 1)).ravel()"
   ]
  },
  {
   "cell_type": "code",
   "execution_count": 13,
   "metadata": {},
   "outputs": [
    {
     "data": {
      "text/plain": [
       "((79, 13), (79,), (148, 13), (148,))"
      ]
     },
     "execution_count": 13,
     "metadata": {},
     "output_type": "execute_result"
    }
   ],
   "source": [
    "# Split data\n",
    "X_train, X_test, y_train, y_test = train_test_split(X, y, test_size=0.5, random_state=0)\n",
    "X_train = X_train[:79,:]\n",
    "y_train = y_train[:79]\n",
    "X_train.shape, y_train.shape, X_test.shape, y_test.shape"
   ]
  },
  {
   "cell_type": "code",
   "execution_count": 14,
   "metadata": {},
   "outputs": [
    {
     "name": "stdout",
     "output_type": "stream",
     "text": [
      "Gamma = 1.070349905089307\n",
      "C = 1.0\n"
     ]
    }
   ],
   "source": [
    "# calculate sklearn default values for C and gamma\n",
    "n_features = X_train.shape[1]\n",
    "gamma = 1/(n_features*X_train.var())\n",
    "C = 1.0\n",
    "print(\"Gamma = \" + str(gamma))\n",
    "print(\"C = \" + str(C))"
   ]
  },
  {
   "cell_type": "code",
   "execution_count": 16,
   "metadata": {},
   "outputs": [
    {
     "name": "stdout",
     "output_type": "stream",
     "text": [
      "Best cross validation average r^2 achieved on classical SVR is 0.8948868073074495\n",
      "-> Achieved using C=42.785523336332915, epsilon=0.011780541250924505, gamma=0.15002709502588685\n"
     ]
    }
   ],
   "source": [
    "#try to optimize regressor hps\n",
    "from sklearn.model_selection import cross_val_score\n",
    "from sklearn.svm import SVR\n",
    "best, C_best, epsilon_best, gamma_best = -100, None, None, None\n",
    "for _ in range(1000):\n",
    "\tC = np.exp(np.random.uniform(np.log(1e-3),np.log(100.0)))\n",
    "\tgamma = np.exp(np.random.uniform(np.log(1e-3),np.log(10.0)))\n",
    "\tepsilon = np.exp(np.random.uniform(np.log(1e-3),np.log(1)))\n",
    "\tmodel = SVR(C=C,epsilon=epsilon,gamma=gamma)\n",
    "\tcvs, __ = nb_utils.small_train_r2_cv(model, X=X_train, y=y_train, train_size= 20, reps=5, test_size=0.74,rs=_)\n",
    "\tcvs = cvs.mean()\n",
    "\tif best < cvs:\n",
    "\t\tbest = cvs\n",
    "\t\tC_best, epsilon_best, gamma_best = C, epsilon, gamma\n",
    "print(f'Best cross validation average r^2 achieved on classical SVR is {best}')\n",
    "print(f'-> Achieved using C={C_best}, epsilon={epsilon_best}, gamma={gamma_best}')"
   ]
  },
  {
   "cell_type": "code",
   "execution_count": null,
   "metadata": {},
   "outputs": [],
   "source": [
    "# Instantiate QSVR\n",
    "qsvr_model = QSVR.QSVR()"
   ]
  },
  {
   "cell_type": "code",
   "execution_count": 100,
   "metadata": {},
   "outputs": [
    {
     "name": "stdout",
     "output_type": "stream",
     "text": [
      "best value for gamma is 0.1, best value for C is 67.61\n",
      "Creating the QUBO Q matrix of size (120, 120)\n",
      "Extracting nodes and couplers from Q\n",
      "The problem has 120 nodes and 7140 couplers\n",
      "Running with 120 nodes and 7140 couplers\n"
     ]
    }
   ],
   "source": [
    "'''\n",
    "WARNING: THIS CELL SENDS A PROBLEM TO D-WAVE \n",
    "'''\n",
    "# FIT THE QSVR\n",
    "random_seed = 10 \n",
    "# not working if I try to set gamma and C manually\n",
    "# if the training set (n_samples) is not small enough it will fail to find and embedding. n_samples 28 is worse than 20 \n",
    "# if K is incremented it also fails\n",
    "qsvr_model.fit(X_train, y_train, K = 3, B = 2, epsilon = 0.02, k0 = 0.05, n_samples = 20, num_reads = 2500, random_seed=random_seed, n_samples_for_gamma_and_C_optimizations=40, gamma=0.1, C=67.61)"
   ]
  },
  {
   "cell_type": "code",
   "execution_count": null,
   "metadata": {},
   "outputs": [],
   "source": [
    "if save:\n",
    "\tdate = datetime.datetime.now().strftime(\"_%Y_%m_%d-%I:%M:%S.%f_%p\")\t\n",
    "\tnb_utils.save_qsvr(qsvr_model, \"qsvr_attrs\"+date)\n",
    "\tdump(x_scaler,\"x_scaler_q\"+date+\".joblib\") \n",
    "\tdump(y_scaler,\"y_scaler_q\"+date+\".joblib\")"
   ]
  },
  {
   "cell_type": "markdown",
   "metadata": {},
   "source": [
    "### Analize results"
   ]
  },
  {
   "cell_type": "code",
   "execution_count": 101,
   "metadata": {},
   "outputs": [
    {
     "data": {
      "text/plain": [
       "[0.018899109387118432,\n",
       " 0.01106245068460395,\n",
       " 0.01887004425422328,\n",
       " 0.019647466675784684,\n",
       " 0.011090438783533782,\n",
       " 0.036886821104704766]"
      ]
     },
     "execution_count": 101,
     "metadata": {},
     "output_type": "execute_result"
    }
   ],
   "source": [
    "# MSE\n",
    "# predict returns a 2d array with 6 different predictions for each x_i\n",
    "y_pred = qsvr_model.predict(X_test)\n",
    "mse = []\n",
    "for i in range(y_pred.shape[0]):\n",
    "    mse.append(mean_squared_error(y_pred[i],y_test))\n",
    "mse"
   ]
  },
  {
   "cell_type": "code",
   "execution_count": 102,
   "metadata": {},
   "outputs": [
    {
     "data": {
      "text/plain": [
       "[0.7753209263692376,\n",
       " 0.8465537001581724,\n",
       " 0.7741520728844706,\n",
       " 0.7252766568697512,\n",
       " 0.8427765663508567,\n",
       " 0.26272589947626945]"
      ]
     },
     "execution_count": 102,
     "metadata": {},
     "output_type": "execute_result"
    }
   ],
   "source": [
    "# R^2\n",
    "# predict returns a 2d array with 6 different predictions for each x_i\n",
    "y_pred = qsvr_model.predict(X_test)\n",
    "r2 = []\n",
    "for i in range(y_pred.shape[0]):\n",
    "    r2.append(r2_score(y_pred[i],y_test))\n",
    "r2"
   ]
  },
  {
   "cell_type": "code",
   "execution_count": 76,
   "metadata": {},
   "outputs": [
    {
     "data": {
      "image/png": "[encoded data removed]",
      "text/plain": [
       "<Figure size 648x432 with 6 Axes>"
      ]
     },
     "metadata": {
      "needs_background": "light"
     },
     "output_type": "display_data"
    }
   ],
   "source": [
    "fig, axs = plt.subplots(2,3,figsize=(9, 6))\n",
    "fig.suptitle(\"True vs predicted loss for different QSVR versions\")\n",
    "fig.tight_layout()\n",
    "\n",
    "for ax in axs.flat:\n",
    "    ax.set(xlabel='true loss', ylabel='predicted loss')\n",
    "    ax.grid()\n",
    "\n",
    "# Hide x labels and tick labels for top plots and y ticks for right plots.\n",
    "for ax in axs.flat:\n",
    "    ax.label_outer()\n",
    "\n",
    "x = y_scaler.inverse_transform(y_test.reshape(-1, 1))\n",
    "\n",
    "for i in range(y_pred.shape[0]):\n",
    "    y = y_scaler.inverse_transform(y_pred[i,:].reshape(-1, 1))\n",
    "    axs.flat[i].scatter(x,y,s=5)\n",
    "    axs.flat[i].plot([x.min(),x.max()],[x.min(),x.max()],'k')\n",
    "\n",
    "plt.show()"
   ]
  },
  {
   "cell_type": "markdown",
   "metadata": {},
   "source": [
    "### Example loading a saved model"
   ]
  },
  {
   "cell_type": "code",
   "execution_count": 86,
   "metadata": {},
   "outputs": [
    {
     "name": "stdout",
     "output_type": "stream",
     "text": [
      "B = 2\n",
      "K = 3\n",
      "epsilon = 0.02\n",
      "best_gamma = 0.1\n",
      "best_C = 67.61\n"
     ]
    }
   ],
   "source": [
    "sufix = '_2022_08_18-02:08:37.344989_PM' # write the date extension of the model you want to load\n",
    "#ld_x_scaler = load(\"x_scaler_q\"+sufix+\".joblib\") \n",
    "#ld_y_scaler = load(\"y_scaler_q\"+sufix+\".joblib\")\n",
    "ld_qsvr_attrs = load( \"qsvr_attrs\"+sufix+\".joblib\")\n",
    "print(f'B = {ld_qsvr_attrs[\"B\"]}')\n",
    "print(f'K = {ld_qsvr_attrs[\"K\"]}')\n",
    "print(f'epsilon = {ld_qsvr_attrs[\"epsilon\"]}')\n",
    "print(f'best_gamma = {ld_qsvr_attrs[\"best_gamma\"]}')\n",
    "print(f'best_C = {ld_qsvr_attrs[\"best_C\"]}')"
   ]
  },
  {
   "cell_type": "code",
   "execution_count": 26,
   "metadata": {},
   "outputs": [
    {
     "data": {
      "text/plain": [
       "[0.902828053334424,\n",
       " 0.9123044591285047,\n",
       " 0.9029195202470672,\n",
       " 0.9124470278391059,\n",
       " 0.9123044591285047,\n",
       " 0.8487914544304758]"
      ]
     },
     "execution_count": 26,
     "metadata": {},
     "output_type": "execute_result"
    }
   ],
   "source": [
    "# instantiate a QSVR that can be used to do predictions\n",
    "pred_model = QSVR.QSVR() \n",
    "# set the QSVR attributes needed for predictions\n",
    "for attr in ld_qsvr_attrs.keys():\n",
    "    setattr(pred_model, attr, ld_qsvr_attrs[attr])\n",
    "\n",
    "# use the QSVR to do a prediction\n",
    "# loaded scalers may be needed\n",
    "y_pred = pred_model.predict(X_test)\n",
    "\n",
    "# make use of the prediction\n",
    "r2 = []\n",
    "for i in range(y_pred.shape[0]):\n",
    "    r2.append(r2_score(y_pred[i],y_test))\n",
    "r2"
   ]
  }
 ],
 "metadata": {
  "kernelspec": {
   "display_name": "Python 3.9.12 ('py39')",
   "language": "python",
   "name": "python3"
  },
  "language_info": {
   "codemirror_mode": {
    "name": "ipython",
    "version": 3
   },
   "file_extension": ".py",
   "mimetype": "text/x-python",
   "name": "python",
   "nbconvert_exporter": "python",
   "pygments_lexer": "ipython3",
   "version": "3.9.12"
  },
  "orig_nbformat": 4,
  "vscode": {
   "interpreter": {
    "hash": "1ac4248432e308955067782465497de26ed69bab2d310610bc1af3ad0fd9ab68"
   }
  }
 },
 "nbformat": 4,
 "nbformat_minor": 2
}
