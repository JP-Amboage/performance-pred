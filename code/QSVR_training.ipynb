{
 "cells": [
  {
   "cell_type": "code",
   "execution_count": 1,
   "metadata": {},
   "outputs": [],
   "source": [
    "import matplotlib.pyplot as plt\n",
    "import numpy as np\n",
    "from scipy.stats import loguniform\n",
    "import pandas as pd\n",
    "import time\n",
    "from qa_summer.QSVR import QSVR\n",
    "from dimod import ExactSolver\n",
    "from sklearn.preprocessing import QuantileTransformer\n",
    "from sklearn.model_selection import train_test_split"
   ]
  },
  {
   "cell_type": "code",
   "execution_count": 2,
   "metadata": {},
   "outputs": [
    {
     "data": {
      "text/html": [
       "<div>\n",
       "<style scoped>\n",
       "    .dataframe tbody tr th:only-of-type {\n",
       "        vertical-align: middle;\n",
       "    }\n",
       "\n",
       "    .dataframe tbody tr th {\n",
       "        vertical-align: top;\n",
       "    }\n",
       "\n",
       "    .dataframe thead th {\n",
       "        text-align: right;\n",
       "    }\n",
       "</style>\n",
       "<table border=\"1\" class=\"dataframe\">\n",
       "  <thead>\n",
       "    <tr style=\"text-align: right;\">\n",
       "      <th></th>\n",
       "      <th>bin_size</th>\n",
       "      <th>dropout</th>\n",
       "      <th>lr</th>\n",
       "      <th>n_glayers_id</th>\n",
       "      <th>n_glayers_reg</th>\n",
       "      <th>output_dim</th>\n",
       "      <th>weight_decay</th>\n",
       "      <th>loss_0</th>\n",
       "      <th>loss_1</th>\n",
       "      <th>loss_2</th>\n",
       "      <th>...</th>\n",
       "      <th>loss_90</th>\n",
       "      <th>loss_91</th>\n",
       "      <th>loss_92</th>\n",
       "      <th>loss_93</th>\n",
       "      <th>loss_94</th>\n",
       "      <th>loss_95</th>\n",
       "      <th>loss_96</th>\n",
       "      <th>loss_97</th>\n",
       "      <th>loss_98</th>\n",
       "      <th>loss_99</th>\n",
       "    </tr>\n",
       "  </thead>\n",
       "  <tbody>\n",
       "    <tr>\n",
       "      <th>0</th>\n",
       "      <td>64.0</td>\n",
       "      <td>0.449385</td>\n",
       "      <td>0.009435</td>\n",
       "      <td>0.0</td>\n",
       "      <td>3.0</td>\n",
       "      <td>256.0</td>\n",
       "      <td>0.000044</td>\n",
       "      <td>484.088806</td>\n",
       "      <td>459.301514</td>\n",
       "      <td>455.343811</td>\n",
       "      <td>...</td>\n",
       "      <td>447.429688</td>\n",
       "      <td>447.619354</td>\n",
       "      <td>447.439209</td>\n",
       "      <td>447.404633</td>\n",
       "      <td>447.566406</td>\n",
       "      <td>447.313049</td>\n",
       "      <td>447.398407</td>\n",
       "      <td>447.414673</td>\n",
       "      <td>447.228088</td>\n",
       "      <td>447.501160</td>\n",
       "    </tr>\n",
       "    <tr>\n",
       "      <th>1</th>\n",
       "      <td>64.0</td>\n",
       "      <td>0.089148</td>\n",
       "      <td>0.000039</td>\n",
       "      <td>4.0</td>\n",
       "      <td>2.0</td>\n",
       "      <td>32.0</td>\n",
       "      <td>0.001984</td>\n",
       "      <td>533.915894</td>\n",
       "      <td>530.372620</td>\n",
       "      <td>531.893738</td>\n",
       "      <td>...</td>\n",
       "      <td>529.851562</td>\n",
       "      <td>529.258301</td>\n",
       "      <td>529.493103</td>\n",
       "      <td>530.038452</td>\n",
       "      <td>529.909546</td>\n",
       "      <td>528.990479</td>\n",
       "      <td>528.480469</td>\n",
       "      <td>528.026733</td>\n",
       "      <td>528.153503</td>\n",
       "      <td>528.540161</td>\n",
       "    </tr>\n",
       "    <tr>\n",
       "      <th>2</th>\n",
       "      <td>16.0</td>\n",
       "      <td>0.486632</td>\n",
       "      <td>0.000276</td>\n",
       "      <td>2.0</td>\n",
       "      <td>4.0</td>\n",
       "      <td>64.0</td>\n",
       "      <td>0.000065</td>\n",
       "      <td>523.189575</td>\n",
       "      <td>465.601929</td>\n",
       "      <td>461.147034</td>\n",
       "      <td>...</td>\n",
       "      <td>450.873169</td>\n",
       "      <td>450.938354</td>\n",
       "      <td>450.910492</td>\n",
       "      <td>450.801270</td>\n",
       "      <td>450.888123</td>\n",
       "      <td>450.814850</td>\n",
       "      <td>450.916229</td>\n",
       "      <td>450.814087</td>\n",
       "      <td>450.843414</td>\n",
       "      <td>450.758148</td>\n",
       "    </tr>\n",
       "    <tr>\n",
       "      <th>3</th>\n",
       "      <td>32.0</td>\n",
       "      <td>0.172208</td>\n",
       "      <td>0.000042</td>\n",
       "      <td>3.0</td>\n",
       "      <td>2.0</td>\n",
       "      <td>64.0</td>\n",
       "      <td>0.000007</td>\n",
       "      <td>543.986328</td>\n",
       "      <td>484.317230</td>\n",
       "      <td>472.085449</td>\n",
       "      <td>...</td>\n",
       "      <td>448.064484</td>\n",
       "      <td>448.042389</td>\n",
       "      <td>447.977570</td>\n",
       "      <td>447.926147</td>\n",
       "      <td>447.885559</td>\n",
       "      <td>447.846802</td>\n",
       "      <td>447.796967</td>\n",
       "      <td>447.781799</td>\n",
       "      <td>447.710571</td>\n",
       "      <td>447.668335</td>\n",
       "    </tr>\n",
       "    <tr>\n",
       "      <th>4</th>\n",
       "      <td>32.0</td>\n",
       "      <td>0.172208</td>\n",
       "      <td>0.000042</td>\n",
       "      <td>3.0</td>\n",
       "      <td>2.0</td>\n",
       "      <td>64.0</td>\n",
       "      <td>0.000007</td>\n",
       "      <td>543.924561</td>\n",
       "      <td>484.485809</td>\n",
       "      <td>472.445312</td>\n",
       "      <td>...</td>\n",
       "      <td>448.215912</td>\n",
       "      <td>544.031372</td>\n",
       "      <td>484.386292</td>\n",
       "      <td>472.220398</td>\n",
       "      <td>467.484924</td>\n",
       "      <td>464.688690</td>\n",
       "      <td>462.955078</td>\n",
       "      <td>461.424591</td>\n",
       "      <td>460.127716</td>\n",
       "      <td>459.114685</td>\n",
       "    </tr>\n",
       "  </tbody>\n",
       "</table>\n",
       "<p>5 rows × 107 columns</p>\n",
       "</div>"
      ],
      "text/plain": [
       "   bin_size   dropout        lr  n_glayers_id  n_glayers_reg  output_dim  \\\n",
       "0      64.0  0.449385  0.009435           0.0            3.0       256.0   \n",
       "1      64.0  0.089148  0.000039           4.0            2.0        32.0   \n",
       "2      16.0  0.486632  0.000276           2.0            4.0        64.0   \n",
       "3      32.0  0.172208  0.000042           3.0            2.0        64.0   \n",
       "4      32.0  0.172208  0.000042           3.0            2.0        64.0   \n",
       "\n",
       "   weight_decay      loss_0      loss_1      loss_2  ...     loss_90  \\\n",
       "0      0.000044  484.088806  459.301514  455.343811  ...  447.429688   \n",
       "1      0.001984  533.915894  530.372620  531.893738  ...  529.851562   \n",
       "2      0.000065  523.189575  465.601929  461.147034  ...  450.873169   \n",
       "3      0.000007  543.986328  484.317230  472.085449  ...  448.064484   \n",
       "4      0.000007  543.924561  484.485809  472.445312  ...  448.215912   \n",
       "\n",
       "      loss_91     loss_92     loss_93     loss_94     loss_95     loss_96  \\\n",
       "0  447.619354  447.439209  447.404633  447.566406  447.313049  447.398407   \n",
       "1  529.258301  529.493103  530.038452  529.909546  528.990479  528.480469   \n",
       "2  450.938354  450.910492  450.801270  450.888123  450.814850  450.916229   \n",
       "3  448.042389  447.977570  447.926147  447.885559  447.846802  447.796967   \n",
       "4  544.031372  484.386292  472.220398  467.484924  464.688690  462.955078   \n",
       "\n",
       "      loss_97     loss_98     loss_99  \n",
       "0  447.414673  447.228088  447.501160  \n",
       "1  528.026733  528.153503  528.540161  \n",
       "2  450.814087  450.843414  450.758148  \n",
       "3  447.781799  447.710571  447.668335  \n",
       "4  461.424591  460.127716  459.114685  \n",
       "\n",
       "[5 rows x 107 columns]"
      ]
     },
     "execution_count": 2,
     "metadata": {},
     "output_type": "execute_result"
    }
   ],
   "source": [
    "df_path = '../data/mlpf/delphes_trainings_processed.csv'\n",
    "df = pd.read_csv(df_path)\n",
    "df = df.drop(df[df.loss_99 == df.loss_99.max()].index)\n",
    "df.head()"
   ]
  },
  {
   "cell_type": "code",
   "execution_count": 10,
   "metadata": {},
   "outputs": [],
   "source": [
    "# train dataset\n",
    "random_seed = 10 \n",
    "num_samples = 33\n",
    "\n",
    "X = df.iloc[:, 0:list(df.columns).index('loss_24')+1].to_numpy()\n",
    "y = df.iloc[:, list(df.columns).index('loss_99')].to_numpy()"
   ]
  },
  {
   "cell_type": "code",
   "execution_count": 11,
   "metadata": {},
   "outputs": [],
   "source": [
    "x_scaler = QuantileTransformer(n_quantiles=50,random_state=0)\n",
    "X = x_scaler.fit_transform(X)\n",
    "y_scaler =  QuantileTransformer(n_quantiles=50,random_state=0)\n",
    "y = y_scaler.fit_transform(y.reshape(-1, 1)).ravel()"
   ]
  },
  {
   "cell_type": "code",
   "execution_count": 13,
   "metadata": {},
   "outputs": [
    {
     "data": {
      "text/plain": [
       "((79, 32), (79,))"
      ]
     },
     "execution_count": 13,
     "metadata": {},
     "output_type": "execute_result"
    }
   ],
   "source": [
    "X_train, X_test, y_train, y_test = train_test_split(X, y, test_size=0.5, random_state=0)\n",
    "X_train = X_train[:79,:]\n",
    "y_train = y_train[:79]\n",
    "X_train.shape, y_train.shape"
   ]
  },
  {
   "cell_type": "code",
   "execution_count": 14,
   "metadata": {},
   "outputs": [
    {
     "data": {
      "text/plain": [
       "(79, 32)"
      ]
     },
     "execution_count": 14,
     "metadata": {},
     "output_type": "execute_result"
    }
   ],
   "source": [
    "qsvr_model = QSVR.QSVR()\n",
    "X_train.shape"
   ]
  },
  {
   "cell_type": "code",
   "execution_count": 16,
   "metadata": {},
   "outputs": [
    {
     "name": "stdout",
     "output_type": "stream",
     "text": [
      "best value for gamma is 0.1, best value for C is 6.761554302473918\n",
      "Creating the QUBO Q matrix of size (126, 126)\n"
     ]
    },
    {
     "name": "stderr",
     "output_type": "stream",
     "text": [
      "2022-08-16 09:19:13,314 dwave.cloud.client.base INFO MainThread Using region metadata: [Region(code='na-west-1', name='North America', endpoint='https://na-west-1.cloud.dwavesys.com/sapi/v2/'), Region(code='eu-central-1', name='Europe', endpoint='https://eu-central-1.cloud.dwavesys.com/sapi/v2/')]\n",
      "2022-08-16 09:19:13,459 dwave.cloud.client.base INFO MainThread Requested a solver that best matches feature filters={}\n",
      "2022-08-16 09:19:13,461 dwave.cloud.client.base INFO MainThread Fetching solvers according to filters={}, order_by='-num_active_qubits'\n",
      "2022-08-16 09:19:13,463 dwave.cloud.client.base INFO MainThread Fetching definitions of all available solvers\n"
     ]
    },
    {
     "name": "stdout",
     "output_type": "stream",
     "text": [
      "Extracting nodes and couplers from Q\n",
      "The problem has 126 nodes and 7875 couplers\n"
     ]
    },
    {
     "name": "stderr",
     "output_type": "stream",
     "text": [
      "2022-08-16 09:19:14,537 dwave.cloud.client.base INFO MainThread Received solver data for 1 solver(s).\n",
      "2022-08-16 09:19:14,600 dwave.cloud.client.base INFO MainThread Adding solver StructuredSolver(id='Advantage_system5.2')\n",
      "2022-08-16 09:19:14,607 dwave.cloud.client.base INFO MainThread Filtered solvers=[StructuredSolver(id='Advantage_system5.2')]\n"
     ]
    },
    {
     "name": "stdout",
     "output_type": "stream",
     "text": [
      "Running with 126 nodes and 7875 couplers\n"
     ]
    }
   ],
   "source": [
    "# not working if I try to set gamma and C manually\n",
    "# if the training set is not small enough it will fail to find and embedding\n",
    "qsvr_model.fit(X_train, y_train, K = 3, B = 2, epsilon = 0.1, k0 = 0.05, n_samples = 21, num_reads = 2500, random_seed=random_seed, n_samples_for_gamma_and_C_optimizations=20) #insert stuff"
   ]
  },
  {
   "cell_type": "code",
   "execution_count": 37,
   "metadata": {},
   "outputs": [
    {
     "data": {
      "text/plain": [
       "[0.19887183465144115,\n",
       " 0.46556940355465193,\n",
       " 0.19032438093038417,\n",
       " 0.5263052558048708,\n",
       " 0.29385697989036774,\n",
       " 0.5441480110647663]"
      ]
     },
     "execution_count": 37,
     "metadata": {},
     "output_type": "execute_result"
    }
   ],
   "source": [
    "from sklearn.metrics import mean_squared_error\n",
    "# predict returns a 2d array with 6 different predictions for each x_i\n",
    "y_pred = qsvr_model.predict(X_test)\n",
    "mse = []\n",
    "for i in range(y_pred.shape[0]):\n",
    "    mse.append(mean_squared_error(y_pred[i],y_test))\n",
    "mse"
   ]
  },
  {
   "cell_type": "code",
   "execution_count": 38,
   "metadata": {},
   "outputs": [
    {
     "data": {
      "text/plain": [
       "[0.4321352245981678,\n",
       " 0.3946517073036977,\n",
       " 0.4813256858508229,\n",
       " 0.38179399582148477,\n",
       " 0.27296056675746494,\n",
       " 0.3776148957238791]"
      ]
     },
     "execution_count": 38,
     "metadata": {},
     "output_type": "execute_result"
    }
   ],
   "source": [
    "from sklearn.metrics import r2_score\n",
    "# predict returns a 2d array with 6 different predictions for each x_i\n",
    "y_pred = qsvr_model.predict(X_test)\n",
    "r2 = []\n",
    "for i in range(y_pred.shape[0]):\n",
    "    r2.append(r2_score(y_pred[i],y_test))\n",
    "r2"
   ]
  }
 ],
 "metadata": {
  "kernelspec": {
   "display_name": "Python 3.9.12 ('py39')",
   "language": "python",
   "name": "python3"
  },
  "language_info": {
   "codemirror_mode": {
    "name": "ipython",
    "version": 3
   },
   "file_extension": ".py",
   "mimetype": "text/x-python",
   "name": "python",
   "nbconvert_exporter": "python",
   "pygments_lexer": "ipython3",
   "version": "3.9.12"
  },
  "orig_nbformat": 4,
  "vscode": {
   "interpreter": {
    "hash": "1ac4248432e308955067782465497de26ed69bab2d310610bc1af3ad0fd9ab68"
   }
  }
 },
 "nbformat": 4,
 "nbformat_minor": 2
}
