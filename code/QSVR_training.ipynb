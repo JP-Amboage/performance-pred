{
 "cells": [
  {
   "cell_type": "code",
   "execution_count": 1,
   "metadata": {},
   "outputs": [],
   "source": [
    "import matplotlib.pyplot as plt\n",
    "import numpy as np\n",
    "import pandas as pd\n",
    "import time\n",
    "from qa_summer.QSVR import QSVR\n",
    "from dimod import ExactSolver\n",
    "from sklearn.preprocessing import QuantileTransformer\n",
    "from sklearn.model_selection import train_test_split\n",
    "from utils import nb_utils"
   ]
  },
  {
   "cell_type": "code",
   "execution_count": 2,
   "metadata": {},
   "outputs": [],
   "source": [
    "df_info = nb_utils.get_df_info('mlpf')\n",
    "df = pd.read_csv(df_info['df_path'])\n",
    "df = df.drop(df[df.loss_99 == df.loss_99.max()].index)\n",
    "df.head()\n",
    "save = False"
   ]
  },
  {
   "cell_type": "code",
   "execution_count": 3,
   "metadata": {},
   "outputs": [],
   "source": [
    "# train dataset\n",
    "random_seed = 10 \n",
    "\n",
    "curve = nb_utils.get_curve(df_info=df_info, known_curve=0.25, df=df)\n",
    "X = curve[:,[i for i in range(0,curve.shape[1],2)]]\n",
    "y = nb_utils.get_target(df_info,df)"
   ]
  },
  {
   "cell_type": "code",
   "execution_count": 4,
   "metadata": {},
   "outputs": [],
   "source": [
    "x_scaler = QuantileTransformer(n_quantiles=50,random_state=0)\n",
    "X = x_scaler.fit_transform(X)\n",
    "y_scaler =  QuantileTransformer(n_quantiles=50,random_state=0)\n",
    "y = y_scaler.fit_transform(y.reshape(-1, 1)).ravel()"
   ]
  },
  {
   "cell_type": "code",
   "execution_count": 5,
   "metadata": {},
   "outputs": [
    {
     "data": {
      "text/plain": [
       "((79, 13), (79,))"
      ]
     },
     "execution_count": 5,
     "metadata": {},
     "output_type": "execute_result"
    }
   ],
   "source": [
    "X_train, X_test, y_train, y_test = train_test_split(X, y, test_size=0.5, random_state=0)\n",
    "X_train = X_train[:79,:]\n",
    "y_train = y_train[:79]\n",
    "X_train.shape, y_train.shape"
   ]
  },
  {
   "cell_type": "code",
   "execution_count": 6,
   "metadata": {},
   "outputs": [],
   "source": [
    "qsvr_model = QSVR.QSVR()"
   ]
  },
  {
   "cell_type": "code",
   "execution_count": 7,
   "metadata": {},
   "outputs": [
    {
     "name": "stdout",
     "output_type": "stream",
     "text": [
      "Gamma = 1.070349905089307\n",
      "C = 1.0\n"
     ]
    }
   ],
   "source": [
    "# calculate sklearn default values for C and gamma\n",
    "n_features = X_train.shape[1]\n",
    "gamma = 1/(n_features*X_train.var())\n",
    "C = 1.0\n",
    "print(\"Gamma = \" + str(gamma))\n",
    "print(\"C = \" + str(C))"
   ]
  },
  {
   "cell_type": "code",
   "execution_count": 43,
   "metadata": {},
   "outputs": [
    {
     "name": "stdout",
     "output_type": "stream",
     "text": [
      "Best cross validation average r^2 achieved on classical SVR is 0.8875172083187295\n",
      "-> Achieved using C=8.836178204816694, epsilon=0.02071095136869859, gamma=0.1865953227493358\n"
     ]
    }
   ],
   "source": [
    "\n",
    "#try to optimize regressor hps\n",
    "from sklearn.model_selection import cross_val_score\n",
    "from sklearn.svm import SVR\n",
    "best, C_best, epsilon_best, gamma_best = -100, None, None, None\n",
    "for _ in range(1000):\n",
    "\tC = np.exp(np.random.uniform(np.log(1e-3),np.log(10.0)))\n",
    "\tgamma = np.exp(np.random.uniform(np.log(1e-3),np.log(10.0)))\n",
    "\tepsilon = np.exp(np.random.uniform(np.log(1e-3),np.log(1)))\n",
    "\tmodel = SVR(C=C,epsilon=epsilon,gamma=gamma)\n",
    "\tcvs, __ = nb_utils.small_train_r2_cv(model, X=X_train, y=y_train, train_size= 20, reps=5, test_size=0.74,rs=_)\n",
    "\tcvs = cvs.mean()\n",
    "\tif best < cvs:\n",
    "\t\tbest = cvs\n",
    "\t\tC_best, epsilon_best, gamma_best = C, epsilon, gamma\n",
    "print(f'Best cross validation average r^2 achieved on classical SVR is {best}')\n",
    "print(f'-> Achieved using C={C_best}, epsilon={epsilon_best}, gamma={gamma_best}')"
   ]
  },
  {
   "cell_type": "code",
   "execution_count": 55,
   "metadata": {},
   "outputs": [
    {
     "name": "stdout",
     "output_type": "stream",
     "text": [
      "best value for gamma is 0.1, best value for C is 67.61554302473918\n",
      "Creating the QUBO Q matrix of size (120, 120)\n",
      "Extracting nodes and couplers from Q\n",
      "The problem has 120 nodes and 7140 couplers\n",
      "Running with 120 nodes and 7140 couplers\n"
     ]
    }
   ],
   "source": [
    "# not working if I try to set gamma and C manually\n",
    "# if the training set (n_samples) is not small enough it will fail to find and embedding. n_samples 28 is worse than 20 \n",
    "# if K is incremented it also fails\n",
    "#qsvr_model.fit(X_train, y_train, K = 3, B = 2, epsilon = 0.1, k0 = 0.05, n_samples = 21, num_reads = 2500, random_seed=random_seed, n_samples_for_gamma_and_C_optimizations=20, C = C, gamma = gamma) #insert stuff\n",
    "'''\n",
    "# best r2 up to now\n",
    "qsvr_model.fit(X_train, y_train, K = 3, B = 2, epsilon = 0.02, k0 = 0.05, n_samples = 20, num_reads = 2500, random_seed=random_seed, n_samples_for_gamma_and_C_optimizations=40)\n",
    "'''\n",
    "qsvr_model.fit(X_train, y_train, K = 3, B = 2, epsilon = 0.02, k0 = 0.05, n_samples = 20, num_reads = 2500, random_seed=random_seed, n_samples_for_gamma_and_C_optimizations=40)"
   ]
  },
  {
   "cell_type": "code",
   "execution_count": 56,
   "metadata": {},
   "outputs": [
    {
     "data": {
      "text/plain": [
       "[0.03429610680617751,\n",
       " 0.023691547073157817,\n",
       " 0.03480001032455971,\n",
       " 0.030065214698117647,\n",
       " 0.02433444626593975,\n",
       " 0.05412447760868702]"
      ]
     },
     "execution_count": 56,
     "metadata": {},
     "output_type": "execute_result"
    }
   ],
   "source": [
    "from sklearn.metrics import mean_squared_error\n",
    "# predict returns a 2d array with 6 different predictions for each x_i\n",
    "y_pred = qsvr_model.predict(X_test)\n",
    "mse = []\n",
    "for i in range(y_pred.shape[0]):\n",
    "    mse.append(mean_squared_error(y_pred[i],y_test))\n",
    "mse"
   ]
  },
  {
   "cell_type": "code",
   "execution_count": 57,
   "metadata": {},
   "outputs": [
    {
     "data": {
      "text/plain": [
       "[0.7719437865163394,\n",
       " 0.8513952587579899,\n",
       " 0.769558367779164,\n",
       " 0.7999838317066827,\n",
       " 0.848953614763015,\n",
       " 0.6957067587244434]"
      ]
     },
     "execution_count": 57,
     "metadata": {},
     "output_type": "execute_result"
    }
   ],
   "source": [
    "from sklearn.metrics import r2_score\n",
    "# predict returns a 2d array with 6 different predictions for each x_i\n",
    "y_pred = qsvr_model.predict(X_test)\n",
    "r2 = []\n",
    "for i in range(y_pred.shape[0]):\n",
    "    r2.append(r2_score(y_pred[i],y_test))\n",
    "r2"
   ]
  },
  {
   "cell_type": "code",
   "execution_count": 58,
   "metadata": {},
   "outputs": [
    {
     "data": {
      "image/png": "[encoded data removed]",
      "text/plain": [
       "<Figure size 432x288 with 1 Axes>"
      ]
     },
     "metadata": {
      "needs_background": "light"
     },
     "output_type": "display_data"
    }
   ],
   "source": [
    "x = y_scaler.inverse_transform(y_test.reshape(-1, 1))\n",
    "y = y_scaler.inverse_transform(y_pred[0,:].reshape(-1, 1))\n",
    "plt.scatter(x,y,s=10)\n",
    "plt.plot([x.min(),x.max()],[x.min(),x.max()],'k')\n",
    "plt.xlabel(\"true loss\")\n",
    "plt.ylabel(\"predicted loss\")\n",
    "plt.grid()\n",
    "plt.show()"
   ]
  },
  {
   "cell_type": "code",
   "execution_count": 54,
   "metadata": {},
   "outputs": [],
   "source": [
    "qsvr_attrs = {\n",
    "\t'X_train_reshaped' : qsvr_model.X_train_reshaped,\n",
    "\t'Y_train': qsvr_model.Y_train,\n",
    "\t'all_alphas' : qsvr_model.all_alphas,\n",
    "\t'B' : qsvr_model.B,\n",
    "\t'K' : qsvr_model.K,\n",
    "\t'epsilon' : qsvr_model.epsilon,\n",
    "\t'best_gamma' : qsvr_model.best_gamma,\n",
    "\t'best_C' :qsvr_model.best_C,\n",
    "\t'best_C' :qsvr_model.best_C,\n",
    "}\n",
    "if save == True:\n",
    "\tfrom joblib import dump\n",
    "\tdump(x_scaler,\"x_scaler_q.joblib\") \n",
    "\tdump(y_scaler,\"y_scaler_q.joblib\")\n",
    "\tdump(qsvr_attrs, \"qsvr_attrs.joblib\")\n"
   ]
  }
 ],
 "metadata": {
  "kernelspec": {
   "display_name": "Python 3.9.12 ('py39')",
   "language": "python",
   "name": "python3"
  },
  "language_info": {
   "codemirror_mode": {
    "name": "ipython",
    "version": 3
   },
   "file_extension": ".py",
   "mimetype": "text/x-python",
   "name": "python",
   "nbconvert_exporter": "python",
   "pygments_lexer": "ipython3",
   "version": "3.9.12"
  },
  "orig_nbformat": 4,
  "vscode": {
   "interpreter": {
    "hash": "1ac4248432e308955067782465497de26ed69bab2d310610bc1af3ad0fd9ab68"
   }
  }
 },
 "nbformat": 4,
 "nbformat_minor": 2
}
