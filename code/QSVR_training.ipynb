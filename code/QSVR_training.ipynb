{
 "cells": [
  {
   "cell_type": "code",
   "execution_count": 17,
   "metadata": {},
   "outputs": [],
   "source": [
    "import matplotlib.pyplot as plt\n",
    "import numpy as np\n",
    "import pandas as pd\n",
    "import time\n",
    "from qa_summer.QSVR import QSVR\n",
    "from dimod import ExactSolver\n",
    "from sklearn.preprocessing import QuantileTransformer\n",
    "from sklearn.model_selection import train_test_split\n",
    "from utils import nb_utils\n",
    "from joblib import dump, load\n",
    "from sklearn.metrics import r2_score\n",
    "from sklearn.metrics import mean_squared_error\n",
    "import datetime"
   ]
  },
  {
   "cell_type": "code",
   "execution_count": 2,
   "metadata": {},
   "outputs": [],
   "source": [
    "df_info = nb_utils.get_df_info('mlpf')\n",
    "df = pd.read_csv(df_info['df_path'])\n",
    "df = df.drop(df[df.loss_99 == df.loss_99.max()].index)\n",
    "df.head()\n",
    "save = False"
   ]
  },
  {
   "cell_type": "code",
   "execution_count": 3,
   "metadata": {},
   "outputs": [],
   "source": [
    "curve = nb_utils.get_curve(df_info=df_info, known_curve=0.25, df=df)\n",
    "X = curve[:,[i for i in range(0,curve.shape[1],2)]]\n",
    "y = nb_utils.get_target(df_info,df)"
   ]
  },
  {
   "cell_type": "code",
   "execution_count": 4,
   "metadata": {},
   "outputs": [],
   "source": [
    "x_scaler = QuantileTransformer(n_quantiles=50,random_state=0)\n",
    "X = x_scaler.fit_transform(X)\n",
    "y_scaler =  QuantileTransformer(n_quantiles=50,random_state=0)\n",
    "y = y_scaler.fit_transform(y.reshape(-1, 1)).ravel()"
   ]
  },
  {
   "cell_type": "code",
   "execution_count": 5,
   "metadata": {},
   "outputs": [
    {
     "data": {
      "text/plain": [
       "((79, 13), (79,))"
      ]
     },
     "execution_count": 5,
     "metadata": {},
     "output_type": "execute_result"
    }
   ],
   "source": [
    "X_train, X_test, y_train, y_test = train_test_split(X, y, test_size=0.5, random_state=0)\n",
    "X_train = X_train[:79,:]\n",
    "y_train = y_train[:79]\n",
    "X_train.shape, y_train.shape"
   ]
  },
  {
   "cell_type": "code",
   "execution_count": 7,
   "metadata": {},
   "outputs": [
    {
     "name": "stdout",
     "output_type": "stream",
     "text": [
      "Gamma = 1.070349905089307\n",
      "C = 1.0\n"
     ]
    }
   ],
   "source": [
    "# calculate sklearn default values for C and gamma\n",
    "n_features = X_train.shape[1]\n",
    "gamma = 1/(n_features*X_train.var())\n",
    "C = 1.0\n",
    "print(\"Gamma = \" + str(gamma))\n",
    "print(\"C = \" + str(C))"
   ]
  },
  {
   "cell_type": "code",
   "execution_count": 43,
   "metadata": {},
   "outputs": [
    {
     "name": "stdout",
     "output_type": "stream",
     "text": [
      "Best cross validation average r^2 achieved on classical SVR is 0.8875172083187295\n",
      "-> Achieved using C=8.836178204816694, epsilon=0.02071095136869859, gamma=0.1865953227493358\n"
     ]
    }
   ],
   "source": [
    "\n",
    "#try to optimize regressor hps\n",
    "from sklearn.model_selection import cross_val_score\n",
    "from sklearn.svm import SVR\n",
    "best, C_best, epsilon_best, gamma_best = -100, None, None, None\n",
    "for _ in range(1000):\n",
    "\tC = np.exp(np.random.uniform(np.log(1e-3),np.log(10.0)))\n",
    "\tgamma = np.exp(np.random.uniform(np.log(1e-3),np.log(10.0)))\n",
    "\tepsilon = np.exp(np.random.uniform(np.log(1e-3),np.log(1)))\n",
    "\tmodel = SVR(C=C,epsilon=epsilon,gamma=gamma)\n",
    "\tcvs, __ = nb_utils.small_train_r2_cv(model, X=X_train, y=y_train, train_size= 20, reps=5, test_size=0.74,rs=_)\n",
    "\tcvs = cvs.mean()\n",
    "\tif best < cvs:\n",
    "\t\tbest = cvs\n",
    "\t\tC_best, epsilon_best, gamma_best = C, epsilon, gamma\n",
    "print(f'Best cross validation average r^2 achieved on classical SVR is {best}')\n",
    "print(f'-> Achieved using C={C_best}, epsilon={epsilon_best}, gamma={gamma_best}')"
   ]
  },
  {
   "cell_type": "code",
   "execution_count": null,
   "metadata": {},
   "outputs": [],
   "source": [
    "qsvr_model = QSVR.QSVR()"
   ]
  },
  {
   "cell_type": "code",
   "execution_count": 73,
   "metadata": {},
   "outputs": [
    {
     "name": "stdout",
     "output_type": "stream",
     "text": [
      "best value for gamma is 0.1, best value for C is 67.61\n",
      "Creating the QUBO Q matrix of size (120, 120)\n",
      "Extracting nodes and couplers from Q\n",
      "The problem has 120 nodes and 7140 couplers\n",
      "Running with 120 nodes and 7140 couplers\n"
     ]
    }
   ],
   "source": [
    "random_seed = 10 \n",
    "# not working if I try to set gamma and C manually\n",
    "# if the training set (n_samples) is not small enough it will fail to find and embedding. n_samples 28 is worse than 20 \n",
    "# if K is incremented it also fails\n",
    "#qsvr_model.fit(X_train, y_train, K = 3, B = 2, epsilon = 0.1, k0 = 0.05, n_samples = 21, num_reads = 2500, random_seed=random_seed, n_samples_for_gamma_and_C_optimizations=20, C = C, gamma = gamma) #insert stuff\n",
    "'''\n",
    "# best r2 up to now\n",
    "qsvr_model.fit(X_train, y_train, K = 3, B = 2, epsilon = 0.02, k0 = 0.05, n_samples = 20, num_reads = 2500, random_seed=random_seed, n_samples_for_gamma_and_C_optimizations=40)\n",
    "'''\n",
    "qsvr_model.fit(X_train, y_train, K = 3, B = 2, epsilon = 0.02, k0 = 0.05, n_samples = 20, num_reads = 2500, random_seed=random_seed, n_samples_for_gamma_and_C_optimizations=40, gamma=0.1, C=67.61)"
   ]
  },
  {
   "cell_type": "code",
   "execution_count": 74,
   "metadata": {},
   "outputs": [
    {
     "data": {
      "text/plain": [
       "[0.008022189375617926,\n",
       " 0.018816895823659,\n",
       " 0.008029861635205682,\n",
       " 0.0066310229880489025,\n",
       " 0.022737687317029947,\n",
       " 0.005705598064555769]"
      ]
     },
     "execution_count": 74,
     "metadata": {},
     "output_type": "execute_result"
    }
   ],
   "source": [
    "# predict returns a 2d array with 6 different predictions for each x_i\n",
    "y_pred = qsvr_model.predict(X_test)\n",
    "mse = []\n",
    "for i in range(y_pred.shape[0]):\n",
    "    mse.append(mean_squared_error(y_pred[i],y_test))\n",
    "mse"
   ]
  },
  {
   "cell_type": "code",
   "execution_count": 75,
   "metadata": {},
   "outputs": [
    {
     "data": {
      "text/plain": [
       "[0.9058861759298176,\n",
       " 0.8841562796716143,\n",
       " 0.9052083995296909,\n",
       " 0.9280280728437256,\n",
       " 0.8698535276071606,\n",
       " 0.9362658563889188]"
      ]
     },
     "execution_count": 75,
     "metadata": {},
     "output_type": "execute_result"
    }
   ],
   "source": [
    "# predict returns a 2d array with 6 different predictions for each x_i\n",
    "y_pred = qsvr_model.predict(X_test)\n",
    "r2 = []\n",
    "for i in range(y_pred.shape[0]):\n",
    "    r2.append(r2_score(y_pred[i],y_test))\n",
    "r2"
   ]
  },
  {
   "cell_type": "code",
   "execution_count": 76,
   "metadata": {},
   "outputs": [
    {
     "data": {
      "image/png": "[encoded data removed]",
      "text/plain": [
       "<Figure size 648x432 with 6 Axes>"
      ]
     },
     "metadata": {
      "needs_background": "light"
     },
     "output_type": "display_data"
    }
   ],
   "source": [
    "fig, axs = plt.subplots(2,3,figsize=(9, 6))\n",
    "fig.suptitle(\"True vs predicted loss for different QSVR versions\")\n",
    "fig.tight_layout()\n",
    "\n",
    "for ax in axs.flat:\n",
    "    ax.set(xlabel='true loss', ylabel='predicted loss')\n",
    "    ax.grid()\n",
    "\n",
    "# Hide x labels and tick labels for top plots and y ticks for right plots.\n",
    "for ax in axs.flat:\n",
    "    ax.label_outer()\n",
    "\n",
    "x = y_scaler.inverse_transform(y_test.reshape(-1, 1))\n",
    "\n",
    "for i in range(y_pred.shape[0]):\n",
    "    y = y_scaler.inverse_transform(y_pred[i,:].reshape(-1, 1))\n",
    "    axs.flat[i].scatter(x,y,s=5)\n",
    "    axs.flat[i].plot([x.min(),x.max()],[x.min(),x.max()],'k')\n",
    "\n",
    "plt.show()"
   ]
  },
  {
   "cell_type": "code",
   "execution_count": 79,
   "metadata": {},
   "outputs": [],
   "source": [
    "# SAVE the needed attributes to reuse the model to do predictions\n",
    "def save_qsvr(qsvr_model, name):\n",
    "\tqsvr_attrs = {\n",
    "\t\t'X_train_reshaped' : qsvr_model.X_train_reshaped,\n",
    "\t\t'Y_train': qsvr_model.Y_train,\n",
    "\t\t'all_alphas' : qsvr_model.all_alphas,\n",
    "\t\t'B' : qsvr_model.B,\n",
    "\t\t'K' : qsvr_model.K,\n",
    "\t\t'epsilon' : qsvr_model.epsilon,\n",
    "\t\t'best_gamma' : qsvr_model.best_gamma,\n",
    "\t\t'best_C' :qsvr_model.best_C,\n",
    "\t\t'change_to_logarithmic' :qsvr_model.change_to_logarithmic,\n",
    "\t}\n",
    "\tdump(qsvr_attrs,name+\".joblib\")"
   ]
  },
  {
   "cell_type": "code",
   "execution_count": 80,
   "metadata": {},
   "outputs": [],
   "source": [
    "if save == True:\n",
    "\tdate = datetime.datetime.now().strftime(\"_%Y_%m_%d-%I:%M:%S.%f_%p\")\t\n",
    "\tsave_qsvr(qsvr_model, \"qsvr_attrs\"+date)\n",
    "\tdump(x_scaler,\"x_scaler_q\"+date+\".joblib\") \n",
    "\tdump(y_scaler,\"y_scaler_q\"+date+\".joblib\")"
   ]
  },
  {
   "cell_type": "code",
   "execution_count": 86,
   "metadata": {},
   "outputs": [
    {
     "name": "stdout",
     "output_type": "stream",
     "text": [
      "B = 2\n",
      "K = 3\n",
      "epsilon = 0.02\n",
      "best_gamma = 0.1\n",
      "best_C = 67.61\n"
     ]
    }
   ],
   "source": [
    "sufix = '_2022_08_18-02:08:37.344989_PM' # write the date extension of the model you want to load\n",
    "#ld_x_scaler = load(\"x_scaler_q\"+sufix+\".joblib\") \n",
    "#ld_y_scaler = load(\"y_scaler_q\"+sufix+\".joblib\")\n",
    "ld_qsvr_attrs = load( \"qsvr_attrs\"+sufix+\".joblib\")\n",
    "print(f'B = {ld_qsvr_attrs[\"B\"]}')\n",
    "print(f'K = {ld_qsvr_attrs[\"K\"]}')\n",
    "print(f'epsilon = {ld_qsvr_attrs[\"epsilon\"]}')\n",
    "print(f'best_gamma = {ld_qsvr_attrs[\"best_gamma\"]}')\n",
    "print(f'best_C = {ld_qsvr_attrs[\"best_C\"]}')"
   ]
  },
  {
   "cell_type": "code",
   "execution_count": 26,
   "metadata": {},
   "outputs": [
    {
     "data": {
      "text/plain": [
       "[0.902828053334424,\n",
       " 0.9123044591285047,\n",
       " 0.9029195202470672,\n",
       " 0.9124470278391059,\n",
       " 0.9123044591285047,\n",
       " 0.8487914544304758]"
      ]
     },
     "execution_count": 26,
     "metadata": {},
     "output_type": "execute_result"
    }
   ],
   "source": [
    "# instantiate a QSVR that can be used to do predictions\n",
    "pred_model = QSVR.QSVR() \n",
    "# set the QSVR attributes needed for predictions\n",
    "for attr in ld_qsvr_attrs.keys():\n",
    "    setattr(pred_model, attr, ld_qsvr_attrs[attr])\n",
    "\n",
    "# use the QSVR to do a prediction\n",
    "# loaded scalers may be needed\n",
    "y_pred = pred_model.predict(X_test)\n",
    "\n",
    "# make use of the prediction\n",
    "r2 = []\n",
    "for i in range(y_pred.shape[0]):\n",
    "    r2.append(r2_score(y_pred[i],y_test))\n",
    "r2"
   ]
  },
  {
   "cell_type": "code",
   "execution_count": 51,
   "metadata": {},
   "outputs": [
    {
     "name": "stdout",
     "output_type": "stream",
     "text": [
      "best value for gamma is 0.1, best value for C is 6.761554302473918\n",
      "Creating the QUBO Q matrix of size (120, 120)\n"
     ]
    },
    {
     "name": "stderr",
     "output_type": "stream",
     "text": [
      "2022-08-18 11:52:06,830 dwave.cloud.client.base INFO MainThread Fetching available regions from the Metadata API at 'https://cloud.dwavesys.com/metadata/v1/'\n"
     ]
    },
    {
     "name": "stdout",
     "output_type": "stream",
     "text": [
      "Extracting nodes and couplers from Q\n",
      "The problem has 120 nodes and 7140 couplers\n",
      "-> Setting sampler to: LazyFixedEmbeddingComposite(DWaveSampler()) \n"
     ]
    },
    {
     "name": "stderr",
     "output_type": "stream",
     "text": [
      "2022-08-18 11:52:08,064 dwave.cloud.client.base INFO MainThread Using region metadata: [Region(code='na-west-1', name='North America', endpoint='https://na-west-1.cloud.dwavesys.com/sapi/v2/'), Region(code='eu-central-1', name='Europe', endpoint='https://eu-central-1.cloud.dwavesys.com/sapi/v2/')]\n",
      "2022-08-18 11:52:08,090 dwave.cloud.client.base INFO MainThread Requested a solver that best matches feature filters={}\n",
      "2022-08-18 11:52:08,092 dwave.cloud.client.base INFO MainThread Fetching solvers according to filters={}, order_by='-num_active_qubits'\n",
      "2022-08-18 11:52:08,095 dwave.cloud.client.base INFO MainThread Fetching definitions of all available solvers\n",
      "2022-08-18 11:52:08,993 dwave.cloud.client.base INFO MainThread Received solver data for 1 solver(s).\n",
      "2022-08-18 11:52:09,046 dwave.cloud.client.base INFO MainThread Adding solver StructuredSolver(id='Advantage_system5.2')\n",
      "2022-08-18 11:52:09,047 dwave.cloud.client.base INFO MainThread Filtered solvers=[StructuredSolver(id='Advantage_system5.2')]\n"
     ]
    },
    {
     "name": "stdout",
     "output_type": "stream",
     "text": [
      "Running with 120 nodes and 7140 couplers\n",
      "best value for gamma is 0.1, best value for C is 6.761554302473918\n",
      "Creating the QUBO Q matrix of size (120, 120)\n"
     ]
    },
    {
     "name": "stderr",
     "output_type": "stream",
     "text": [
      "2022-08-18 11:56:17,174 dwave.cloud.client.base INFO MainThread Using region metadata: [Region(code='na-west-1', name='North America', endpoint='https://na-west-1.cloud.dwavesys.com/sapi/v2/'), Region(code='eu-central-1', name='Europe', endpoint='https://eu-central-1.cloud.dwavesys.com/sapi/v2/')]\n",
      "2022-08-18 11:56:17,208 dwave.cloud.client.base INFO MainThread Requested a solver that best matches feature filters={}\n",
      "2022-08-18 11:56:17,213 dwave.cloud.client.base INFO MainThread Fetching solvers according to filters={}, order_by='-num_active_qubits'\n",
      "2022-08-18 11:56:17,215 dwave.cloud.client.base INFO MainThread Fetching definitions of all available solvers\n"
     ]
    },
    {
     "name": "stdout",
     "output_type": "stream",
     "text": [
      "Extracting nodes and couplers from Q\n",
      "The problem has 120 nodes and 7140 couplers\n",
      "-> Setting sampler to: LazyFixedEmbeddingComposite(DWaveSampler()) \n"
     ]
    },
    {
     "name": "stderr",
     "output_type": "stream",
     "text": [
      "2022-08-18 11:56:17,931 dwave.cloud.client.base INFO MainThread Received solver data for 1 solver(s).\n",
      "2022-08-18 11:56:17,991 dwave.cloud.client.base INFO MainThread Adding solver StructuredSolver(id='Advantage_system5.2')\n",
      "2022-08-18 11:56:17,992 dwave.cloud.client.base INFO MainThread Filtered solvers=[StructuredSolver(id='Advantage_system5.2')]\n"
     ]
    },
    {
     "name": "stdout",
     "output_type": "stream",
     "text": [
      "Running with 120 nodes and 7140 couplers\n",
      "best value for gamma is 0.1, best value for C is 6.761554302473918\n",
      "Creating the QUBO Q matrix of size (120, 120)\n"
     ]
    },
    {
     "name": "stderr",
     "output_type": "stream",
     "text": [
      "2022-08-18 12:02:03,425 dwave.cloud.client.base INFO MainThread Using region metadata: [Region(code='na-west-1', name='North America', endpoint='https://na-west-1.cloud.dwavesys.com/sapi/v2/'), Region(code='eu-central-1', name='Europe', endpoint='https://eu-central-1.cloud.dwavesys.com/sapi/v2/')]\n",
      "2022-08-18 12:02:03,465 dwave.cloud.client.base INFO MainThread Requested a solver that best matches feature filters={}\n",
      "2022-08-18 12:02:03,467 dwave.cloud.client.base INFO MainThread Fetching solvers according to filters={}, order_by='-num_active_qubits'\n",
      "2022-08-18 12:02:03,467 dwave.cloud.client.base INFO MainThread Fetching definitions of all available solvers\n"
     ]
    },
    {
     "name": "stdout",
     "output_type": "stream",
     "text": [
      "Extracting nodes and couplers from Q\n",
      "The problem has 120 nodes and 7140 couplers\n",
      "-> Setting sampler to: LazyFixedEmbeddingComposite(DWaveSampler()) \n"
     ]
    },
    {
     "name": "stderr",
     "output_type": "stream",
     "text": [
      "2022-08-18 12:02:04,532 dwave.cloud.client.base INFO MainThread Received solver data for 1 solver(s).\n",
      "2022-08-18 12:02:04,588 dwave.cloud.client.base INFO MainThread Adding solver StructuredSolver(id='Advantage_system5.2')\n",
      "2022-08-18 12:02:04,589 dwave.cloud.client.base INFO MainThread Filtered solvers=[StructuredSolver(id='Advantage_system5.2')]\n"
     ]
    },
    {
     "name": "stdout",
     "output_type": "stream",
     "text": [
      "Running with 120 nodes and 7140 couplers\n",
      "best value for gamma is 0.1, best value for C is 6.761554302473918\n",
      "Creating the QUBO Q matrix of size (120, 120)\n"
     ]
    },
    {
     "name": "stderr",
     "output_type": "stream",
     "text": [
      "2022-08-18 12:07:12,114 dwave.cloud.client.base INFO MainThread Using region metadata: [Region(code='na-west-1', name='North America', endpoint='https://na-west-1.cloud.dwavesys.com/sapi/v2/'), Region(code='eu-central-1', name='Europe', endpoint='https://eu-central-1.cloud.dwavesys.com/sapi/v2/')]\n",
      "2022-08-18 12:07:12,170 dwave.cloud.client.base INFO MainThread Requested a solver that best matches feature filters={}\n",
      "2022-08-18 12:07:12,173 dwave.cloud.client.base INFO MainThread Fetching solvers according to filters={}, order_by='-num_active_qubits'\n",
      "2022-08-18 12:07:12,176 dwave.cloud.client.base INFO MainThread Fetching definitions of all available solvers\n"
     ]
    },
    {
     "name": "stdout",
     "output_type": "stream",
     "text": [
      "Extracting nodes and couplers from Q\n",
      "The problem has 120 nodes and 7140 couplers\n",
      "-> Setting sampler to: LazyFixedEmbeddingComposite(DWaveSampler()) \n"
     ]
    },
    {
     "name": "stderr",
     "output_type": "stream",
     "text": [
      "2022-08-18 12:07:12,710 dwave.cloud.client.base INFO MainThread Received solver data for 1 solver(s).\n",
      "2022-08-18 12:07:12,761 dwave.cloud.client.base INFO MainThread Adding solver StructuredSolver(id='Advantage_system5.2')\n",
      "2022-08-18 12:07:12,763 dwave.cloud.client.base INFO MainThread Filtered solvers=[StructuredSolver(id='Advantage_system5.2')]\n"
     ]
    },
    {
     "name": "stdout",
     "output_type": "stream",
     "text": [
      "Running with 120 nodes and 7140 couplers\n",
      "best value for gamma is 3, best value for C is 6.761554302473918\n",
      "Creating the QUBO Q matrix of size (120, 120)\n"
     ]
    },
    {
     "name": "stderr",
     "output_type": "stream",
     "text": [
      "2022-08-18 12:12:03,076 dwave.cloud.client.base INFO MainThread Using region metadata: [Region(code='na-west-1', name='North America', endpoint='https://na-west-1.cloud.dwavesys.com/sapi/v2/'), Region(code='eu-central-1', name='Europe', endpoint='https://eu-central-1.cloud.dwavesys.com/sapi/v2/')]\n",
      "2022-08-18 12:12:03,120 dwave.cloud.client.base INFO MainThread Requested a solver that best matches feature filters={}\n",
      "2022-08-18 12:12:03,122 dwave.cloud.client.base INFO MainThread Fetching solvers according to filters={}, order_by='-num_active_qubits'\n",
      "2022-08-18 12:12:03,124 dwave.cloud.client.base INFO MainThread Fetching definitions of all available solvers\n"
     ]
    },
    {
     "name": "stdout",
     "output_type": "stream",
     "text": [
      "Extracting nodes and couplers from Q\n",
      "The problem has 120 nodes and 7140 couplers\n",
      "-> Setting sampler to: LazyFixedEmbeddingComposite(DWaveSampler()) \n"
     ]
    },
    {
     "name": "stderr",
     "output_type": "stream",
     "text": [
      "2022-08-18 12:12:04,522 dwave.cloud.client.base INFO MainThread Received solver data for 1 solver(s).\n",
      "2022-08-18 12:12:04,579 dwave.cloud.client.base INFO MainThread Adding solver StructuredSolver(id='Advantage_system5.2')\n",
      "2022-08-18 12:12:04,580 dwave.cloud.client.base INFO MainThread Filtered solvers=[StructuredSolver(id='Advantage_system5.2')]\n"
     ]
    },
    {
     "name": "stdout",
     "output_type": "stream",
     "text": [
      "Running with 120 nodes and 7140 couplers\n",
      "scores norm: [ 0.65073362 -0.41808119  0.6911982   0.53603916 -0.19651702]\n",
      "scores softmax: [0.38871434 0.27609123 0.66139014 0.61652776 0.39023292]\n",
      "scores lc norm: [ 0.63792927 -0.4177085   0.74508579  0.61732445 -0.27350845]\n",
      "scores lc softmax: [ 0.55532013 -2.4612873   0.87857858  0.69982103  0.39047077]\n",
      "best set of alphas: [ 0.39037381  0.46821951  0.66584721  0.38753393 -0.08475623]\n",
      "simple mean: [-3.80824497 -3.23938098  0.84698596  0.70551808  0.39008649]\n"
     ]
    }
   ],
   "source": [
    "'''\n",
    "WARNING: THIS CELL SENDS PROBLEMS TO D-WAVE MULTIPLE TIMES\n",
    "REMEMBRER D-WAVE AVALIABLE TIME IS LIMITED\n",
    "'''\n",
    "# load data\n",
    "df_info = nb_utils.get_df_info('mlpf')\n",
    "df = pd.read_csv(df_info['df_path'])\n",
    "df = df.drop(df[df.loss_99 == df.loss_99.max()].index)\n",
    "\n",
    "# Select features\n",
    "curve = nb_utils.get_curve(df_info=df_info, known_curve=0.25, df=df)\n",
    "X = curve[:,[i for i in range(0,curve.shape[1],2)]]\n",
    "\n",
    "# Prediction target\n",
    "y = nb_utils.get_target(df_info,df)\n",
    "\n",
    "# Scale data\n",
    "x_scaler = QuantileTransformer(n_quantiles=50,random_state=0)\n",
    "X = x_scaler.fit_transform(X)\n",
    "y_scaler =  QuantileTransformer(n_quantiles=50,random_state=0)\n",
    "y = y_scaler.fit_transform(y.reshape(-1, 1)).ravel()\n",
    "\n",
    "rs = 0\n",
    "num_runs = 0\n",
    "r2 = np.zeros((num_runs, 6))\n",
    "for i in range(num_runs):\n",
    "\t# train test split\n",
    "\tX_train, X_test, y_train, y_test = train_test_split(X, y, test_size=0.5, random_state=rs+i)\n",
    "\tX_train = X_train[:79,:]\n",
    "\ty_train = y_train[:79]\n",
    "\t\n",
    "\t# QSVR code\n",
    "\tqsvr_model = QSVR.QSVR() # instantiate\n",
    "\t#RUN ON D-WAVE\n",
    "\tqsvr_model.fit(X_train, y_train, K = 3, B = 2, epsilon = 0.02, k0 = 0.05, n_samples = 20, num_reads = 2500, random_seed=rs+i, n_samples_for_gamma_and_C_optimizations=40)\n",
    "\tsave_qsvr(qsvr_model, 'qsvr_attrs_qtr_rs'+str(rs+i)) # save QSVR for further predictions\n",
    "\t# evaluate QSVR\n",
    "\ty_pred = qsvr_model.predict(X_test)\n",
    "\tfor j in range(6):\n",
    "\t\tr2[i,j] = r2_score(y_pred[j],y_test)\n",
    "\tprint(f'Finished run {i} with r2 = {r2[i,:]}')\n",
    "results = {\n",
    "\t'scores norm' : r2[:,0],\n",
    "\t'scores softmax' : r2[:,1],\n",
    "\t'scores lc norm' : r2[:,2],\n",
    "\t'scores lc softmax' : r2[:,3],\n",
    "\t'best set of alphas' : r2[:,4],\n",
    "\t'simple mean' : r2[:,5]\n",
    "}\n",
    "\n",
    "dump(results, 'results_qtr_rs'+str(rs)+'.joblib')\n",
    "\n",
    "for k in results.keys():\n",
    "\tprint(f'{k}: {results[k]}')"
   ]
  },
  {
   "cell_type": "code",
   "execution_count": 54,
   "metadata": {},
   "outputs": [
    {
     "data": {
      "image/png": "[encoded data removed]",
      "text/plain": [
       "<Figure size 864x576 with 1 Axes>"
      ]
     },
     "metadata": {
      "needs_background": "light"
     },
     "output_type": "display_data"
    }
   ],
   "source": [
    "results = load('results_qtr_rs0.joblib')\n",
    "barWidth = 0.25\n",
    "fig = plt.subplots(figsize =(12, 8))\n",
    "plt.grid()\n",
    "plt.gca().set_axisbelow(True)\n",
    " \n",
    "# set height of bar\n",
    "MEAN = [val.mean() for val in results.values()]\n",
    "MEDIAN = [np.median(val) for val in results.values()]\n",
    "MAX = [val.max() for val in results.values()]\n",
    " \n",
    "# Set position of bar on X axis\n",
    "br1 = np.arange(len(results))\n",
    "br2 = [x + barWidth for x in br1]\n",
    "br3 = [x + barWidth for x in br2]\n",
    " \n",
    "# Make the plot\n",
    "plt.bar(br1, MEAN, width = barWidth, label ='Mean')\n",
    "plt.bar(br2, MEDIAN, width = barWidth, label ='Median')\n",
    "plt.bar(br3, MAX, width = barWidth, label ='Max')\n",
    " \n",
    "# Adding Xticks\n",
    "plt.ylabel('R^2', fontweight ='bold', fontsize = 15)\n",
    "plt.xticks([r + barWidth for r in range(len(results.keys()))], list(results.keys()))\n",
    " \n",
    "plt.legend()\n",
    "plt.show()"
   ]
  }
 ],
 "metadata": {
  "kernelspec": {
   "display_name": "Python 3.9.12 ('py39')",
   "language": "python",
   "name": "python3"
  },
  "language_info": {
   "codemirror_mode": {
    "name": "ipython",
    "version": 3
   },
   "file_extension": ".py",
   "mimetype": "text/x-python",
   "name": "python",
   "nbconvert_exporter": "python",
   "pygments_lexer": "ipython3",
   "version": "3.9.12"
  },
  "orig_nbformat": 4,
  "vscode": {
   "interpreter": {
    "hash": "1ac4248432e308955067782465497de26ed69bab2d310610bc1af3ad0fd9ab68"
   }
  }
 },
 "nbformat": 4,
 "nbformat_minor": 2
}
