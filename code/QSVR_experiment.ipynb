{
 "cells": [
  {
   "cell_type": "markdown",
   "metadata": {},
   "source": [
    "# Run QSVR experiments with multiple splits"
   ]
  },
  {
   "cell_type": "code",
   "execution_count": 1,
   "metadata": {},
   "outputs": [],
   "source": [
    "import matplotlib.pyplot as plt\n",
    "import numpy as np\n",
    "import pandas as pd\n",
    "import time\n",
    "from qa_summer.QSVR import QSVR\n",
    "from dimod import ExactSolver\n",
    "from sklearn.preprocessing import QuantileTransformer\n",
    "from sklearn.model_selection import train_test_split\n",
    "from utils import nb_utils\n",
    "from joblib import dump, load\n",
    "from sklearn.metrics import r2_score\n",
    "from sklearn.metrics import mean_squared_error\n",
    "import datetime\n",
    "from random import randint, random\n",
    "from sklearn.model_selection import cross_val_score\n",
    "from sklearn.svm import SVR\n",
    "#import neal #import to use simulated annealing sampler\n",
    "#from dwave.system import DWaveSampler #import to select specific sampler"
   ]
  },
  {
   "cell_type": "code",
   "execution_count": 2,
   "metadata": {},
   "outputs": [],
   "source": [
    "search_svr_hps = False\n",
    "experiment_name = ''\n",
    "#date = datetime.datetime.now().strftime(\"_%Y_%m_%d-%I:%M:%S.%f_%p\")\n",
    "#experiment_name = experiment_name + date"
   ]
  },
  {
   "cell_type": "markdown",
   "metadata": {},
   "source": [
    "### Run experiments with fixed epsilon, C and gamma"
   ]
  },
  {
   "cell_type": "code",
   "execution_count": null,
   "metadata": {},
   "outputs": [],
   "source": [
    "'''\n",
    "WARNING: THIS CELL SENDS PROBLEMS TO D-WAVE MULTIPLE TIMES\n",
    "REMEMBRER D-WAVE AVALIABLE TIME IS LIMITED\n",
    "'''\n",
    "if search_svr_hps: #ONLY RUNS FOR FIXED SVR PARAMS: epsilon, C and gamma\n",
    "\tnb_utils.exit_cell('Exiting cell as search_svr_hps is set to True')\n",
    "\n",
    "# load data\n",
    "df_info = nb_utils.get_df_info('mlpf')\n",
    "df = pd.read_csv(df_info['df_path'])\n",
    "df = df.drop(df[df.loss_99 == df.loss_99.max()].index)\n",
    "\n",
    "# Select features\n",
    "curve = nb_utils.get_curve(df_info=df_info, known_curve=0.25, df=df)\n",
    "X = curve[:,[i for i in range(0,curve.shape[1],2)]]\n",
    "\n",
    "# Prediction target\n",
    "y = nb_utils.get_target(df_info,df)\n",
    "\n",
    "# Scale data\n",
    "x_scaler = QuantileTransformer(n_quantiles=50,random_state=0)\n",
    "X = x_scaler.fit_transform(X)\n",
    "y_scaler =  QuantileTransformer(n_quantiles=50,random_state=0)\n",
    "y = y_scaler.fit_transform(y.reshape(-1, 1)).ravel()\n",
    "\n",
    "rs = randint(0, 2**30)\n",
    "num_runs = 10\n",
    "r2 = np.zeros((num_runs, 7))\n",
    "for i in range(num_runs):\n",
    "\t# train test split\n",
    "\tX_train, X_test, y_train, y_test = train_test_split(X, y, test_size=0.5, random_state=rs+i)\n",
    "\tX_train = X_train[:79,:]\n",
    "\ty_train = y_train[:79]\n",
    "\t\n",
    "\t# QSVR code\n",
    "\tqsvr_model = QSVR.QSVR() # instantiate\n",
    "\t#RUN ON D-WAVE\n",
    "\t#set sampler\n",
    "\t#sampler =  DWaveSampler(region='na-west-1', solver='Advantage_system6.1')\n",
    "\tqsvr_model.fit(X_train, y_train, K = 3, B = 0.5, epsilon = 0.02, k0 = 0.005, xi=0.01, n_samples = 20, num_reads = 1000, random_seed=rs+i, n_samples_for_gamma_and_C_optimizations=40, gamma=0.1, C=67.61, use_custom_chainstrength=True, chain_mult=8)\n",
    "\t\n",
    "\tnb_utils.save_qsvr(qsvr_model, 'qsvr_attrs_'+experiment_name+'_rs'+str(rs)+'_i'+str(i)) # save QSVR for further predictions\n",
    "\t\n",
    "\t# evaluate QSVR\n",
    "\ty_pred = qsvr_model.predict(X_test)\n",
    "\tfor j in range(7):\n",
    "\t\tr2[i,j] = r2_score(y_pred[j],y_test)\n",
    "\tprint(f'Finished run {i} with r2 = {r2[i,:]} with mean = {r2[i,:].mean()}')\n",
    "\n",
    "results = {\n",
    "\t'scores norm' : r2[:,0],\n",
    "\t'scores softmax' : r2[:,1],\n",
    "\t'scores lc norm' : r2[:,2],\n",
    "\t'scores lc softmax' : r2[:,3],\n",
    "\t'best set of alphas' : r2[:,4],\n",
    "\t'simple mean' : r2[:,5],\n",
    "\t'min energy' : r2[:,6]\n",
    "}\n",
    "\n",
    "dump(results, 'results_'+experiment_name+'_rs'+str(rs)+'.joblib')\n",
    "\n",
    "for k in results.keys():\n",
    "\tprint(f'{k}: {results[k]}')"
   ]
  },
  {
   "cell_type": "markdown",
   "metadata": {},
   "source": [
    "### Run experiments searching for epsilon, C and gamma"
   ]
  },
  {
   "cell_type": "code",
   "execution_count": 3,
   "metadata": {},
   "outputs": [
    {
     "name": "stdout",
     "output_type": "stream",
     "text": [
      "Exiting cell as search_svr_hps is set to False\n"
     ]
    }
   ],
   "source": [
    "'''\n",
    "WARNING: THIS CELL SENDS PROBLEMS TO D-WAVE MULTIPLE TIMES\n",
    "REMEMBRER D-WAVE AVALIABLE TIME IS LIMITED\n",
    "'''\n",
    "if not search_svr_hps: #ONLY RUNS if user wants to search for: epsilon, C and gamma\n",
    "\tnb_utils.exit_cell('Exiting cell as search_svr_hps is set to False')\n",
    "\t\n",
    "# load data\n",
    "df_info = nb_utils.get_df_info('mlpf')\n",
    "df = pd.read_csv(df_info['df_path'])\n",
    "df = df.drop(df[df.loss_99 == df.loss_99.max()].index)\n",
    "\n",
    "# Select features\n",
    "curve = nb_utils.get_curve(df_info=df_info, known_curve=0.25, df=df)\n",
    "X = curve[:,[i for i in range(0,curve.shape[1],2)]]\n",
    "\n",
    "# Prediction target\n",
    "y = nb_utils.get_target(df_info,df)\n",
    "\n",
    "# Scale data\n",
    "x_scaler = QuantileTransformer(n_quantiles=50,random_state=0)\n",
    "X = x_scaler.fit_transform(X)\n",
    "y_scaler =  QuantileTransformer(n_quantiles=50,random_state=0)\n",
    "y = y_scaler.fit_transform(y.reshape(-1, 1)).ravel()\n",
    "\n",
    "rs = randint(0, 2**30)\n",
    "num_runs = 5\n",
    "r2 = np.zeros((num_runs, 6))\n",
    "for i in range(num_runs):\n",
    "\t# train test split\n",
    "\tX_train, X_test, y_train, y_test = train_test_split(X, y, test_size=200, random_state=rs+i)\n",
    "\n",
    "\t# Optimiza SVR hps using classical SVR\n",
    "\tbest, C_best, epsilon_best, gamma_best = -100, None, None, None\n",
    "\tfor j in range(5000):\n",
    "\t\tC = np.exp(np.random.uniform(np.log(1e-4),np.log(100.0)))\n",
    "\t\tgamma = 1/(X_train.shape[1]*X_train.var())\n",
    "\t\tepsilon = np.exp(np.random.uniform(np.log(1e-3),np.log(1)))\n",
    "\t\tmodel = SVR(C=C,epsilon=epsilon,gamma=gamma)\n",
    "\t\tcvs, __ = nb_utils.small_train_r2_cv(model, X=X_train, y=y_train, train_size= 20, reps=5, test_size=0.74,rs=rs+j)\n",
    "\t\tcvs = cvs.mean()\n",
    "\t\tif best < cvs:\n",
    "\t\t\tbest = cvs\n",
    "\t\tC_best, epsilon_best, gamma_best = C, epsilon, gamma\n",
    "        \n",
    "\tprint(pd.DataFrame({'CV mean R^2': best, 'C': C_best, 'epsilon': epsilon_best, 'gamma': gamma_best}, index=['Best hyperparameters']))\n",
    "\n",
    "\tX_train, _, y_train, _ = train_test_split(X, y, train_size=20, random_state=rs+i)\n",
    "\n",
    "\t\n",
    "\t# QSVR code\n",
    "\tqsvr_model = QSVR.QSVR() # instantiate\n",
    "\t#RUN ON D-WAVE\n",
    "\tqsvr_model.fit(X_train, y_train, K = 3, B = 2, epsilon = epsilon_best, k0 = 0.005, xi=0.01, n_samples = 20, num_reads = 2500, random_seed=rs+i, n_samples_for_gamma_and_C_optimizations=0, gamma=gamma_best, C=C_best)\n",
    "\tnb_utils.save_qsvr(qsvr_model, 'qsvr_attrs_'+experiment_name+'_rs'+str(rs)+'_i'+str(i)) # save QSVR for further predictions\n",
    "\t# evaluate QSVR\n",
    "\ty_pred = qsvr_model.predict(X_test)\n",
    "\tfor j in range(6):\n",
    "\t\tr2[i,j] = r2_score(y_pred[j],y_test)\n",
    "\tprint(f'Finished run {i} with r2 = {r2[i,:]}')\n",
    "results = {\n",
    "\t'scores norm' : r2[:,0],\n",
    "\t'scores softmax' : r2[:,1],\n",
    "\t'scores lc norm' : r2[:,2],\n",
    "\t'scores lc softmax' : r2[:,3],\n",
    "\t'best set of alphas' : r2[:,4],\n",
    "\t'simple mean' : r2[:,5]\n",
    "}\n",
    "\n",
    "dump(results, 'results_'+experiment_name+'_rs'+str(rs)+'.joblib')\n",
    "\n",
    "for k in results.keys():\n",
    "\tprint(f'{k}: {results[k]}')"
   ]
  },
  {
   "cell_type": "markdown",
   "metadata": {},
   "source": [
    "### Analize experiment results"
   ]
  },
  {
   "cell_type": "code",
   "execution_count": null,
   "metadata": {},
   "outputs": [],
   "source": [
    "#results = load('results_B10_g01_k005_xi01_c67_rs'+str(rs)+'.joblib')\n",
    "barWidth = 0.25\n",
    "fig = plt.subplots(figsize =(12, 8))\n",
    "plt.grid()\n",
    "plt.gca().set_axisbelow(True)\n",
    " \n",
    "# set height of bar\n",
    "MEAN = [val.mean() for val in results.values()]\n",
    "MEDIAN = [np.median(val) for val in results.values()]\n",
    "MAX = [val.max() for val in results.values()]\n",
    " \n",
    "# Set position of bar on X axis\n",
    "br1 = np.arange(len(results))\n",
    "br2 = [x + barWidth for x in br1]\n",
    "br3 = [x + barWidth for x in br2]\n",
    " \n",
    "# Make the plot\n",
    "plt.bar(br1, MEAN, width = barWidth, label ='Mean')\n",
    "plt.bar(br2, MEDIAN, width = barWidth, label ='Median')\n",
    "plt.bar(br3, MAX, width = barWidth, label ='Max')\n",
    " \n",
    "# Adding Xticks\n",
    "plt.ylabel('R^2', fontweight ='bold', fontsize = 15)\n",
    "plt.xticks([r + barWidth for r in range(len(results.keys()))], list(results.keys()))\n",
    " \n",
    "plt.legend()\n",
    "plt.show()"
   ]
  }
 ],
 "metadata": {
  "kernelspec": {
   "display_name": "Python 3.9.12 ('py39')",
   "language": "python",
   "name": "python3"
  },
  "language_info": {
   "codemirror_mode": {
    "name": "ipython",
    "version": 3
   },
   "file_extension": ".py",
   "mimetype": "text/x-python",
   "name": "python",
   "nbconvert_exporter": "python",
   "pygments_lexer": "ipython3",
   "version": "3.9.12"
  },
  "orig_nbformat": 4,
  "vscode": {
   "interpreter": {
    "hash": "1ac4248432e308955067782465497de26ed69bab2d310610bc1af3ad0fd9ab68"
   }
  }
 },
 "nbformat": 4,
 "nbformat_minor": 2
}
