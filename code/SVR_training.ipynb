{
 "cells": [
  {
   "cell_type": "code",
   "execution_count": 5,
   "metadata": {},
   "outputs": [],
   "source": [
    "import pandas as pd\n",
    "import numpy as np\n",
    "from math import inf\n",
    "from sklearn.model_selection import train_test_split, cross_val_score\n",
    "from sklearn.svm import NuSVR\n",
    "from sklearn.metrics import mean_squared_error\n",
    "from sklearn.model_selection import cross_val_score\n",
    "from sklearn.preprocessing import MinMaxScaler\n",
    "from joblib import dump #more efficient than pickle on objects that carry large numpy arrays internally\n",
    "from utils import nb_utils"
   ]
  },
  {
   "cell_type": "code",
   "execution_count": 6,
   "metadata": {},
   "outputs": [],
   "source": [
    "#data = \"mnist_4hp\"\n",
    "#data = \"mnist_6hp\"\n",
    "data = \"mlpf\"\n",
    "save = False"
   ]
  },
  {
   "cell_type": "code",
   "execution_count": 8,
   "metadata": {},
   "outputs": [],
   "source": [
    "df_info = nb_utils.get_df_info('mlpf')\n",
    "df_path = df_info['df_path']\n",
    "num_epochs = df_info['num_epochs']\n",
    "min_hp_idx = df_info['min_hp_idx']\n",
    "max_hp_idx = df_info['max_hp_idx']\n",
    "min_curve_idx = df_info['min_curve_idx']\n"
   ]
  },
  {
   "cell_type": "code",
   "execution_count": 9,
   "metadata": {},
   "outputs": [
    {
     "data": {
      "text/html": [
       "<div>\n",
       "<style scoped>\n",
       "    .dataframe tbody tr th:only-of-type {\n",
       "        vertical-align: middle;\n",
       "    }\n",
       "\n",
       "    .dataframe tbody tr th {\n",
       "        vertical-align: top;\n",
       "    }\n",
       "\n",
       "    .dataframe thead th {\n",
       "        text-align: right;\n",
       "    }\n",
       "</style>\n",
       "<table border=\"1\" class=\"dataframe\">\n",
       "  <thead>\n",
       "    <tr style=\"text-align: right;\">\n",
       "      <th></th>\n",
       "      <th>bin_size</th>\n",
       "      <th>dropout</th>\n",
       "      <th>lr</th>\n",
       "      <th>n_glayers_id</th>\n",
       "      <th>n_glayers_reg</th>\n",
       "      <th>output_dim</th>\n",
       "      <th>weight_decay</th>\n",
       "      <th>loss_0</th>\n",
       "      <th>loss_1</th>\n",
       "      <th>loss_2</th>\n",
       "      <th>...</th>\n",
       "      <th>loss_90</th>\n",
       "      <th>loss_91</th>\n",
       "      <th>loss_92</th>\n",
       "      <th>loss_93</th>\n",
       "      <th>loss_94</th>\n",
       "      <th>loss_95</th>\n",
       "      <th>loss_96</th>\n",
       "      <th>loss_97</th>\n",
       "      <th>loss_98</th>\n",
       "      <th>loss_99</th>\n",
       "    </tr>\n",
       "  </thead>\n",
       "  <tbody>\n",
       "    <tr>\n",
       "      <th>0</th>\n",
       "      <td>64.0</td>\n",
       "      <td>0.449385</td>\n",
       "      <td>0.009435</td>\n",
       "      <td>0.0</td>\n",
       "      <td>3.0</td>\n",
       "      <td>256.0</td>\n",
       "      <td>0.000044</td>\n",
       "      <td>484.088806</td>\n",
       "      <td>459.301514</td>\n",
       "      <td>455.343811</td>\n",
       "      <td>...</td>\n",
       "      <td>447.429688</td>\n",
       "      <td>447.619354</td>\n",
       "      <td>447.439209</td>\n",
       "      <td>447.404633</td>\n",
       "      <td>447.566406</td>\n",
       "      <td>447.313049</td>\n",
       "      <td>447.398407</td>\n",
       "      <td>447.414673</td>\n",
       "      <td>447.228088</td>\n",
       "      <td>447.501160</td>\n",
       "    </tr>\n",
       "    <tr>\n",
       "      <th>1</th>\n",
       "      <td>64.0</td>\n",
       "      <td>0.089148</td>\n",
       "      <td>0.000039</td>\n",
       "      <td>4.0</td>\n",
       "      <td>2.0</td>\n",
       "      <td>32.0</td>\n",
       "      <td>0.001984</td>\n",
       "      <td>533.915894</td>\n",
       "      <td>530.372620</td>\n",
       "      <td>531.893738</td>\n",
       "      <td>...</td>\n",
       "      <td>529.851562</td>\n",
       "      <td>529.258301</td>\n",
       "      <td>529.493103</td>\n",
       "      <td>530.038452</td>\n",
       "      <td>529.909546</td>\n",
       "      <td>528.990479</td>\n",
       "      <td>528.480469</td>\n",
       "      <td>528.026733</td>\n",
       "      <td>528.153503</td>\n",
       "      <td>528.540161</td>\n",
       "    </tr>\n",
       "    <tr>\n",
       "      <th>2</th>\n",
       "      <td>16.0</td>\n",
       "      <td>0.486632</td>\n",
       "      <td>0.000276</td>\n",
       "      <td>2.0</td>\n",
       "      <td>4.0</td>\n",
       "      <td>64.0</td>\n",
       "      <td>0.000065</td>\n",
       "      <td>523.189575</td>\n",
       "      <td>465.601929</td>\n",
       "      <td>461.147034</td>\n",
       "      <td>...</td>\n",
       "      <td>450.873169</td>\n",
       "      <td>450.938354</td>\n",
       "      <td>450.910492</td>\n",
       "      <td>450.801270</td>\n",
       "      <td>450.888123</td>\n",
       "      <td>450.814850</td>\n",
       "      <td>450.916229</td>\n",
       "      <td>450.814087</td>\n",
       "      <td>450.843414</td>\n",
       "      <td>450.758148</td>\n",
       "    </tr>\n",
       "    <tr>\n",
       "      <th>3</th>\n",
       "      <td>32.0</td>\n",
       "      <td>0.172208</td>\n",
       "      <td>0.000042</td>\n",
       "      <td>3.0</td>\n",
       "      <td>2.0</td>\n",
       "      <td>64.0</td>\n",
       "      <td>0.000007</td>\n",
       "      <td>543.986328</td>\n",
       "      <td>484.317230</td>\n",
       "      <td>472.085449</td>\n",
       "      <td>...</td>\n",
       "      <td>448.064484</td>\n",
       "      <td>448.042389</td>\n",
       "      <td>447.977570</td>\n",
       "      <td>447.926147</td>\n",
       "      <td>447.885559</td>\n",
       "      <td>447.846802</td>\n",
       "      <td>447.796967</td>\n",
       "      <td>447.781799</td>\n",
       "      <td>447.710571</td>\n",
       "      <td>447.668335</td>\n",
       "    </tr>\n",
       "    <tr>\n",
       "      <th>4</th>\n",
       "      <td>32.0</td>\n",
       "      <td>0.172208</td>\n",
       "      <td>0.000042</td>\n",
       "      <td>3.0</td>\n",
       "      <td>2.0</td>\n",
       "      <td>64.0</td>\n",
       "      <td>0.000007</td>\n",
       "      <td>543.924561</td>\n",
       "      <td>484.485809</td>\n",
       "      <td>472.445312</td>\n",
       "      <td>...</td>\n",
       "      <td>448.215912</td>\n",
       "      <td>544.031372</td>\n",
       "      <td>484.386292</td>\n",
       "      <td>472.220398</td>\n",
       "      <td>467.484924</td>\n",
       "      <td>464.688690</td>\n",
       "      <td>462.955078</td>\n",
       "      <td>461.424591</td>\n",
       "      <td>460.127716</td>\n",
       "      <td>459.114685</td>\n",
       "    </tr>\n",
       "  </tbody>\n",
       "</table>\n",
       "<p>5 rows × 107 columns</p>\n",
       "</div>"
      ],
      "text/plain": [
       "   bin_size   dropout        lr  n_glayers_id  n_glayers_reg  output_dim  \\\n",
       "0      64.0  0.449385  0.009435           0.0            3.0       256.0   \n",
       "1      64.0  0.089148  0.000039           4.0            2.0        32.0   \n",
       "2      16.0  0.486632  0.000276           2.0            4.0        64.0   \n",
       "3      32.0  0.172208  0.000042           3.0            2.0        64.0   \n",
       "4      32.0  0.172208  0.000042           3.0            2.0        64.0   \n",
       "\n",
       "   weight_decay      loss_0      loss_1      loss_2  ...     loss_90  \\\n",
       "0      0.000044  484.088806  459.301514  455.343811  ...  447.429688   \n",
       "1      0.001984  533.915894  530.372620  531.893738  ...  529.851562   \n",
       "2      0.000065  523.189575  465.601929  461.147034  ...  450.873169   \n",
       "3      0.000007  543.986328  484.317230  472.085449  ...  448.064484   \n",
       "4      0.000007  543.924561  484.485809  472.445312  ...  448.215912   \n",
       "\n",
       "      loss_91     loss_92     loss_93     loss_94     loss_95     loss_96  \\\n",
       "0  447.619354  447.439209  447.404633  447.566406  447.313049  447.398407   \n",
       "1  529.258301  529.493103  530.038452  529.909546  528.990479  528.480469   \n",
       "2  450.938354  450.910492  450.801270  450.888123  450.814850  450.916229   \n",
       "3  448.042389  447.977570  447.926147  447.885559  447.846802  447.796967   \n",
       "4  544.031372  484.386292  472.220398  467.484924  464.688690  462.955078   \n",
       "\n",
       "      loss_97     loss_98     loss_99  \n",
       "0  447.414673  447.228088  447.501160  \n",
       "1  528.026733  528.153503  528.540161  \n",
       "2  450.814087  450.843414  450.758148  \n",
       "3  447.781799  447.710571  447.668335  \n",
       "4  461.424591  460.127716  459.114685  \n",
       "\n",
       "[5 rows x 107 columns]"
      ]
     },
     "execution_count": 9,
     "metadata": {},
     "output_type": "execute_result"
    }
   ],
   "source": [
    "df = pd.read_csv(df_path)\n",
    "#df = df.iloc[:300]\n",
    "if data == \"mlpf\":\n",
    "    #remove outlier\n",
    "    df = df.drop(df[df.loss_99 == df.loss_99.max()].index)\n",
    "df.head()"
   ]
  },
  {
   "cell_type": "code",
   "execution_count": 10,
   "metadata": {},
   "outputs": [],
   "source": [
    "known_curve = 0.25\n",
    "\n",
    "hps = df[df.columns[min_hp_idx:max_hp_idx+1]].to_numpy()\n",
    "\n",
    "curve = df[df.columns[min_curve_idx:min_curve_idx+int(num_epochs*known_curve)]].to_numpy()\n",
    "target = df[df.columns[min_curve_idx+num_epochs-2]].to_numpy()"
   ]
  },
  {
   "cell_type": "code",
   "execution_count": 11,
   "metadata": {},
   "outputs": [],
   "source": [
    "difs1, difs2 = nb_utils.finite_difs(curve)\n",
    "X = np.append(np.append(np.append(hps,curve,1),difs1,1),difs2,1)\n",
    "y = target"
   ]
  },
  {
   "cell_type": "code",
   "execution_count": 12,
   "metadata": {},
   "outputs": [],
   "source": [
    "#scale\n",
    "x_scaler = MinMaxScaler()\n",
    "y_scaler = MinMaxScaler()\n",
    "X = x_scaler.fit_transform(X)\n",
    "y = y_scaler.fit_transform(y.reshape(-1, 1))"
   ]
  },
  {
   "cell_type": "code",
   "execution_count": 13,
   "metadata": {},
   "outputs": [
    {
     "name": "stdout",
     "output_type": "stream",
     "text": [
      "(236, 79) (59, 79)\n"
     ]
    }
   ],
   "source": [
    "#split in train test\n",
    "X_train, X_test, y_train, y_test = train_test_split(X, y, test_size=0.2, random_state=0)\n",
    "print(str(X_train.shape)+\" \"+str(X_test.shape))"
   ]
  },
  {
   "cell_type": "code",
   "execution_count": 14,
   "metadata": {},
   "outputs": [
    {
     "data": {
      "text/plain": [
       "NuSVR()"
      ]
     },
     "execution_count": 14,
     "metadata": {},
     "output_type": "execute_result"
    }
   ],
   "source": [
    "#instatiate and train predictor\n",
    "model = NuSVR()\n",
    "model.fit(X_train,y_train.ravel())"
   ]
  },
  {
   "cell_type": "code",
   "execution_count": 15,
   "metadata": {},
   "outputs": [],
   "source": [
    "if save:\n",
    "    dump(x_scaler,\"x_scaler_\"+data+\".joblib\") \n",
    "    dump(y_scaler,\"y_scaler_\"+data+\".joblib\")\n",
    "    dump(model, \"model_\"+data+\".joblib\")"
   ]
  },
  {
   "cell_type": "code",
   "execution_count": 16,
   "metadata": {},
   "outputs": [
    {
     "data": {
      "text/plain": [
       "0.01758310553319896"
      ]
     },
     "execution_count": 16,
     "metadata": {},
     "output_type": "execute_result"
    }
   ],
   "source": [
    "#MSE\n",
    "y_pred = model.predict(X_test)\n",
    "mean_squared_error(y_test,y_pred)"
   ]
  },
  {
   "cell_type": "code",
   "execution_count": 17,
   "metadata": {},
   "outputs": [
    {
     "data": {
      "text/plain": [
       "0.870848317660526"
      ]
     },
     "execution_count": 17,
     "metadata": {},
     "output_type": "execute_result"
    }
   ],
   "source": [
    "#R^2\n",
    "model.score(X_test,y_test)"
   ]
  },
  {
   "cell_type": "code",
   "execution_count": 18,
   "metadata": {},
   "outputs": [
    {
     "data": {
      "text/plain": [
       "(array([0.96472685, 0.93453304, 0.88781227, 0.91275646, 0.90083134]),\n",
       " 0.9201319919969938,\n",
       " 0.027083463064134023)"
      ]
     },
     "execution_count": 18,
     "metadata": {},
     "output_type": "execute_result"
    }
   ],
   "source": [
    "cvs = cross_val_score(model, X_train, y_train.ravel(), cv = 5, scoring='r2')\n",
    "cvs, cvs.mean(), cvs.std()"
   ]
  },
  {
   "cell_type": "code",
   "execution_count": 69,
   "metadata": {},
   "outputs": [
    {
     "data": {
      "text/plain": [
       "(0.9270828966116923, 2.7468828960588603, 0.2823630210735182, 'scale')"
      ]
     },
     "execution_count": 69,
     "metadata": {},
     "output_type": "execute_result"
    }
   ],
   "source": [
    "#try to optimize regressor hps\n",
    "\n",
    "from sklearn.model_selection import cross_val_score\n",
    "\n",
    "best, C_best, Nu_best, gamma_best = -inf, -inf, -inf, -inf\n",
    "for _ in range(1000):\n",
    "    C = np.exp(np.random.uniform(np.log(1e-3),np.log(10.0)))\n",
    "    Nu = np.random.uniform(0,1)\n",
    "    gamma = \"scale\"\n",
    "    model = NuSVR(C=C,nu=Nu,gamma=gamma)\n",
    "    cvs = cross_val_score(model, X_train, y_train.ravel(), cv = 5, scoring='r2').mean()\n",
    "    if best < cvs:\n",
    "        best = cvs\n",
    "        C_best, Nu_best, gamma_best = C, Nu, gamma\n",
    "best, C_best, Nu_best, gamma_best"
   ]
  },
  {
   "cell_type": "code",
   "execution_count": 70,
   "metadata": {},
   "outputs": [
    {
     "data": {
      "text/plain": [
       "0.9270828966116923"
      ]
     },
     "execution_count": 70,
     "metadata": {},
     "output_type": "execute_result"
    }
   ],
   "source": [
    "model = NuSVR(C=C_best,nu=Nu_best,gamma=gamma_best)\n",
    "model.fit(X_train,y_train.ravel())\n",
    "\n",
    "cvs = cross_val_score(model, X_train, y_train.ravel(), cv = 5, scoring='r2').mean()\n",
    "cvs"
   ]
  },
  {
   "cell_type": "code",
   "execution_count": 71,
   "metadata": {},
   "outputs": [
    {
     "data": {
      "text/plain": [
       "(0.015854272743861367, 0.7108226771355057)"
      ]
     },
     "execution_count": 71,
     "metadata": {},
     "output_type": "execute_result"
    }
   ],
   "source": [
    "#model.fit(X_train,y_train.ravel())\n",
    "y_pred = model.predict(X_test)\n",
    "mean_squared_error(y_test,y_pred), model.score(X_test,y_test)"
   ]
  }
 ],
 "metadata": {
  "kernelspec": {
   "display_name": "Python 3.9.12 ('py39')",
   "language": "python",
   "name": "python3"
  },
  "language_info": {
   "codemirror_mode": {
    "name": "ipython",
    "version": 3
   },
   "file_extension": ".py",
   "mimetype": "text/x-python",
   "name": "python",
   "nbconvert_exporter": "python",
   "pygments_lexer": "ipython3",
   "version": "3.9.12"
  },
  "orig_nbformat": 4,
  "vscode": {
   "interpreter": {
    "hash": "1ac4248432e308955067782465497de26ed69bab2d310610bc1af3ad0fd9ab68"
   }
  }
 },
 "nbformat": 4,
 "nbformat_minor": 2
}
