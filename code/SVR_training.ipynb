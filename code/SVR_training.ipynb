{
 "cells": [
  {
   "cell_type": "code",
   "execution_count": 35,
   "metadata": {},
   "outputs": [],
   "source": [
    "import pandas as pd\n",
    "import numpy as np\n",
    "from math import inf\n",
    "from sklearn.model_selection import train_test_split\n",
    "from sklearn.svm import NuSVR\n",
    "from sklearn.metrics import mean_squared_error\n",
    "from sklearn.model_selection import cross_val_score\n",
    "from sklearn.preprocessing import MinMaxScaler\n",
    "from joblib import dump #more efficient than pickle on objects that carry large numpy arrays internally\n"
   ]
  },
  {
   "cell_type": "code",
   "execution_count": 36,
   "metadata": {},
   "outputs": [],
   "source": [
    "#data = \"mnist_4hp\"\n",
    "#data = \"mnist_6hp\"\n",
    "data = \"mlpf\"\n",
    "save = False"
   ]
  },
  {
   "cell_type": "code",
   "execution_count": 37,
   "metadata": {},
   "outputs": [],
   "source": [
    "if data == \"mnist_4hp\":\n",
    "    df_path = \"../data/mnist/all_4hp_rusty.csv\"\n",
    "    num_epochs = 12\n",
    "    min_hp_idx = 0\n",
    "    max_hp_idx = 3\n",
    "    min_curve_idx = 16\n",
    "    pass\n",
    "elif data == \"mnist_6hp\":\n",
    "    df_path = \"../data/mnist/all_6hp_rusty.csv\"\n",
    "    num_epochs = 12\n",
    "    min_hp_idx = 0\n",
    "    max_hp_idx =  5\n",
    "    min_curve_idx = 18\n",
    "elif data == \"mlpf\":\n",
    "    df_path = \"../data/mlpf/delphes_trainings_processed.csv\"\n",
    "    num_epochs = 100\n",
    "    min_hp_idx = 0\n",
    "    max_hp_idx =  6\n",
    "    min_curve_idx = 7\n",
    "    pass"
   ]
  },
  {
   "cell_type": "code",
   "execution_count": 38,
   "metadata": {},
   "outputs": [
    {
     "data": {
      "text/html": [
       "<div>\n",
       "<style scoped>\n",
       "    .dataframe tbody tr th:only-of-type {\n",
       "        vertical-align: middle;\n",
       "    }\n",
       "\n",
       "    .dataframe tbody tr th {\n",
       "        vertical-align: top;\n",
       "    }\n",
       "\n",
       "    .dataframe thead th {\n",
       "        text-align: right;\n",
       "    }\n",
       "</style>\n",
       "<table border=\"1\" class=\"dataframe\">\n",
       "  <thead>\n",
       "    <tr style=\"text-align: right;\">\n",
       "      <th></th>\n",
       "      <th>bin_size</th>\n",
       "      <th>dropout</th>\n",
       "      <th>lr</th>\n",
       "      <th>n_glayers_id</th>\n",
       "      <th>n_glayers_reg</th>\n",
       "      <th>output_dim</th>\n",
       "      <th>weight_decay</th>\n",
       "      <th>loss_0</th>\n",
       "      <th>loss_1</th>\n",
       "      <th>loss_2</th>\n",
       "      <th>...</th>\n",
       "      <th>loss_90</th>\n",
       "      <th>loss_91</th>\n",
       "      <th>loss_92</th>\n",
       "      <th>loss_93</th>\n",
       "      <th>loss_94</th>\n",
       "      <th>loss_95</th>\n",
       "      <th>loss_96</th>\n",
       "      <th>loss_97</th>\n",
       "      <th>loss_98</th>\n",
       "      <th>loss_99</th>\n",
       "    </tr>\n",
       "  </thead>\n",
       "  <tbody>\n",
       "    <tr>\n",
       "      <th>0</th>\n",
       "      <td>128.0</td>\n",
       "      <td>0.463590</td>\n",
       "      <td>0.022231</td>\n",
       "      <td>3.0</td>\n",
       "      <td>1.0</td>\n",
       "      <td>256.0</td>\n",
       "      <td>0.000002</td>\n",
       "      <td>594.407349</td>\n",
       "      <td>544.932495</td>\n",
       "      <td>531.519531</td>\n",
       "      <td>...</td>\n",
       "      <td>525.441223</td>\n",
       "      <td>525.390930</td>\n",
       "      <td>525.250122</td>\n",
       "      <td>525.574036</td>\n",
       "      <td>525.778381</td>\n",
       "      <td>525.402771</td>\n",
       "      <td>525.664795</td>\n",
       "      <td>526.271851</td>\n",
       "      <td>525.879456</td>\n",
       "      <td>525.977356</td>\n",
       "    </tr>\n",
       "    <tr>\n",
       "      <th>1</th>\n",
       "      <td>16.0</td>\n",
       "      <td>0.498690</td>\n",
       "      <td>0.000366</td>\n",
       "      <td>0.0</td>\n",
       "      <td>4.0</td>\n",
       "      <td>16.0</td>\n",
       "      <td>0.000074</td>\n",
       "      <td>520.121765</td>\n",
       "      <td>469.917206</td>\n",
       "      <td>465.910004</td>\n",
       "      <td>...</td>\n",
       "      <td>455.923645</td>\n",
       "      <td>455.911194</td>\n",
       "      <td>455.950531</td>\n",
       "      <td>455.868439</td>\n",
       "      <td>455.894348</td>\n",
       "      <td>455.826233</td>\n",
       "      <td>455.886810</td>\n",
       "      <td>455.853271</td>\n",
       "      <td>455.890015</td>\n",
       "      <td>455.868774</td>\n",
       "    </tr>\n",
       "    <tr>\n",
       "      <th>2</th>\n",
       "      <td>8.0</td>\n",
       "      <td>0.480831</td>\n",
       "      <td>0.001082</td>\n",
       "      <td>3.0</td>\n",
       "      <td>3.0</td>\n",
       "      <td>64.0</td>\n",
       "      <td>0.000531</td>\n",
       "      <td>485.182037</td>\n",
       "      <td>459.956238</td>\n",
       "      <td>458.082489</td>\n",
       "      <td>...</td>\n",
       "      <td>455.620636</td>\n",
       "      <td>455.599152</td>\n",
       "      <td>455.425110</td>\n",
       "      <td>455.615448</td>\n",
       "      <td>455.573212</td>\n",
       "      <td>455.722961</td>\n",
       "      <td>455.509552</td>\n",
       "      <td>455.509644</td>\n",
       "      <td>455.581238</td>\n",
       "      <td>455.570374</td>\n",
       "    </tr>\n",
       "    <tr>\n",
       "      <th>3</th>\n",
       "      <td>8.0</td>\n",
       "      <td>0.389282</td>\n",
       "      <td>0.000419</td>\n",
       "      <td>3.0</td>\n",
       "      <td>3.0</td>\n",
       "      <td>64.0</td>\n",
       "      <td>0.004692</td>\n",
       "      <td>489.151550</td>\n",
       "      <td>471.651367</td>\n",
       "      <td>471.531952</td>\n",
       "      <td>...</td>\n",
       "      <td>475.541931</td>\n",
       "      <td>475.548950</td>\n",
       "      <td>475.603241</td>\n",
       "      <td>475.558105</td>\n",
       "      <td>475.589294</td>\n",
       "      <td>475.645935</td>\n",
       "      <td>475.803772</td>\n",
       "      <td>475.841248</td>\n",
       "      <td>475.729279</td>\n",
       "      <td>475.742157</td>\n",
       "    </tr>\n",
       "    <tr>\n",
       "      <th>4</th>\n",
       "      <td>64.0</td>\n",
       "      <td>0.211433</td>\n",
       "      <td>0.000245</td>\n",
       "      <td>3.0</td>\n",
       "      <td>2.0</td>\n",
       "      <td>32.0</td>\n",
       "      <td>0.000549</td>\n",
       "      <td>491.797546</td>\n",
       "      <td>462.088318</td>\n",
       "      <td>459.432373</td>\n",
       "      <td>...</td>\n",
       "      <td>457.422913</td>\n",
       "      <td>457.452606</td>\n",
       "      <td>457.498627</td>\n",
       "      <td>457.480835</td>\n",
       "      <td>457.496887</td>\n",
       "      <td>457.536346</td>\n",
       "      <td>457.623077</td>\n",
       "      <td>457.746948</td>\n",
       "      <td>457.771637</td>\n",
       "      <td>457.707794</td>\n",
       "    </tr>\n",
       "  </tbody>\n",
       "</table>\n",
       "<p>5 rows × 107 columns</p>\n",
       "</div>"
      ],
      "text/plain": [
       "   bin_size   dropout        lr  n_glayers_id  n_glayers_reg  output_dim  \\\n",
       "0     128.0  0.463590  0.022231           3.0            1.0       256.0   \n",
       "1      16.0  0.498690  0.000366           0.0            4.0        16.0   \n",
       "2       8.0  0.480831  0.001082           3.0            3.0        64.0   \n",
       "3       8.0  0.389282  0.000419           3.0            3.0        64.0   \n",
       "4      64.0  0.211433  0.000245           3.0            2.0        32.0   \n",
       "\n",
       "   weight_decay      loss_0      loss_1      loss_2  ...     loss_90  \\\n",
       "0      0.000002  594.407349  544.932495  531.519531  ...  525.441223   \n",
       "1      0.000074  520.121765  469.917206  465.910004  ...  455.923645   \n",
       "2      0.000531  485.182037  459.956238  458.082489  ...  455.620636   \n",
       "3      0.004692  489.151550  471.651367  471.531952  ...  475.541931   \n",
       "4      0.000549  491.797546  462.088318  459.432373  ...  457.422913   \n",
       "\n",
       "      loss_91     loss_92     loss_93     loss_94     loss_95     loss_96  \\\n",
       "0  525.390930  525.250122  525.574036  525.778381  525.402771  525.664795   \n",
       "1  455.911194  455.950531  455.868439  455.894348  455.826233  455.886810   \n",
       "2  455.599152  455.425110  455.615448  455.573212  455.722961  455.509552   \n",
       "3  475.548950  475.603241  475.558105  475.589294  475.645935  475.803772   \n",
       "4  457.452606  457.498627  457.480835  457.496887  457.536346  457.623077   \n",
       "\n",
       "      loss_97     loss_98     loss_99  \n",
       "0  526.271851  525.879456  525.977356  \n",
       "1  455.853271  455.890015  455.868774  \n",
       "2  455.509644  455.581238  455.570374  \n",
       "3  475.841248  475.729279  475.742157  \n",
       "4  457.746948  457.771637  457.707794  \n",
       "\n",
       "[5 rows x 107 columns]"
      ]
     },
     "execution_count": 38,
     "metadata": {},
     "output_type": "execute_result"
    }
   ],
   "source": [
    "df = pd.read_csv(df_path)\n",
    "df = df.iloc[:300]\n",
    "df.head()"
   ]
  },
  {
   "cell_type": "code",
   "execution_count": 39,
   "metadata": {},
   "outputs": [],
   "source": [
    "known_curve = 0.25\n",
    "\n",
    "hps = df[df.columns[min_hp_idx:max_hp_idx+1]].to_numpy()\n",
    "\n",
    "curve = df[df.columns[min_curve_idx:min_curve_idx+int(num_epochs*known_curve)]].to_numpy()\n",
    "target = df[df.columns[min_curve_idx+num_epochs-2]].to_numpy()"
   ]
  },
  {
   "cell_type": "code",
   "execution_count": 40,
   "metadata": {},
   "outputs": [],
   "source": [
    "#calculate finite diferences of 1st and 2nd order\n",
    "def finite_difs(curve):\n",
    "    difs1 = []\n",
    "    for i in range(curve.shape[0]):\n",
    "        difs1.append([])\n",
    "        for j in range(1,curve.shape[1]):\n",
    "            difs1[i].append(curve[i][j]-curve[i][j-1])\n",
    "    difs2 = []\n",
    "    for i in range(curve.shape[0]):\n",
    "        difs2.append([])\n",
    "        for j in range(1,len(difs1[0])):\n",
    "            difs2[i].append(difs1[i][j]-difs1[i][j-1])\n",
    "    difs1 = np.array(difs1)\n",
    "    difs2 = np.array(difs2)\n",
    "    return difs1, difs2"
   ]
  },
  {
   "cell_type": "code",
   "execution_count": 41,
   "metadata": {},
   "outputs": [],
   "source": [
    "difs1, difs2 = finite_difs(curve)\n",
    "X = np.append(np.append(np.append(hps,curve,1),difs1,1),difs2,1)\n",
    "y = target"
   ]
  },
  {
   "cell_type": "code",
   "execution_count": 42,
   "metadata": {},
   "outputs": [],
   "source": [
    "#scale\n",
    "x_scaler = MinMaxScaler()\n",
    "y_scaler = MinMaxScaler()\n",
    "X = x_scaler.fit_transform(X)\n",
    "y = y_scaler.fit_transform(y.reshape(-1, 1))"
   ]
  },
  {
   "cell_type": "code",
   "execution_count": 43,
   "metadata": {},
   "outputs": [
    {
     "name": "stdout",
     "output_type": "stream",
     "text": [
      "(176, 79) (44, 79)\n"
     ]
    }
   ],
   "source": [
    "#split in train test\n",
    "X_train, X_test, y_train, y_test = train_test_split(X, y, test_size=0.2, random_state=0)\n",
    "print(str(X_train.shape)+\" \"+str(X_test.shape))"
   ]
  },
  {
   "cell_type": "code",
   "execution_count": 44,
   "metadata": {},
   "outputs": [
    {
     "data": {
      "text/plain": [
       "NuSVR()"
      ]
     },
     "execution_count": 44,
     "metadata": {},
     "output_type": "execute_result"
    }
   ],
   "source": [
    "#instatiate and train predictor\n",
    "model = NuSVR()\n",
    "model.fit(X_train,y_train.ravel())"
   ]
  },
  {
   "cell_type": "code",
   "execution_count": 45,
   "metadata": {},
   "outputs": [],
   "source": [
    "if save:\n",
    "    dump(x_scaler,\"x_scaler_\"+data+\".joblib\") \n",
    "    dump(y_scaler,\"y_scaler_\"+data+\".joblib\")\n",
    "    dump(model, \"model_\"+data+\".joblib\")"
   ]
  },
  {
   "cell_type": "code",
   "execution_count": 46,
   "metadata": {},
   "outputs": [
    {
     "data": {
      "text/plain": [
       "0.005696218439680634"
      ]
     },
     "execution_count": 46,
     "metadata": {},
     "output_type": "execute_result"
    }
   ],
   "source": [
    "#MSE\n",
    "y_pred = model.predict(X_test)\n",
    "mean_squared_error(y_test,y_pred)"
   ]
  },
  {
   "cell_type": "code",
   "execution_count": 47,
   "metadata": {},
   "outputs": [
    {
     "data": {
      "text/plain": [
       "0.9537738736184261"
      ]
     },
     "execution_count": 47,
     "metadata": {},
     "output_type": "execute_result"
    }
   ],
   "source": [
    "#R^2\n",
    "model.score(X_test,y_test)"
   ]
  },
  {
   "cell_type": "code",
   "execution_count": 48,
   "metadata": {},
   "outputs": [
    {
     "data": {
      "text/plain": [
       "(array([0.89496633, 0.96018429, 0.86640343, 0.96259027, 0.92500983]),\n",
       " 0.9218308301868389,\n",
       " 0.03724600379137587)"
      ]
     },
     "execution_count": 48,
     "metadata": {},
     "output_type": "execute_result"
    }
   ],
   "source": [
    "cvs = cross_val_score(model, X_train, y_train.ravel(), cv = 5, scoring='r2')\n",
    "cvs, cvs.mean(), cvs.std()"
   ]
  },
  {
   "cell_type": "code",
   "execution_count": 30,
   "metadata": {},
   "outputs": [
    {
     "data": {
      "text/plain": [
       "(0.9303249289406447, 3.5939002700599953, 0.5323901462674117, 'scale')"
      ]
     },
     "execution_count": 30,
     "metadata": {},
     "output_type": "execute_result"
    }
   ],
   "source": [
    "#try to optimize regressor hps\n",
    "\n",
    "from sklearn.model_selection import cross_val_score\n",
    "\n",
    "best, C_best, Nu_best, gamma_best = -inf, -inf, -inf, -inf\n",
    "for _ in range(1000):\n",
    "    C = np.exp(np.random.uniform(np.log(1e-3),np.log(10.0)))\n",
    "    Nu = np.random.uniform(0,1)\n",
    "    gamma = \"scale\"\n",
    "    model = NuSVR(C=C,nu=Nu,gamma=gamma)\n",
    "    cvs = cross_val_score(model, X_train, y_train.ravel(), cv = 5, scoring='r2').mean()\n",
    "    if best < cvs:\n",
    "        best = cvs\n",
    "        C_best, Nu_best, gamma_best = C, Nu, gamma\n",
    "best, C_best, Nu_best, gamma_best"
   ]
  },
  {
   "cell_type": "code",
   "execution_count": 31,
   "metadata": {},
   "outputs": [
    {
     "data": {
      "text/plain": [
       "0.9303249289406447"
      ]
     },
     "execution_count": 31,
     "metadata": {},
     "output_type": "execute_result"
    }
   ],
   "source": [
    "model = NuSVR(C=C_best,nu=Nu_best,gamma=gamma_best)\n",
    "model.fit(X_train,y_train.ravel())\n",
    "\n",
    "cvs = cross_val_score(model, X_train, y_train.ravel(), cv = 5, scoring='r2').mean()\n",
    "cvs"
   ]
  },
  {
   "cell_type": "code",
   "execution_count": 32,
   "metadata": {},
   "outputs": [
    {
     "data": {
      "text/plain": [
       "(0.005496764551466672, 0.9553924879221978)"
      ]
     },
     "execution_count": 32,
     "metadata": {},
     "output_type": "execute_result"
    }
   ],
   "source": [
    "#model.fit(X_train,y_train.ravel())\n",
    "y_pred = model.predict(X_test)\n",
    "mean_squared_error(y_test,y_pred), model.score(X_test,y_test)"
   ]
  }
 ],
 "metadata": {
  "kernelspec": {
   "display_name": "Python 3.9.12 ('py39')",
   "language": "python",
   "name": "python3"
  },
  "language_info": {
   "codemirror_mode": {
    "name": "ipython",
    "version": 3
   },
   "file_extension": ".py",
   "mimetype": "text/x-python",
   "name": "python",
   "nbconvert_exporter": "python",
   "pygments_lexer": "ipython3",
   "version": "3.9.12"
  },
  "orig_nbformat": 4,
  "vscode": {
   "interpreter": {
    "hash": "1ac4248432e308955067782465497de26ed69bab2d310610bc1af3ad0fd9ab68"
   }
  }
 },
 "nbformat": 4,
 "nbformat_minor": 2
}
