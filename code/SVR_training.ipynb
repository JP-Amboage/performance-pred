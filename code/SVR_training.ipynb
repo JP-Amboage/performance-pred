{
 "cells": [
  {
   "cell_type": "code",
   "execution_count": 114,
   "metadata": {},
   "outputs": [],
   "source": [
    "import pandas as pd\n",
    "import numpy as np\n",
    "from math import inf\n",
    "from sklearn.model_selection import train_test_split\n",
    "from sklearn.svm import NuSVR\n",
    "from sklearn.metrics import mean_squared_error\n",
    "from sklearn.model_selection import cross_val_score\n",
    "from sklearn.preprocessing import MinMaxScaler\n",
    "from joblib import dump #more efficient than pickle on objects that carry large numpy arrays internally\n"
   ]
  },
  {
   "cell_type": "code",
   "execution_count": 127,
   "metadata": {},
   "outputs": [
    {
     "data": {
      "text/html": [
       "<div>\n",
       "<style scoped>\n",
       "    .dataframe tbody tr th:only-of-type {\n",
       "        vertical-align: middle;\n",
       "    }\n",
       "\n",
       "    .dataframe tbody tr th {\n",
       "        vertical-align: top;\n",
       "    }\n",
       "\n",
       "    .dataframe thead th {\n",
       "        text-align: right;\n",
       "    }\n",
       "</style>\n",
       "<table border=\"1\" class=\"dataframe\">\n",
       "  <thead>\n",
       "    <tr style=\"text-align: right;\">\n",
       "      <th></th>\n",
       "      <th>filters</th>\n",
       "      <th>strides</th>\n",
       "      <th>max_pool</th>\n",
       "      <th>1st_dense</th>\n",
       "      <th>lr</th>\n",
       "      <th>momentum</th>\n",
       "      <th>acc_0</th>\n",
       "      <th>acc_1</th>\n",
       "      <th>acc_2</th>\n",
       "      <th>acc_3</th>\n",
       "      <th>...</th>\n",
       "      <th>loss_2</th>\n",
       "      <th>loss_3</th>\n",
       "      <th>loss_4</th>\n",
       "      <th>loss_5</th>\n",
       "      <th>loss_6</th>\n",
       "      <th>loss_7</th>\n",
       "      <th>loss_8</th>\n",
       "      <th>loss_9</th>\n",
       "      <th>loss_10</th>\n",
       "      <th>loss_11</th>\n",
       "    </tr>\n",
       "  </thead>\n",
       "  <tbody>\n",
       "    <tr>\n",
       "      <th>0</th>\n",
       "      <td>128</td>\n",
       "      <td>2</td>\n",
       "      <td>3</td>\n",
       "      <td>40</td>\n",
       "      <td>0.040127</td>\n",
       "      <td>0.770056</td>\n",
       "      <td>0.914000</td>\n",
       "      <td>0.950429</td>\n",
       "      <td>0.964143</td>\n",
       "      <td>0.970357</td>\n",
       "      <td>...</td>\n",
       "      <td>0.119623</td>\n",
       "      <td>0.099236</td>\n",
       "      <td>0.101044</td>\n",
       "      <td>0.091971</td>\n",
       "      <td>0.092724</td>\n",
       "      <td>0.102770</td>\n",
       "      <td>0.089771</td>\n",
       "      <td>0.107738</td>\n",
       "      <td>0.109722</td>\n",
       "      <td>0.094621</td>\n",
       "    </tr>\n",
       "    <tr>\n",
       "      <th>1</th>\n",
       "      <td>128</td>\n",
       "      <td>2</td>\n",
       "      <td>5</td>\n",
       "      <td>180</td>\n",
       "      <td>0.005305</td>\n",
       "      <td>0.812338</td>\n",
       "      <td>0.946714</td>\n",
       "      <td>0.966571</td>\n",
       "      <td>0.971571</td>\n",
       "      <td>0.972071</td>\n",
       "      <td>...</td>\n",
       "      <td>0.091677</td>\n",
       "      <td>0.083224</td>\n",
       "      <td>0.068555</td>\n",
       "      <td>0.071972</td>\n",
       "      <td>0.063601</td>\n",
       "      <td>0.062818</td>\n",
       "      <td>0.061953</td>\n",
       "      <td>0.051991</td>\n",
       "      <td>0.058876</td>\n",
       "      <td>0.054147</td>\n",
       "    </tr>\n",
       "    <tr>\n",
       "      <th>2</th>\n",
       "      <td>32</td>\n",
       "      <td>2</td>\n",
       "      <td>5</td>\n",
       "      <td>20</td>\n",
       "      <td>0.008224</td>\n",
       "      <td>0.437781</td>\n",
       "      <td>0.920143</td>\n",
       "      <td>0.943643</td>\n",
       "      <td>0.951000</td>\n",
       "      <td>0.959000</td>\n",
       "      <td>...</td>\n",
       "      <td>0.155607</td>\n",
       "      <td>0.131733</td>\n",
       "      <td>0.121747</td>\n",
       "      <td>0.110052</td>\n",
       "      <td>0.106496</td>\n",
       "      <td>0.100451</td>\n",
       "      <td>0.094322</td>\n",
       "      <td>0.091635</td>\n",
       "      <td>0.089853</td>\n",
       "      <td>0.090477</td>\n",
       "    </tr>\n",
       "    <tr>\n",
       "      <th>3</th>\n",
       "      <td>128</td>\n",
       "      <td>2</td>\n",
       "      <td>5</td>\n",
       "      <td>140</td>\n",
       "      <td>0.008167</td>\n",
       "      <td>0.167884</td>\n",
       "      <td>0.933071</td>\n",
       "      <td>0.943500</td>\n",
       "      <td>0.960071</td>\n",
       "      <td>0.963714</td>\n",
       "      <td>...</td>\n",
       "      <td>0.134987</td>\n",
       "      <td>0.122413</td>\n",
       "      <td>0.106534</td>\n",
       "      <td>0.115145</td>\n",
       "      <td>0.094015</td>\n",
       "      <td>0.095907</td>\n",
       "      <td>0.097210</td>\n",
       "      <td>0.087505</td>\n",
       "      <td>0.085008</td>\n",
       "      <td>0.078288</td>\n",
       "    </tr>\n",
       "    <tr>\n",
       "      <th>4</th>\n",
       "      <td>16</td>\n",
       "      <td>5</td>\n",
       "      <td>3</td>\n",
       "      <td>100</td>\n",
       "      <td>0.000015</td>\n",
       "      <td>0.943157</td>\n",
       "      <td>0.720071</td>\n",
       "      <td>0.810571</td>\n",
       "      <td>0.846643</td>\n",
       "      <td>0.867857</td>\n",
       "      <td>...</td>\n",
       "      <td>0.643881</td>\n",
       "      <td>0.538333</td>\n",
       "      <td>0.473937</td>\n",
       "      <td>0.429792</td>\n",
       "      <td>0.397526</td>\n",
       "      <td>0.372900</td>\n",
       "      <td>0.353258</td>\n",
       "      <td>0.336798</td>\n",
       "      <td>0.323137</td>\n",
       "      <td>0.311195</td>\n",
       "    </tr>\n",
       "  </tbody>\n",
       "</table>\n",
       "<p>5 rows × 30 columns</p>\n",
       "</div>"
      ],
      "text/plain": [
       "   filters  strides  max_pool  1st_dense        lr  momentum     acc_0  \\\n",
       "0      128        2         3         40  0.040127  0.770056  0.914000   \n",
       "1      128        2         5        180  0.005305  0.812338  0.946714   \n",
       "2       32        2         5         20  0.008224  0.437781  0.920143   \n",
       "3      128        2         5        140  0.008167  0.167884  0.933071   \n",
       "4       16        5         3        100  0.000015  0.943157  0.720071   \n",
       "\n",
       "      acc_1     acc_2     acc_3  ...    loss_2    loss_3    loss_4    loss_5  \\\n",
       "0  0.950429  0.964143  0.970357  ...  0.119623  0.099236  0.101044  0.091971   \n",
       "1  0.966571  0.971571  0.972071  ...  0.091677  0.083224  0.068555  0.071972   \n",
       "2  0.943643  0.951000  0.959000  ...  0.155607  0.131733  0.121747  0.110052   \n",
       "3  0.943500  0.960071  0.963714  ...  0.134987  0.122413  0.106534  0.115145   \n",
       "4  0.810571  0.846643  0.867857  ...  0.643881  0.538333  0.473937  0.429792   \n",
       "\n",
       "     loss_6    loss_7    loss_8    loss_9   loss_10   loss_11  \n",
       "0  0.092724  0.102770  0.089771  0.107738  0.109722  0.094621  \n",
       "1  0.063601  0.062818  0.061953  0.051991  0.058876  0.054147  \n",
       "2  0.106496  0.100451  0.094322  0.091635  0.089853  0.090477  \n",
       "3  0.094015  0.095907  0.097210  0.087505  0.085008  0.078288  \n",
       "4  0.397526  0.372900  0.353258  0.336798  0.323137  0.311195  \n",
       "\n",
       "[5 rows x 30 columns]"
      ]
     },
     "execution_count": 127,
     "metadata": {},
     "output_type": "execute_result"
    }
   ],
   "source": [
    "#df = pd.read_csv('../data/mnist/all_4hp_rusty.csv')\n",
    "df = pd.read_csv('../data/mnist/all_6hp_rusty.csv')\n",
    "#df = pd.read_csv('../data/mlpf/delphes_trainings_processed.csv')\n",
    "df = df.iloc[:300]\n",
    "df.head()"
   ]
  },
  {
   "cell_type": "code",
   "execution_count": 116,
   "metadata": {},
   "outputs": [],
   "source": [
    "num_epochs = 12\n",
    "known_curve = 0.25\n",
    "min_hp_idx = 0\n",
    "min_curve_idx = 18\n",
    "max_hp_idx =  5\n",
    "\n",
    "hps = df[df.columns[min_hp_idx:max_hp_idx+1]].to_numpy()\n",
    "\n",
    "curve = df[df.columns[min_curve_idx:min_curve_idx+int(num_epochs*known_curve)]].to_numpy()\n",
    "target = df[df.columns[min_curve_idx+num_epochs-2]].to_numpy()"
   ]
  },
  {
   "cell_type": "code",
   "execution_count": 117,
   "metadata": {},
   "outputs": [],
   "source": [
    "#calculate finite diferences of 1st and 2nd order\n",
    "def finite_difs(curve):\n",
    "    difs1 = []\n",
    "    for i in range(curve.shape[0]):\n",
    "        difs1.append([])\n",
    "        for j in range(1,curve.shape[1]):\n",
    "            difs1[i].append(curve[i][j]-curve[i][j-1])\n",
    "    difs2 = []\n",
    "    for i in range(curve.shape[0]):\n",
    "        difs2.append([])\n",
    "        for j in range(1,len(difs1[0])):\n",
    "            difs2[i].append(difs1[i][j]-difs1[i][j-1])\n",
    "    difs1 = np.array(difs1)\n",
    "    difs2 = np.array(difs2)\n",
    "    return difs1, difs2"
   ]
  },
  {
   "cell_type": "code",
   "execution_count": 118,
   "metadata": {},
   "outputs": [],
   "source": [
    "difs1, difs2 = finite_difs(curve)\n",
    "X = np.append(np.append(np.append(hps,curve,1),difs1,1),difs2,1)\n",
    "y = target"
   ]
  },
  {
   "cell_type": "code",
   "execution_count": 119,
   "metadata": {},
   "outputs": [
    {
     "data": {
      "text/plain": [
       "['y_scaler.joblib']"
      ]
     },
     "execution_count": 119,
     "metadata": {},
     "output_type": "execute_result"
    }
   ],
   "source": [
    "#scale\n",
    "x_scaler = MinMaxScaler()\n",
    "y_scaler = MinMaxScaler()\n",
    "X = x_scaler.fit_transform(X)\n",
    "y = y_scaler.fit_transform(y.reshape(-1, 1))\n",
    "#save the scalers so that they can be used when using the SVR in another program\n",
    "dump(x_scaler,\"x_scaler.joblib\") \n",
    "dump(y_scaler,\"y_scaler.joblib\")"
   ]
  },
  {
   "cell_type": "code",
   "execution_count": 120,
   "metadata": {},
   "outputs": [
    {
     "name": "stdout",
     "output_type": "stream",
     "text": [
      "(17, 77) (5, 77)\n"
     ]
    }
   ],
   "source": [
    "#split in train test\n",
    "X_train, X_test, y_train, y_test = train_test_split(X, y, test_size=0.2, random_state=0)\n",
    "print(str(X_train.shape)+\" \"+str(X_test.shape))"
   ]
  },
  {
   "cell_type": "code",
   "execution_count": 121,
   "metadata": {},
   "outputs": [
    {
     "data": {
      "text/plain": [
       "NuSVR()"
      ]
     },
     "execution_count": 121,
     "metadata": {},
     "output_type": "execute_result"
    }
   ],
   "source": [
    "#instatiate and train predictor\n",
    "model = NuSVR()\n",
    "model.fit(X_train,y_train.ravel())"
   ]
  },
  {
   "cell_type": "code",
   "execution_count": 122,
   "metadata": {},
   "outputs": [
    {
     "data": {
      "text/plain": [
       "['modelo.joblib']"
      ]
     },
     "execution_count": 122,
     "metadata": {},
     "output_type": "execute_result"
    }
   ],
   "source": [
    "#Save model\n",
    "filename = \"modelo.joblib\"\n",
    "dump(model, \"modelo.joblib\")"
   ]
  },
  {
   "cell_type": "code",
   "execution_count": 123,
   "metadata": {},
   "outputs": [
    {
     "data": {
      "text/plain": [
       "0.008111866271100814"
      ]
     },
     "execution_count": 123,
     "metadata": {},
     "output_type": "execute_result"
    }
   ],
   "source": [
    "#MSE\n",
    "y_pred = model.predict(X_test)\n",
    "mean_squared_error(y_test,y_pred)"
   ]
  },
  {
   "cell_type": "code",
   "execution_count": 124,
   "metadata": {},
   "outputs": [
    {
     "data": {
      "text/plain": [
       "0.880142694398797"
      ]
     },
     "execution_count": 124,
     "metadata": {},
     "output_type": "execute_result"
    }
   ],
   "source": [
    "#R^2\n",
    "model.score(X_test,y_test)"
   ]
  },
  {
   "cell_type": "code",
   "execution_count": 126,
   "metadata": {},
   "outputs": [
    {
     "data": {
      "text/plain": [
       "(array([ 0.89888597,  0.50997805, -0.30507679,  0.83996273,  0.94831025]),\n",
       " 0.5784120410407508,\n",
       " 0.46758372635177814)"
      ]
     },
     "execution_count": 126,
     "metadata": {},
     "output_type": "execute_result"
    }
   ],
   "source": [
    "cvs = cross_val_score(model, X_train, y_train.ravel(), cv = 5, scoring='r2')\n",
    "cvs, cvs.mean(), cvs.std()"
   ]
  },
  {
   "cell_type": "code",
   "execution_count": 112,
   "metadata": {},
   "outputs": [
    {
     "data": {
      "text/plain": [
       "(0.37412535448237955, 0.7488140169871008, 0.6406796854870729, 'scale')"
      ]
     },
     "execution_count": 112,
     "metadata": {},
     "output_type": "execute_result"
    }
   ],
   "source": [
    "#try to optimize regressor hps\n",
    "\n",
    "from sklearn.model_selection import cross_val_score\n",
    "\n",
    "best, C_best, Nu_best, gamma_best = -inf, -inf, -inf, -inf\n",
    "for _ in range(1000):\n",
    "    C = np.exp(np.random.uniform(np.log(1e-3),np.log(10.0)))\n",
    "    Nu = np.random.uniform(0,1)\n",
    "    gamma = \"scale\"\n",
    "    model = NuSVR(C=C,nu=Nu,gamma=gamma)\n",
    "    cvs = cross_val_score(model, X_train, y_train.ravel(), cv = 5, scoring='r2').mean()\n",
    "    if best < cvs:\n",
    "        best = cvs\n",
    "        C_best, Nu_best, gamma_best = C, Nu, gamma\n",
    "best, C_best, Nu_best, gamma_best"
   ]
  },
  {
   "cell_type": "code",
   "execution_count": 888,
   "metadata": {},
   "outputs": [
    {
     "data": {
      "text/plain": [
       "0.7663090107089143"
      ]
     },
     "execution_count": 888,
     "metadata": {},
     "output_type": "execute_result"
    }
   ],
   "source": [
    "model = NuSVR(C=C_best,nu=Nu_best,gamma=gamma_best)\n",
    "model.fit(X_train,y_train.ravel())\n",
    "\n",
    "cvs = cross_val_score(model, X_train, y_train.ravel(), cv = 5, scoring='r2').mean()\n",
    "cvs"
   ]
  },
  {
   "cell_type": "code",
   "execution_count": 889,
   "metadata": {},
   "outputs": [
    {
     "data": {
      "text/plain": [
       "(0.0005593760485826635, 0.9531359618257825)"
      ]
     },
     "execution_count": 889,
     "metadata": {},
     "output_type": "execute_result"
    }
   ],
   "source": [
    "#model.fit(X_train,y_train.ravel())\n",
    "y_pred = model.predict(X_test)\n",
    "mean_squared_error(y_test,y_pred), model.score(X_test,y_test)"
   ]
  }
 ],
 "metadata": {
  "kernelspec": {
   "display_name": "Python 3.9.12 ('py39')",
   "language": "python",
   "name": "python3"
  },
  "language_info": {
   "codemirror_mode": {
    "name": "ipython",
    "version": 3
   },
   "file_extension": ".py",
   "mimetype": "text/x-python",
   "name": "python",
   "nbconvert_exporter": "python",
   "pygments_lexer": "ipython3",
   "version": "3.9.12"
  },
  "orig_nbformat": 4,
  "vscode": {
   "interpreter": {
    "hash": "1ac4248432e308955067782465497de26ed69bab2d310610bc1af3ad0fd9ab68"
   }
  }
 },
 "nbformat": 4,
 "nbformat_minor": 2
}
