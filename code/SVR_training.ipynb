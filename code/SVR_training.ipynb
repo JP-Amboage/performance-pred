{
 "cells": [
  {
   "cell_type": "code",
   "execution_count": 12,
   "metadata": {},
   "outputs": [],
   "source": [
    "import pandas as pd\n",
    "import numpy as np\n",
    "from math import inf\n",
    "from sklearn.model_selection import train_test_split\n",
    "from sklearn.svm import NuSVR\n",
    "from sklearn.metrics import mean_squared_error\n",
    "from sklearn.model_selection import cross_val_score\n",
    "from sklearn.preprocessing import MinMaxScaler\n",
    "from joblib import dump #more efficient than pickle on objects that carry large numpy arrays internally\n"
   ]
  },
  {
   "cell_type": "code",
   "execution_count": 7,
   "metadata": {},
   "outputs": [
    {
     "data": {
      "text/html": [
       "<div>\n",
       "<style scoped>\n",
       "    .dataframe tbody tr th:only-of-type {\n",
       "        vertical-align: middle;\n",
       "    }\n",
       "\n",
       "    .dataframe tbody tr th {\n",
       "        vertical-align: top;\n",
       "    }\n",
       "\n",
       "    .dataframe thead th {\n",
       "        text-align: right;\n",
       "    }\n",
       "</style>\n",
       "<table border=\"1\" class=\"dataframe\">\n",
       "  <thead>\n",
       "    <tr style=\"text-align: right;\">\n",
       "      <th></th>\n",
       "      <th>filters</th>\n",
       "      <th>1st_dense</th>\n",
       "      <th>lr</th>\n",
       "      <th>momentum</th>\n",
       "      <th>acc_0</th>\n",
       "      <th>acc_1</th>\n",
       "      <th>acc_2</th>\n",
       "      <th>acc_3</th>\n",
       "      <th>acc_4</th>\n",
       "      <th>acc_5</th>\n",
       "      <th>...</th>\n",
       "      <th>loss_2</th>\n",
       "      <th>loss_3</th>\n",
       "      <th>loss_4</th>\n",
       "      <th>loss_5</th>\n",
       "      <th>loss_6</th>\n",
       "      <th>loss_7</th>\n",
       "      <th>loss_8</th>\n",
       "      <th>loss_9</th>\n",
       "      <th>loss_10</th>\n",
       "      <th>loss_11</th>\n",
       "    </tr>\n",
       "  </thead>\n",
       "  <tbody>\n",
       "    <tr>\n",
       "      <th>0</th>\n",
       "      <td>32</td>\n",
       "      <td>20</td>\n",
       "      <td>0.000072</td>\n",
       "      <td>0.038493</td>\n",
       "      <td>0.542643</td>\n",
       "      <td>0.734071</td>\n",
       "      <td>0.794643</td>\n",
       "      <td>0.826357</td>\n",
       "      <td>0.843929</td>\n",
       "      <td>0.855071</td>\n",
       "      <td>...</td>\n",
       "      <td>0.884970</td>\n",
       "      <td>0.751808</td>\n",
       "      <td>0.664132</td>\n",
       "      <td>0.601722</td>\n",
       "      <td>0.555860</td>\n",
       "      <td>0.521339</td>\n",
       "      <td>0.493939</td>\n",
       "      <td>0.471849</td>\n",
       "      <td>0.453848</td>\n",
       "      <td>0.438147</td>\n",
       "    </tr>\n",
       "    <tr>\n",
       "      <th>1</th>\n",
       "      <td>8</td>\n",
       "      <td>60</td>\n",
       "      <td>0.000028</td>\n",
       "      <td>0.416737</td>\n",
       "      <td>0.269214</td>\n",
       "      <td>0.419000</td>\n",
       "      <td>0.514714</td>\n",
       "      <td>0.584214</td>\n",
       "      <td>0.643000</td>\n",
       "      <td>0.694143</td>\n",
       "      <td>...</td>\n",
       "      <td>1.747570</td>\n",
       "      <td>1.584297</td>\n",
       "      <td>1.437934</td>\n",
       "      <td>1.308895</td>\n",
       "      <td>1.195554</td>\n",
       "      <td>1.096427</td>\n",
       "      <td>1.010322</td>\n",
       "      <td>0.935681</td>\n",
       "      <td>0.871148</td>\n",
       "      <td>0.815341</td>\n",
       "    </tr>\n",
       "    <tr>\n",
       "      <th>2</th>\n",
       "      <td>128</td>\n",
       "      <td>20</td>\n",
       "      <td>0.002175</td>\n",
       "      <td>0.831415</td>\n",
       "      <td>0.944357</td>\n",
       "      <td>0.962857</td>\n",
       "      <td>0.969357</td>\n",
       "      <td>0.972786</td>\n",
       "      <td>0.976714</td>\n",
       "      <td>0.973857</td>\n",
       "      <td>...</td>\n",
       "      <td>0.105777</td>\n",
       "      <td>0.090577</td>\n",
       "      <td>0.080609</td>\n",
       "      <td>0.085423</td>\n",
       "      <td>0.073039</td>\n",
       "      <td>0.068554</td>\n",
       "      <td>0.069195</td>\n",
       "      <td>0.069010</td>\n",
       "      <td>0.071025</td>\n",
       "      <td>0.072281</td>\n",
       "    </tr>\n",
       "    <tr>\n",
       "      <th>3</th>\n",
       "      <td>64</td>\n",
       "      <td>120</td>\n",
       "      <td>0.016359</td>\n",
       "      <td>0.174064</td>\n",
       "      <td>0.962143</td>\n",
       "      <td>0.969500</td>\n",
       "      <td>0.972143</td>\n",
       "      <td>0.978786</td>\n",
       "      <td>0.981071</td>\n",
       "      <td>0.982143</td>\n",
       "      <td>...</td>\n",
       "      <td>0.091528</td>\n",
       "      <td>0.069397</td>\n",
       "      <td>0.063511</td>\n",
       "      <td>0.059231</td>\n",
       "      <td>0.056331</td>\n",
       "      <td>0.051060</td>\n",
       "      <td>0.055757</td>\n",
       "      <td>0.056235</td>\n",
       "      <td>0.048868</td>\n",
       "      <td>0.056125</td>\n",
       "    </tr>\n",
       "    <tr>\n",
       "      <th>4</th>\n",
       "      <td>128</td>\n",
       "      <td>20</td>\n",
       "      <td>0.000037</td>\n",
       "      <td>0.032464</td>\n",
       "      <td>0.704214</td>\n",
       "      <td>0.802786</td>\n",
       "      <td>0.834786</td>\n",
       "      <td>0.856071</td>\n",
       "      <td>0.867929</td>\n",
       "      <td>0.880000</td>\n",
       "      <td>...</td>\n",
       "      <td>0.699835</td>\n",
       "      <td>0.607823</td>\n",
       "      <td>0.543101</td>\n",
       "      <td>0.498290</td>\n",
       "      <td>0.466135</td>\n",
       "      <td>0.441281</td>\n",
       "      <td>0.421004</td>\n",
       "      <td>0.404069</td>\n",
       "      <td>0.389975</td>\n",
       "      <td>0.377923</td>\n",
       "    </tr>\n",
       "  </tbody>\n",
       "</table>\n",
       "<p>5 rows × 28 columns</p>\n",
       "</div>"
      ],
      "text/plain": [
       "   filters  1st_dense        lr  momentum     acc_0     acc_1     acc_2  \\\n",
       "0       32         20  0.000072  0.038493  0.542643  0.734071  0.794643   \n",
       "1        8         60  0.000028  0.416737  0.269214  0.419000  0.514714   \n",
       "2      128         20  0.002175  0.831415  0.944357  0.962857  0.969357   \n",
       "3       64        120  0.016359  0.174064  0.962143  0.969500  0.972143   \n",
       "4      128         20  0.000037  0.032464  0.704214  0.802786  0.834786   \n",
       "\n",
       "      acc_3     acc_4     acc_5  ...    loss_2    loss_3    loss_4    loss_5  \\\n",
       "0  0.826357  0.843929  0.855071  ...  0.884970  0.751808  0.664132  0.601722   \n",
       "1  0.584214  0.643000  0.694143  ...  1.747570  1.584297  1.437934  1.308895   \n",
       "2  0.972786  0.976714  0.973857  ...  0.105777  0.090577  0.080609  0.085423   \n",
       "3  0.978786  0.981071  0.982143  ...  0.091528  0.069397  0.063511  0.059231   \n",
       "4  0.856071  0.867929  0.880000  ...  0.699835  0.607823  0.543101  0.498290   \n",
       "\n",
       "     loss_6    loss_7    loss_8    loss_9   loss_10   loss_11  \n",
       "0  0.555860  0.521339  0.493939  0.471849  0.453848  0.438147  \n",
       "1  1.195554  1.096427  1.010322  0.935681  0.871148  0.815341  \n",
       "2  0.073039  0.068554  0.069195  0.069010  0.071025  0.072281  \n",
       "3  0.056331  0.051060  0.055757  0.056235  0.048868  0.056125  \n",
       "4  0.466135  0.441281  0.421004  0.404069  0.389975  0.377923  \n",
       "\n",
       "[5 rows x 28 columns]"
      ]
     },
     "execution_count": 7,
     "metadata": {},
     "output_type": "execute_result"
    }
   ],
   "source": [
    "df = pd.read_csv('../data/mnist/all_4hp_rusty.csv')\n",
    "df = df.iloc[:300]\n",
    "df.head()"
   ]
  },
  {
   "cell_type": "code",
   "execution_count": 8,
   "metadata": {},
   "outputs": [],
   "source": [
    "num_epochs = 12\n",
    "known_curve = 0.25\n",
    "min_hp_idx = 0\n",
    "#max_hp_idx = 5 #when using 6hp search space\n",
    "max_hp_idx = 3  #when using 4hp search space\n",
    "\n",
    "hps = df[df.columns[min_hp_idx:max_hp_idx+1]].to_numpy()\n",
    "\n",
    "accs = df[df.columns[max_hp_idx+1:max_hp_idx+1+int(num_epochs*known_curve)]].to_numpy()\n",
    "target_acc = df[df.columns[max_hp_idx+num_epochs]].to_numpy()\n",
    "\n",
    "losses = df[df.columns[max_hp_idx+num_epochs+1:max_hp_idx+num_epochs+1+int(num_epochs*known_curve)]].to_numpy()\n",
    "target_loss = df[df.columns[max_hp_idx+num_epochs+num_epochs]].to_numpy()"
   ]
  },
  {
   "cell_type": "code",
   "execution_count": 9,
   "metadata": {},
   "outputs": [],
   "source": [
    "#calculate finite diferences of 1st and 2nd order\n",
    "def finite_difs(curve):\n",
    "    difs1 = []\n",
    "    for i in range(curve.shape[0]):\n",
    "        difs1.append([])\n",
    "        for j in range(1,curve.shape[1]):\n",
    "            difs1[i].append(curve[i][j]-curve[i][j-1])\n",
    "    difs2 = []\n",
    "    for i in range(curve.shape[0]):\n",
    "        difs2.append([])\n",
    "        for j in range(1,len(difs1[0])):\n",
    "            difs2[i].append(difs1[i][j]-difs1[i][j-1])\n",
    "    difs1 = np.array(difs1)\n",
    "    difs2 = np.array(difs2)\n",
    "    return difs1, difs2\n",
    "#X = np.append(np.append(X,difs1,1),difs2,1)\n",
    "#X.shape"
   ]
  },
  {
   "cell_type": "code",
   "execution_count": 10,
   "metadata": {},
   "outputs": [],
   "source": [
    "#for loss prediction\n",
    "difs1, difs2 = finite_difs(losses)\n",
    "X = np.append(np.append(np.append(hps,losses,1),difs1,1),difs2,1)\n",
    "y = target_loss\n"
   ]
  },
  {
   "cell_type": "code",
   "execution_count": 13,
   "metadata": {},
   "outputs": [
    {
     "data": {
      "text/plain": [
       "['y_scaler.joblib']"
      ]
     },
     "execution_count": 13,
     "metadata": {},
     "output_type": "execute_result"
    }
   ],
   "source": [
    "#scale\n",
    "x_scaler = MinMaxScaler()\n",
    "y_scaler = MinMaxScaler()\n",
    "X = x_scaler.fit_transform(X)\n",
    "y = y_scaler.fit_transform(y.reshape(-1, 1))\n",
    "#save the scalers so that they can be used when using the SVR in another program\n",
    "dump(x_scaler,\"x_scaler.joblib\") \n",
    "dump(y_scaler,\"y_scaler.joblib\")"
   ]
  },
  {
   "cell_type": "code",
   "execution_count": 905,
   "metadata": {},
   "outputs": [
    {
     "name": "stdout",
     "output_type": "stream",
     "text": [
      "(240, 10) (60, 10)\n"
     ]
    }
   ],
   "source": [
    "#split in train test\n",
    "X_train, X_test, y_train, y_test = train_test_split(X, y, test_size=0.2, random_state=0)\n",
    "print(str(X_train.shape)+\" \"+str(X_test.shape))"
   ]
  },
  {
   "cell_type": "code",
   "execution_count": 906,
   "metadata": {},
   "outputs": [
    {
     "data": {
      "text/plain": [
       "NuSVR()"
      ]
     },
     "execution_count": 906,
     "metadata": {},
     "output_type": "execute_result"
    }
   ],
   "source": [
    "#instatiate and train predictor\n",
    "model = NuSVR()\n",
    "model.fit(X_train,y_train.ravel())"
   ]
  },
  {
   "cell_type": "code",
   "execution_count": null,
   "metadata": {},
   "outputs": [],
   "source": [
    "#Save model\n",
    "filename = \"modelo.joblib\"\n",
    "dump(model, \"modelo.joblib\")"
   ]
  },
  {
   "cell_type": "code",
   "execution_count": 907,
   "metadata": {},
   "outputs": [
    {
     "data": {
      "text/plain": [
       "0.000575563741164598"
      ]
     },
     "execution_count": 907,
     "metadata": {},
     "output_type": "execute_result"
    }
   ],
   "source": [
    "#MSE\n",
    "y_pred = model.predict(X_test)\n",
    "mean_squared_error(y_test,y_pred)"
   ]
  },
  {
   "cell_type": "code",
   "execution_count": 908,
   "metadata": {},
   "outputs": [
    {
     "data": {
      "text/plain": [
       "0.9728998874168934"
      ]
     },
     "execution_count": 908,
     "metadata": {},
     "output_type": "execute_result"
    }
   ],
   "source": [
    "#R^2\n",
    "model.score(X_test,y_test)"
   ]
  },
  {
   "cell_type": "code",
   "execution_count": 909,
   "metadata": {},
   "outputs": [
    {
     "data": {
      "text/plain": [
       "(array([0.98500818, 0.28838295, 0.96011379, 0.94721253, 0.87933589]),\n",
       " 0.8120106661175267,\n",
       " 0.2641442384797953)"
      ]
     },
     "execution_count": 909,
     "metadata": {},
     "output_type": "execute_result"
    }
   ],
   "source": [
    "cvs = cross_val_score(model, X_train, y_train.ravel(), cv = 5, scoring='r2')\n",
    "cvs, cvs.mean(), cvs.std()"
   ]
  },
  {
   "cell_type": "code",
   "execution_count": 887,
   "metadata": {},
   "outputs": [
    {
     "data": {
      "text/plain": [
       "(0.7663090107089143, 7.3135497213543115, 0.8924509605431109, 'scale')"
      ]
     },
     "execution_count": 887,
     "metadata": {},
     "output_type": "execute_result"
    }
   ],
   "source": [
    "#try to optimize regressor hps\n",
    "\n",
    "from sklearn.model_selection import cross_val_score\n",
    "\n",
    "best, C_best, Nu_best, gamma_best = -inf, -inf, -inf, -inf\n",
    "for _ in range(1000):\n",
    "    C = np.exp(np.random.uniform(np.log(1e-3),np.log(10.0)))\n",
    "    Nu = np.random.uniform(0,1)\n",
    "    gamma = \"scale\"\n",
    "    model = NuSVR(C=C,nu=Nu,gamma=gamma)\n",
    "    cvs = cross_val_score(model, X_train, y_train.ravel(), cv = 5, scoring='r2').mean()\n",
    "    if best < cvs:\n",
    "        best = cvs\n",
    "        C_best, Nu_best, gamma_best = C, Nu, gamma\n",
    "best, C_best, Nu_best, gamma_best"
   ]
  },
  {
   "cell_type": "code",
   "execution_count": 888,
   "metadata": {},
   "outputs": [
    {
     "data": {
      "text/plain": [
       "0.7663090107089143"
      ]
     },
     "execution_count": 888,
     "metadata": {},
     "output_type": "execute_result"
    }
   ],
   "source": [
    "model = NuSVR(C=C_best,nu=Nu_best,gamma=gamma_best)\n",
    "model.fit(X_train,y_train.ravel())\n",
    "\n",
    "cvs = cross_val_score(model, X_train, y_train.ravel(), cv = 5, scoring='r2').mean()\n",
    "cvs"
   ]
  },
  {
   "cell_type": "code",
   "execution_count": 889,
   "metadata": {},
   "outputs": [
    {
     "data": {
      "text/plain": [
       "(0.0005593760485826635, 0.9531359618257825)"
      ]
     },
     "execution_count": 889,
     "metadata": {},
     "output_type": "execute_result"
    }
   ],
   "source": [
    "#model.fit(X_train,y_train.ravel())\n",
    "y_pred = model.predict(X_test)\n",
    "mean_squared_error(y_test,y_pred), model.score(X_test,y_test)"
   ]
  }
 ],
 "metadata": {
  "kernelspec": {
   "display_name": "Python 3.9.12 ('py39')",
   "language": "python",
   "name": "python3"
  },
  "language_info": {
   "codemirror_mode": {
    "name": "ipython",
    "version": 3
   },
   "file_extension": ".py",
   "mimetype": "text/x-python",
   "name": "python",
   "nbconvert_exporter": "python",
   "pygments_lexer": "ipython3",
   "version": "3.9.12"
  },
  "orig_nbformat": 4,
  "vscode": {
   "interpreter": {
    "hash": "1ac4248432e308955067782465497de26ed69bab2d310610bc1af3ad0fd9ab68"
   }
  }
 },
 "nbformat": 4,
 "nbformat_minor": 2
}
