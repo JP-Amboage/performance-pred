{
 "cells": [
  {
   "cell_type": "code",
   "execution_count": 6,
   "metadata": {},
   "outputs": [],
   "source": [
    "import pickle\n",
    "import pandas as pd"
   ]
  },
  {
   "cell_type": "code",
   "execution_count": 2,
   "metadata": {},
   "outputs": [
    {
     "data": {
      "text/plain": [
       "299"
      ]
     },
     "execution_count": 2,
     "metadata": {},
     "output_type": "execute_result"
    }
   ],
   "source": [
    "with open(\"../data/mlpf/delphes_trainings.pkl\", \"rb\") as f:\n",
    "    data = pickle.load(f)\n",
    "len(data.keys())"
   ]
  },
  {
   "cell_type": "code",
   "execution_count": 3,
   "metadata": {},
   "outputs": [],
   "source": [
    "columns = [\"bin_size\",\"dropout\",\"lr\",\"n_glayers_id\",\"n_glayers_reg\",\"output_dim\",\"weight_decay\"]\n",
    "columns.extend([\"loss_\"+str(i) for i in range(100)])"
   ]
  },
  {
   "cell_type": "code",
   "execution_count": 4,
   "metadata": {},
   "outputs": [
    {
     "data": {
      "text/html": [
       "<div>\n",
       "<style scoped>\n",
       "    .dataframe tbody tr th:only-of-type {\n",
       "        vertical-align: middle;\n",
       "    }\n",
       "\n",
       "    .dataframe tbody tr th {\n",
       "        vertical-align: top;\n",
       "    }\n",
       "\n",
       "    .dataframe thead th {\n",
       "        text-align: right;\n",
       "    }\n",
       "</style>\n",
       "<table border=\"1\" class=\"dataframe\">\n",
       "  <thead>\n",
       "    <tr style=\"text-align: right;\">\n",
       "      <th></th>\n",
       "      <th>bin_size</th>\n",
       "      <th>dropout</th>\n",
       "      <th>lr</th>\n",
       "      <th>n_glayers_id</th>\n",
       "      <th>n_glayers_reg</th>\n",
       "      <th>output_dim</th>\n",
       "      <th>weight_decay</th>\n",
       "      <th>loss_0</th>\n",
       "      <th>loss_1</th>\n",
       "      <th>loss_2</th>\n",
       "      <th>...</th>\n",
       "      <th>loss_90</th>\n",
       "      <th>loss_91</th>\n",
       "      <th>loss_92</th>\n",
       "      <th>loss_93</th>\n",
       "      <th>loss_94</th>\n",
       "      <th>loss_95</th>\n",
       "      <th>loss_96</th>\n",
       "      <th>loss_97</th>\n",
       "      <th>loss_98</th>\n",
       "      <th>loss_99</th>\n",
       "    </tr>\n",
       "  </thead>\n",
       "  <tbody>\n",
       "    <tr>\n",
       "      <th>0</th>\n",
       "      <td>64.0</td>\n",
       "      <td>0.449385</td>\n",
       "      <td>0.009435</td>\n",
       "      <td>0.0</td>\n",
       "      <td>3.0</td>\n",
       "      <td>256.0</td>\n",
       "      <td>0.000044</td>\n",
       "      <td>484.088806</td>\n",
       "      <td>459.301514</td>\n",
       "      <td>455.343811</td>\n",
       "      <td>...</td>\n",
       "      <td>447.429688</td>\n",
       "      <td>447.619354</td>\n",
       "      <td>447.439209</td>\n",
       "      <td>447.404633</td>\n",
       "      <td>447.566406</td>\n",
       "      <td>447.313049</td>\n",
       "      <td>447.398407</td>\n",
       "      <td>447.414673</td>\n",
       "      <td>447.228088</td>\n",
       "      <td>447.501160</td>\n",
       "    </tr>\n",
       "    <tr>\n",
       "      <th>1</th>\n",
       "      <td>64.0</td>\n",
       "      <td>0.089148</td>\n",
       "      <td>0.000039</td>\n",
       "      <td>4.0</td>\n",
       "      <td>2.0</td>\n",
       "      <td>32.0</td>\n",
       "      <td>0.001984</td>\n",
       "      <td>533.915894</td>\n",
       "      <td>530.372620</td>\n",
       "      <td>531.893738</td>\n",
       "      <td>...</td>\n",
       "      <td>529.851562</td>\n",
       "      <td>529.258301</td>\n",
       "      <td>529.493103</td>\n",
       "      <td>530.038452</td>\n",
       "      <td>529.909546</td>\n",
       "      <td>528.990479</td>\n",
       "      <td>528.480469</td>\n",
       "      <td>528.026733</td>\n",
       "      <td>528.153503</td>\n",
       "      <td>528.540161</td>\n",
       "    </tr>\n",
       "    <tr>\n",
       "      <th>2</th>\n",
       "      <td>16.0</td>\n",
       "      <td>0.486632</td>\n",
       "      <td>0.000276</td>\n",
       "      <td>2.0</td>\n",
       "      <td>4.0</td>\n",
       "      <td>64.0</td>\n",
       "      <td>0.000065</td>\n",
       "      <td>523.189575</td>\n",
       "      <td>465.601929</td>\n",
       "      <td>461.147034</td>\n",
       "      <td>...</td>\n",
       "      <td>450.873169</td>\n",
       "      <td>450.938354</td>\n",
       "      <td>450.910492</td>\n",
       "      <td>450.801270</td>\n",
       "      <td>450.888123</td>\n",
       "      <td>450.814850</td>\n",
       "      <td>450.916229</td>\n",
       "      <td>450.814087</td>\n",
       "      <td>450.843414</td>\n",
       "      <td>450.758148</td>\n",
       "    </tr>\n",
       "    <tr>\n",
       "      <th>3</th>\n",
       "      <td>32.0</td>\n",
       "      <td>0.172208</td>\n",
       "      <td>0.000042</td>\n",
       "      <td>3.0</td>\n",
       "      <td>2.0</td>\n",
       "      <td>64.0</td>\n",
       "      <td>0.000007</td>\n",
       "      <td>543.986328</td>\n",
       "      <td>484.317230</td>\n",
       "      <td>472.085449</td>\n",
       "      <td>...</td>\n",
       "      <td>448.064484</td>\n",
       "      <td>448.042389</td>\n",
       "      <td>447.977570</td>\n",
       "      <td>447.926147</td>\n",
       "      <td>447.885559</td>\n",
       "      <td>447.846802</td>\n",
       "      <td>447.796967</td>\n",
       "      <td>447.781799</td>\n",
       "      <td>447.710571</td>\n",
       "      <td>447.668335</td>\n",
       "    </tr>\n",
       "    <tr>\n",
       "      <th>4</th>\n",
       "      <td>32.0</td>\n",
       "      <td>0.172208</td>\n",
       "      <td>0.000042</td>\n",
       "      <td>3.0</td>\n",
       "      <td>2.0</td>\n",
       "      <td>64.0</td>\n",
       "      <td>0.000007</td>\n",
       "      <td>543.924561</td>\n",
       "      <td>484.485809</td>\n",
       "      <td>472.445312</td>\n",
       "      <td>...</td>\n",
       "      <td>448.215912</td>\n",
       "      <td>544.031372</td>\n",
       "      <td>484.386292</td>\n",
       "      <td>472.220398</td>\n",
       "      <td>467.484924</td>\n",
       "      <td>464.688690</td>\n",
       "      <td>462.955078</td>\n",
       "      <td>461.424591</td>\n",
       "      <td>460.127716</td>\n",
       "      <td>459.114685</td>\n",
       "    </tr>\n",
       "  </tbody>\n",
       "</table>\n",
       "<p>5 rows × 107 columns</p>\n",
       "</div>"
      ],
      "text/plain": [
       "   bin_size   dropout        lr  n_glayers_id  n_glayers_reg  output_dim  \\\n",
       "0      64.0  0.449385  0.009435           0.0            3.0       256.0   \n",
       "1      64.0  0.089148  0.000039           4.0            2.0        32.0   \n",
       "2      16.0  0.486632  0.000276           2.0            4.0        64.0   \n",
       "3      32.0  0.172208  0.000042           3.0            2.0        64.0   \n",
       "4      32.0  0.172208  0.000042           3.0            2.0        64.0   \n",
       "\n",
       "   weight_decay      loss_0      loss_1      loss_2  ...     loss_90  \\\n",
       "0      0.000044  484.088806  459.301514  455.343811  ...  447.429688   \n",
       "1      0.001984  533.915894  530.372620  531.893738  ...  529.851562   \n",
       "2      0.000065  523.189575  465.601929  461.147034  ...  450.873169   \n",
       "3      0.000007  543.986328  484.317230  472.085449  ...  448.064484   \n",
       "4      0.000007  543.924561  484.485809  472.445312  ...  448.215912   \n",
       "\n",
       "      loss_91     loss_92     loss_93     loss_94     loss_95     loss_96  \\\n",
       "0  447.619354  447.439209  447.404633  447.566406  447.313049  447.398407   \n",
       "1  529.258301  529.493103  530.038452  529.909546  528.990479  528.480469   \n",
       "2  450.938354  450.910492  450.801270  450.888123  450.814850  450.916229   \n",
       "3  448.042389  447.977570  447.926147  447.885559  447.846802  447.796967   \n",
       "4  544.031372  484.386292  472.220398  467.484924  464.688690  462.955078   \n",
       "\n",
       "      loss_97     loss_98     loss_99  \n",
       "0  447.414673  447.228088  447.501160  \n",
       "1  528.026733  528.153503  528.540161  \n",
       "2  450.814087  450.843414  450.758148  \n",
       "3  447.781799  447.710571  447.668335  \n",
       "4  461.424591  460.127716  459.114685  \n",
       "\n",
       "[5 rows x 107 columns]"
      ]
     },
     "execution_count": 4,
     "metadata": {},
     "output_type": "execute_result"
    }
   ],
   "source": [
    "df = pd.DataFrame(columns=columns)\n",
    "for k in data.keys():\n",
    "    curve = data[k][0]\n",
    "    config = data[k][1]\n",
    "    if curve.shape[0] >= 100:\n",
    "        row = config.iloc[0].values.tolist()[1:]\n",
    "        for i in range(100):\n",
    "            row.append(float(curve[\"loss\"][i]))\n",
    "        if len(row)==len(columns):\n",
    "            df.loc[len(df.index)] = row\n",
    "df.head()"
   ]
  },
  {
   "cell_type": "code",
   "execution_count": 8,
   "metadata": {},
   "outputs": [
    {
     "data": {
      "text/plain": [
       "597.3092651367188"
      ]
     },
     "execution_count": 8,
     "metadata": {},
     "output_type": "execute_result"
    }
   ],
   "source": [
    "hist(df['loss_99'])"
   ]
  },
  {
   "cell_type": "code",
   "execution_count": 5,
   "metadata": {},
   "outputs": [
    {
     "data": {
      "text/plain": [
       "(296, 107)"
      ]
     },
     "execution_count": 5,
     "metadata": {},
     "output_type": "execute_result"
    }
   ],
   "source": [
    "df.to_csv(\"../data/mlpf/delphes_trainings_processed.csv\", encoding='utf-8', index=False)\n",
    "df.shape"
   ]
  }
 ],
 "metadata": {
  "kernelspec": {
   "display_name": "Python 3.9.12 ('py39')",
   "language": "python",
   "name": "python3"
  },
  "language_info": {
   "codemirror_mode": {
    "name": "ipython",
    "version": 3
   },
   "file_extension": ".py",
   "mimetype": "text/x-python",
   "name": "python",
   "nbconvert_exporter": "python",
   "pygments_lexer": "ipython3",
   "version": "3.9.12"
  },
  "orig_nbformat": 4,
  "vscode": {
   "interpreter": {
    "hash": "1ac4248432e308955067782465497de26ed69bab2d310610bc1af3ad0fd9ab68"
   }
  }
 },
 "nbformat": 4,
 "nbformat_minor": 2
}
